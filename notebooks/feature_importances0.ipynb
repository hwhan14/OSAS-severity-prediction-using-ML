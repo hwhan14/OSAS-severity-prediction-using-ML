{
 "cells": [
  {
   "cell_type": "code",
   "execution_count": 1,
   "id": "5662ea24",
   "metadata": {
    "execution": {
     "iopub.execute_input": "2022-06-28T11:06:00.109576Z",
     "iopub.status.busy": "2022-06-28T11:06:00.108452Z",
     "iopub.status.idle": "2022-06-28T11:06:04.007170Z",
     "shell.execute_reply": "2022-06-28T11:06:04.006085Z"
    },
    "papermill": {
     "duration": 3.922935,
     "end_time": "2022-06-28T11:06:04.009898",
     "exception": false,
     "start_time": "2022-06-28T11:06:00.086963",
     "status": "completed"
    },
    "tags": []
   },
   "outputs": [
    {
     "name": "stderr",
     "output_type": "stream",
     "text": [
      "/Users/hannahan/opt/anaconda3/lib/python3.9/site-packages/xgboost/compat.py:36: FutureWarning: pandas.Int64Index is deprecated and will be removed from pandas in a future version. Use pandas.Index with the appropriate dtype instead.\n",
      "  from pandas import MultiIndex, Int64Index\n"
     ]
    }
   ],
   "source": [
    "import numpy as np\n",
    "import pandas as pd\n",
    "import seaborn as sns\n",
    "import matplotlib.pyplot as plt\n",
    "import textwrap\n",
    "from sklearn.metrics import *\n",
    "from sklearn.preprocessing import MinMaxScaler\n",
    "from sklearn.model_selection import GridSearchCV, RandomizedSearchCV\n",
    "from sklearn.linear_model import LogisticRegression\n",
    "from sklearn.svm import SVC\n",
    "from sklearn.ensemble import RandomForestClassifier\n",
    "from sklearn.inspection import permutation_importance\n",
    "from lightgbm import LGBMClassifier\n",
    "from lightgbm import plot_importance as lgbm_plot_importance\n",
    "from xgboost import XGBClassifier\n",
    "from xgboost import plot_importance as xgb_plot_importance"
   ]
  },
  {
   "cell_type": "markdown",
   "id": "354a2a30",
   "metadata": {
    "papermill": {
     "duration": 0.018185,
     "end_time": "2022-06-28T11:06:04.046833",
     "exception": false,
     "start_time": "2022-06-28T11:06:04.028648",
     "status": "completed"
    },
    "tags": []
   },
   "source": [
    "# feature engineering 및 모델별 성능 확인"
   ]
  },
  {
   "cell_type": "markdown",
   "id": "988a8472",
   "metadata": {
    "papermill": {
     "duration": 0.018216,
     "end_time": "2022-06-28T11:06:04.083574",
     "exception": false,
     "start_time": "2022-06-28T11:06:04.065358",
     "status": "completed"
    },
    "tags": []
   },
   "source": [
    "### 평가 지표 함수"
   ]
  },
  {
   "cell_type": "code",
   "execution_count": 2,
   "id": "8a9c1473",
   "metadata": {
    "execution": {
     "iopub.execute_input": "2022-06-28T11:06:04.122903Z",
     "iopub.status.busy": "2022-06-28T11:06:04.122011Z",
     "iopub.status.idle": "2022-06-28T11:06:04.135439Z",
     "shell.execute_reply": "2022-06-28T11:06:04.134293Z"
    },
    "papermill": {
     "duration": 0.035685,
     "end_time": "2022-06-28T11:06:04.137740",
     "exception": false,
     "start_time": "2022-06-28T11:06:04.102055",
     "status": "completed"
    },
    "tags": []
   },
   "outputs": [],
   "source": [
    "def eval_metrics(y_test, title='Confusion Matrix', pred=None, pred_proba=None):\n",
    "    cm = confusion_matrix(y_test, pred)\n",
    "    accuracy = accuracy_score(y_test, pred)\n",
    "    precision = precision_score(y_test, pred)\n",
    "    recall = recall_score(y_test, pred)\n",
    "    f1 = f1_score(y_test, pred)\n",
    "    roc_auc = roc_auc_score(y_test, pred_proba)\n",
    "    \n",
    "    label_names = ['TN', 'FP', 'FN', 'TP']\n",
    "    counts = [\"{0:0.0f}\".format(value) for value in cm.flatten()]\n",
    "    percentages = [\"{0:.2%}\".format(value) for value in cm.flatten()/np.sum(cm)]\n",
    "    labels = [f\"{ln}\\n{c}\\n{p}\" for ln, c, p in zip(label_names, counts, percentages)]\n",
    "    labels = np.asarray(labels).reshape(2, 2)\n",
    "\n",
    "    sns.heatmap(cm, annot=labels, fmt='', cmap='Blues').set(title=title)\n",
    "    plt.show()\n",
    "    \n",
    "    print('accuracy: {0:.4f}, precision: {1:.4f}, recall: {2:.4f}, f1: {3:.4f}, roc_auc: {4:.4f}'.format(accuracy, precision, recall, f1, roc_auc))\n",
    "    \n",
    "    scores_dict = {\n",
    "        'accuracy': accuracy,\n",
    "        'precision': precision, \n",
    "        'recall': recall, \n",
    "        'f1': f1, \n",
    "        'roc_auc': roc_auc\n",
    "    }\n",
    "    return scores_dict"
   ]
  },
  {
   "cell_type": "markdown",
   "id": "e8d88139",
   "metadata": {
    "papermill": {
     "duration": 0.018153,
     "end_time": "2022-06-28T11:06:04.175149",
     "exception": false,
     "start_time": "2022-06-28T11:06:04.156996",
     "status": "completed"
    },
    "tags": []
   },
   "source": [
    "# 0. 별다른 feature engineering 없이 진행"
   ]
  },
  {
   "cell_type": "code",
   "execution_count": 3,
   "id": "b0431946",
   "metadata": {
    "execution": {
     "iopub.execute_input": "2022-06-28T11:06:04.214508Z",
     "iopub.status.busy": "2022-06-28T11:06:04.213446Z",
     "iopub.status.idle": "2022-06-28T11:06:04.327663Z",
     "shell.execute_reply": "2022-06-28T11:06:04.326484Z"
    },
    "papermill": {
     "duration": 0.136485,
     "end_time": "2022-06-28T11:06:04.330130",
     "exception": false,
     "start_time": "2022-06-28T11:06:04.193645",
     "status": "completed"
    },
    "tags": []
   },
   "outputs": [
    {
     "data": {
      "text/html": [
       "<div>\n",
       "<style scoped>\n",
       "    .dataframe tbody tr th:only-of-type {\n",
       "        vertical-align: middle;\n",
       "    }\n",
       "\n",
       "    .dataframe tbody tr th {\n",
       "        vertical-align: top;\n",
       "    }\n",
       "\n",
       "    .dataframe thead th {\n",
       "        text-align: right;\n",
       "    }\n",
       "</style>\n",
       "<table border=\"1\" class=\"dataframe\">\n",
       "  <thead>\n",
       "    <tr style=\"text-align: right;\">\n",
       "      <th></th>\n",
       "      <th>ID</th>\n",
       "      <th>sex</th>\n",
       "      <th>age</th>\n",
       "      <th>height</th>\n",
       "      <th>weight</th>\n",
       "      <th>BMI</th>\n",
       "      <th>Time in Bed(min)</th>\n",
       "      <th>Total sleep time(min)</th>\n",
       "      <th>Sleep latency(min)</th>\n",
       "      <th>N2 sleep latency(min)</th>\n",
       "      <th>...</th>\n",
       "      <th>ODI</th>\n",
       "      <th>90%ODI</th>\n",
       "      <th>EtCO2 (&gt;50mmHg)</th>\n",
       "      <th>Total LMI =PLMI(/h)</th>\n",
       "      <th>Total LM Arousal#</th>\n",
       "      <th>Total LM AI(/h)</th>\n",
       "      <th>PLM Arousal#</th>\n",
       "      <th>PLM AI(/h)</th>\n",
       "      <th>MAI(/h)</th>\n",
       "      <th>OSA</th>\n",
       "    </tr>\n",
       "  </thead>\n",
       "  <tbody>\n",
       "    <tr>\n",
       "      <th>0</th>\n",
       "      <td>2170</td>\n",
       "      <td>0</td>\n",
       "      <td>38</td>\n",
       "      <td>173.0</td>\n",
       "      <td>88.0</td>\n",
       "      <td>29.4</td>\n",
       "      <td>448.9</td>\n",
       "      <td>434.5</td>\n",
       "      <td>5.5</td>\n",
       "      <td>4.0</td>\n",
       "      <td>...</td>\n",
       "      <td>62.6</td>\n",
       "      <td>47.2</td>\n",
       "      <td>0.0</td>\n",
       "      <td>0.0</td>\n",
       "      <td>0.0</td>\n",
       "      <td>0.0</td>\n",
       "      <td>0.0</td>\n",
       "      <td>0.0</td>\n",
       "      <td>0.0</td>\n",
       "      <td>1</td>\n",
       "    </tr>\n",
       "    <tr>\n",
       "      <th>1</th>\n",
       "      <td>3539</td>\n",
       "      <td>1</td>\n",
       "      <td>54</td>\n",
       "      <td>156.0</td>\n",
       "      <td>49.0</td>\n",
       "      <td>20.1</td>\n",
       "      <td>476.0</td>\n",
       "      <td>426.0</td>\n",
       "      <td>3.0</td>\n",
       "      <td>2.5</td>\n",
       "      <td>...</td>\n",
       "      <td>2.4</td>\n",
       "      <td>0.1</td>\n",
       "      <td>0.0</td>\n",
       "      <td>0.0</td>\n",
       "      <td>0.0</td>\n",
       "      <td>0.0</td>\n",
       "      <td>0.0</td>\n",
       "      <td>0.0</td>\n",
       "      <td>0.0</td>\n",
       "      <td>0</td>\n",
       "    </tr>\n",
       "    <tr>\n",
       "      <th>2</th>\n",
       "      <td>108</td>\n",
       "      <td>0</td>\n",
       "      <td>62</td>\n",
       "      <td>164.0</td>\n",
       "      <td>67.0</td>\n",
       "      <td>24.9</td>\n",
       "      <td>435.5</td>\n",
       "      <td>351.0</td>\n",
       "      <td>3.5</td>\n",
       "      <td>1.0</td>\n",
       "      <td>...</td>\n",
       "      <td>7.4</td>\n",
       "      <td>0.3</td>\n",
       "      <td>0.0</td>\n",
       "      <td>16.8</td>\n",
       "      <td>9.0</td>\n",
       "      <td>1.5</td>\n",
       "      <td>0.0</td>\n",
       "      <td>0.0</td>\n",
       "      <td>1.5</td>\n",
       "      <td>1</td>\n",
       "    </tr>\n",
       "    <tr>\n",
       "      <th>3</th>\n",
       "      <td>3149</td>\n",
       "      <td>0</td>\n",
       "      <td>33</td>\n",
       "      <td>175.0</td>\n",
       "      <td>106.0</td>\n",
       "      <td>34.6</td>\n",
       "      <td>404.5</td>\n",
       "      <td>374.5</td>\n",
       "      <td>7.0</td>\n",
       "      <td>3.5</td>\n",
       "      <td>...</td>\n",
       "      <td>19.2</td>\n",
       "      <td>1.0</td>\n",
       "      <td>0.0</td>\n",
       "      <td>0.0</td>\n",
       "      <td>0.0</td>\n",
       "      <td>0.0</td>\n",
       "      <td>0.0</td>\n",
       "      <td>0.0</td>\n",
       "      <td>0.0</td>\n",
       "      <td>1</td>\n",
       "    </tr>\n",
       "    <tr>\n",
       "      <th>4</th>\n",
       "      <td>4893</td>\n",
       "      <td>0</td>\n",
       "      <td>56</td>\n",
       "      <td>164.0</td>\n",
       "      <td>72.0</td>\n",
       "      <td>26.8</td>\n",
       "      <td>359.5</td>\n",
       "      <td>236.5</td>\n",
       "      <td>12.5</td>\n",
       "      <td>11.0</td>\n",
       "      <td>...</td>\n",
       "      <td>70.5</td>\n",
       "      <td>54.0</td>\n",
       "      <td>0.0</td>\n",
       "      <td>0.0</td>\n",
       "      <td>0.0</td>\n",
       "      <td>0.0</td>\n",
       "      <td>0.0</td>\n",
       "      <td>0.0</td>\n",
       "      <td>0.0</td>\n",
       "      <td>1</td>\n",
       "    </tr>\n",
       "  </tbody>\n",
       "</table>\n",
       "<p>5 rows × 79 columns</p>\n",
       "</div>"
      ],
      "text/plain": [
       "     ID  sex  age  height  weight   BMI  Time in Bed(min)  \\\n",
       "0  2170    0   38   173.0    88.0  29.4             448.9   \n",
       "1  3539    1   54   156.0    49.0  20.1             476.0   \n",
       "2   108    0   62   164.0    67.0  24.9             435.5   \n",
       "3  3149    0   33   175.0   106.0  34.6             404.5   \n",
       "4  4893    0   56   164.0    72.0  26.8             359.5   \n",
       "\n",
       "   Total sleep time(min)  Sleep latency(min)  N2 sleep latency(min)  ...  \\\n",
       "0                  434.5                 5.5                    4.0  ...   \n",
       "1                  426.0                 3.0                    2.5  ...   \n",
       "2                  351.0                 3.5                    1.0  ...   \n",
       "3                  374.5                 7.0                    3.5  ...   \n",
       "4                  236.5                12.5                   11.0  ...   \n",
       "\n",
       "    ODI  90%ODI  EtCO2 (>50mmHg)  Total LMI =PLMI(/h)  Total LM Arousal#  \\\n",
       "0  62.6    47.2              0.0                  0.0                0.0   \n",
       "1   2.4     0.1              0.0                  0.0                0.0   \n",
       "2   7.4     0.3              0.0                 16.8                9.0   \n",
       "3  19.2     1.0              0.0                  0.0                0.0   \n",
       "4  70.5    54.0              0.0                  0.0                0.0   \n",
       "\n",
       "   Total LM AI(/h)  PLM Arousal#  PLM AI(/h)  MAI(/h)  OSA  \n",
       "0              0.0           0.0         0.0      0.0    1  \n",
       "1              0.0           0.0         0.0      0.0    0  \n",
       "2              1.5           0.0         0.0      1.5    1  \n",
       "3              0.0           0.0         0.0      0.0    1  \n",
       "4              0.0           0.0         0.0      0.0    1  \n",
       "\n",
       "[5 rows x 79 columns]"
      ]
     },
     "execution_count": 3,
     "metadata": {},
     "output_type": "execute_result"
    }
   ],
   "source": [
    "train_a = pd.read_csv('../data/osa_train_a.csv')\n",
    "train_a.head()"
   ]
  },
  {
   "cell_type": "code",
   "execution_count": 4,
   "id": "bbab2dce",
   "metadata": {
    "execution": {
     "iopub.execute_input": "2022-06-28T11:06:04.369692Z",
     "iopub.status.busy": "2022-06-28T11:06:04.369020Z",
     "iopub.status.idle": "2022-06-28T11:06:04.422807Z",
     "shell.execute_reply": "2022-06-28T11:06:04.421408Z"
    },
    "papermill": {
     "duration": 0.077269,
     "end_time": "2022-06-28T11:06:04.426503",
     "exception": false,
     "start_time": "2022-06-28T11:06:04.349234",
     "status": "completed"
    },
    "scrolled": true,
    "tags": []
   },
   "outputs": [
    {
     "data": {
      "text/html": [
       "<div>\n",
       "<style scoped>\n",
       "    .dataframe tbody tr th:only-of-type {\n",
       "        vertical-align: middle;\n",
       "    }\n",
       "\n",
       "    .dataframe tbody tr th {\n",
       "        vertical-align: top;\n",
       "    }\n",
       "\n",
       "    .dataframe thead th {\n",
       "        text-align: right;\n",
       "    }\n",
       "</style>\n",
       "<table border=\"1\" class=\"dataframe\">\n",
       "  <thead>\n",
       "    <tr style=\"text-align: right;\">\n",
       "      <th></th>\n",
       "      <th>ID</th>\n",
       "      <th>sex</th>\n",
       "      <th>age</th>\n",
       "      <th>height</th>\n",
       "      <th>weight</th>\n",
       "      <th>BMI</th>\n",
       "      <th>Time in Bed(min)</th>\n",
       "      <th>Total sleep time(min)</th>\n",
       "      <th>Sleep latency(min)</th>\n",
       "      <th>N2 sleep latency(min)</th>\n",
       "      <th>...</th>\n",
       "      <th>ODI</th>\n",
       "      <th>90%ODI</th>\n",
       "      <th>EtCO2 (&gt;50mmHg)</th>\n",
       "      <th>Total LMI =PLMI(/h)</th>\n",
       "      <th>Total LM Arousal#</th>\n",
       "      <th>Total LM AI(/h)</th>\n",
       "      <th>PLM Arousal#</th>\n",
       "      <th>PLM AI(/h)</th>\n",
       "      <th>MAI(/h)</th>\n",
       "      <th>OSA</th>\n",
       "    </tr>\n",
       "  </thead>\n",
       "  <tbody>\n",
       "    <tr>\n",
       "      <th>0</th>\n",
       "      <td>2021</td>\n",
       "      <td>1</td>\n",
       "      <td>47</td>\n",
       "      <td>164.0</td>\n",
       "      <td>55.0</td>\n",
       "      <td>20.4</td>\n",
       "      <td>362.0</td>\n",
       "      <td>343.0</td>\n",
       "      <td>5.5</td>\n",
       "      <td>2.0</td>\n",
       "      <td>...</td>\n",
       "      <td>7.5</td>\n",
       "      <td>1.0</td>\n",
       "      <td>0.0</td>\n",
       "      <td>11.4</td>\n",
       "      <td>5.0</td>\n",
       "      <td>0.9</td>\n",
       "      <td>5.0</td>\n",
       "      <td>0.9</td>\n",
       "      <td>1.8</td>\n",
       "      <td>1</td>\n",
       "    </tr>\n",
       "    <tr>\n",
       "      <th>1</th>\n",
       "      <td>1506</td>\n",
       "      <td>0</td>\n",
       "      <td>64</td>\n",
       "      <td>175.0</td>\n",
       "      <td>75.0</td>\n",
       "      <td>24.5</td>\n",
       "      <td>395.0</td>\n",
       "      <td>342.0</td>\n",
       "      <td>5.0</td>\n",
       "      <td>4.5</td>\n",
       "      <td>...</td>\n",
       "      <td>9.5</td>\n",
       "      <td>0.4</td>\n",
       "      <td>0.0</td>\n",
       "      <td>0.4</td>\n",
       "      <td>2.0</td>\n",
       "      <td>0.4</td>\n",
       "      <td>0.0</td>\n",
       "      <td>0.0</td>\n",
       "      <td>0.4</td>\n",
       "      <td>0</td>\n",
       "    </tr>\n",
       "    <tr>\n",
       "      <th>2</th>\n",
       "      <td>3160</td>\n",
       "      <td>0</td>\n",
       "      <td>34</td>\n",
       "      <td>170.0</td>\n",
       "      <td>79.0</td>\n",
       "      <td>27.3</td>\n",
       "      <td>415.0</td>\n",
       "      <td>363.5</td>\n",
       "      <td>7.5</td>\n",
       "      <td>20.5</td>\n",
       "      <td>...</td>\n",
       "      <td>5.3</td>\n",
       "      <td>0.7</td>\n",
       "      <td>0.0</td>\n",
       "      <td>0.0</td>\n",
       "      <td>0.0</td>\n",
       "      <td>0.0</td>\n",
       "      <td>0.0</td>\n",
       "      <td>0.0</td>\n",
       "      <td>0.0</td>\n",
       "      <td>1</td>\n",
       "    </tr>\n",
       "    <tr>\n",
       "      <th>3</th>\n",
       "      <td>1092</td>\n",
       "      <td>0</td>\n",
       "      <td>66</td>\n",
       "      <td>167.0</td>\n",
       "      <td>68.0</td>\n",
       "      <td>24.4</td>\n",
       "      <td>318.0</td>\n",
       "      <td>104.0</td>\n",
       "      <td>21.0</td>\n",
       "      <td>6.5</td>\n",
       "      <td>...</td>\n",
       "      <td>67.5</td>\n",
       "      <td>31.7</td>\n",
       "      <td>0.0</td>\n",
       "      <td>0.0</td>\n",
       "      <td>0.0</td>\n",
       "      <td>0.0</td>\n",
       "      <td>0.0</td>\n",
       "      <td>0.0</td>\n",
       "      <td>0.0</td>\n",
       "      <td>1</td>\n",
       "    </tr>\n",
       "    <tr>\n",
       "      <th>4</th>\n",
       "      <td>5043</td>\n",
       "      <td>0</td>\n",
       "      <td>60</td>\n",
       "      <td>169.0</td>\n",
       "      <td>67.0</td>\n",
       "      <td>23.5</td>\n",
       "      <td>383.0</td>\n",
       "      <td>310.0</td>\n",
       "      <td>6.5</td>\n",
       "      <td>4.0</td>\n",
       "      <td>...</td>\n",
       "      <td>31.5</td>\n",
       "      <td>2.5</td>\n",
       "      <td>0.0</td>\n",
       "      <td>0.0</td>\n",
       "      <td>0.0</td>\n",
       "      <td>0.0</td>\n",
       "      <td>0.0</td>\n",
       "      <td>0.0</td>\n",
       "      <td>0.0</td>\n",
       "      <td>1</td>\n",
       "    </tr>\n",
       "  </tbody>\n",
       "</table>\n",
       "<p>5 rows × 79 columns</p>\n",
       "</div>"
      ],
      "text/plain": [
       "     ID  sex  age  height  weight   BMI  Time in Bed(min)  \\\n",
       "0  2021    1   47   164.0    55.0  20.4             362.0   \n",
       "1  1506    0   64   175.0    75.0  24.5             395.0   \n",
       "2  3160    0   34   170.0    79.0  27.3             415.0   \n",
       "3  1092    0   66   167.0    68.0  24.4             318.0   \n",
       "4  5043    0   60   169.0    67.0  23.5             383.0   \n",
       "\n",
       "   Total sleep time(min)  Sleep latency(min)  N2 sleep latency(min)  ...  \\\n",
       "0                  343.0                 5.5                    2.0  ...   \n",
       "1                  342.0                 5.0                    4.5  ...   \n",
       "2                  363.5                 7.5                   20.5  ...   \n",
       "3                  104.0                21.0                    6.5  ...   \n",
       "4                  310.0                 6.5                    4.0  ...   \n",
       "\n",
       "    ODI  90%ODI  EtCO2 (>50mmHg)  Total LMI =PLMI(/h)  Total LM Arousal#  \\\n",
       "0   7.5     1.0              0.0                 11.4                5.0   \n",
       "1   9.5     0.4              0.0                  0.4                2.0   \n",
       "2   5.3     0.7              0.0                  0.0                0.0   \n",
       "3  67.5    31.7              0.0                  0.0                0.0   \n",
       "4  31.5     2.5              0.0                  0.0                0.0   \n",
       "\n",
       "   Total LM AI(/h)  PLM Arousal#  PLM AI(/h)  MAI(/h)  OSA  \n",
       "0              0.9           5.0         0.9      1.8    1  \n",
       "1              0.4           0.0         0.0      0.4    0  \n",
       "2              0.0           0.0         0.0      0.0    1  \n",
       "3              0.0           0.0         0.0      0.0    1  \n",
       "4              0.0           0.0         0.0      0.0    1  \n",
       "\n",
       "[5 rows x 79 columns]"
      ]
     },
     "execution_count": 4,
     "metadata": {},
     "output_type": "execute_result"
    }
   ],
   "source": [
    "test_a = pd.read_csv('../data/osa_test_a.csv')\n",
    "test_a.head()"
   ]
  },
  {
   "cell_type": "code",
   "execution_count": 5,
   "id": "c8ee51d4",
   "metadata": {
    "execution": {
     "iopub.execute_input": "2022-06-28T11:06:04.468046Z",
     "iopub.status.busy": "2022-06-28T11:06:04.467672Z",
     "iopub.status.idle": "2022-06-28T11:06:04.478839Z",
     "shell.execute_reply": "2022-06-28T11:06:04.477659Z"
    },
    "papermill": {
     "duration": 0.034278,
     "end_time": "2022-06-28T11:06:04.481290",
     "exception": false,
     "start_time": "2022-06-28T11:06:04.447012",
     "status": "completed"
    },
    "tags": []
   },
   "outputs": [],
   "source": [
    "X_train_a = train_a.drop(['ID', 'OSA'], axis=1)\n",
    "y_train_a = train_a['OSA']"
   ]
  },
  {
   "cell_type": "code",
   "execution_count": 6,
   "id": "51fe5ba6",
   "metadata": {
    "execution": {
     "iopub.execute_input": "2022-06-28T11:06:04.521722Z",
     "iopub.status.busy": "2022-06-28T11:06:04.521301Z",
     "iopub.status.idle": "2022-06-28T11:06:04.528103Z",
     "shell.execute_reply": "2022-06-28T11:06:04.527036Z"
    },
    "papermill": {
     "duration": 0.029755,
     "end_time": "2022-06-28T11:06:04.530386",
     "exception": false,
     "start_time": "2022-06-28T11:06:04.500631",
     "status": "completed"
    },
    "tags": []
   },
   "outputs": [],
   "source": [
    "X_test_a = test_a.drop(['ID', 'OSA'], axis=1)\n",
    "y_test_a = test_a['OSA']"
   ]
  },
  {
   "cell_type": "code",
   "execution_count": 7,
   "id": "0d79d827",
   "metadata": {
    "execution": {
     "iopub.execute_input": "2022-06-28T11:06:04.571531Z",
     "iopub.status.busy": "2022-06-28T11:06:04.570473Z",
     "iopub.status.idle": "2022-06-28T11:06:04.596088Z",
     "shell.execute_reply": "2022-06-28T11:06:04.594674Z"
    },
    "papermill": {
     "duration": 0.048846,
     "end_time": "2022-06-28T11:06:04.598619",
     "exception": false,
     "start_time": "2022-06-28T11:06:04.549773",
     "status": "completed"
    },
    "tags": []
   },
   "outputs": [
    {
     "name": "stdout",
     "output_type": "stream",
     "text": [
      "Training data shape:  (4121, 77)\n",
      "Testing data shape:  (1031, 77)\n"
     ]
    }
   ],
   "source": [
    "features_a = list(X_train_a.columns)\n",
    "train = X_train_a.copy()\n",
    "test = X_test_a.copy()\n",
    "\n",
    "scaler = MinMaxScaler(feature_range=(0,1))\n",
    "\n",
    "scaler.fit(train)\n",
    "train_a = scaler.transform(train)\n",
    "test_a = scaler.transform(test)\n",
    "\n",
    "print('Training data shape: ', train.shape)\n",
    "print('Testing data shape: ', test.shape)"
   ]
  },
  {
   "cell_type": "code",
   "execution_count": 8,
   "id": "ebc2f9ef",
   "metadata": {
    "execution": {
     "iopub.execute_input": "2022-06-28T11:06:04.639619Z",
     "iopub.status.busy": "2022-06-28T11:06:04.638906Z",
     "iopub.status.idle": "2022-06-28T11:06:04.731273Z",
     "shell.execute_reply": "2022-06-28T11:06:04.730119Z"
    },
    "papermill": {
     "duration": 0.115853,
     "end_time": "2022-06-28T11:06:04.734002",
     "exception": false,
     "start_time": "2022-06-28T11:06:04.618149",
     "status": "completed"
    },
    "tags": []
   },
   "outputs": [
    {
     "data": {
      "text/html": [
       "<div>\n",
       "<style scoped>\n",
       "    .dataframe tbody tr th:only-of-type {\n",
       "        vertical-align: middle;\n",
       "    }\n",
       "\n",
       "    .dataframe tbody tr th {\n",
       "        vertical-align: top;\n",
       "    }\n",
       "\n",
       "    .dataframe thead th {\n",
       "        text-align: right;\n",
       "    }\n",
       "</style>\n",
       "<table border=\"1\" class=\"dataframe\">\n",
       "  <thead>\n",
       "    <tr style=\"text-align: right;\">\n",
       "      <th></th>\n",
       "      <th>ID</th>\n",
       "      <th>sex</th>\n",
       "      <th>age</th>\n",
       "      <th>height</th>\n",
       "      <th>weight</th>\n",
       "      <th>BMI</th>\n",
       "      <th>Time in Bed(min)</th>\n",
       "      <th>Total sleep time(min)</th>\n",
       "      <th>Sleep latency(min)</th>\n",
       "      <th>REM sleep latency(min)</th>\n",
       "      <th>...</th>\n",
       "      <th>Lateral A+H+RERA_ Index(h)</th>\n",
       "      <th>REM A+H+RERA Index(/h)</th>\n",
       "      <th>NREM A+H+RERA Index(/h)</th>\n",
       "      <th>Apnea_Max_ Length(sec)</th>\n",
       "      <th>Hypopnea_Max_ Length(sec)</th>\n",
       "      <th>Resp. Arousal /(A+H)(%)</th>\n",
       "      <th>ODI</th>\n",
       "      <th>90%ODI</th>\n",
       "      <th>EtCO2 (&gt;50mmHg)</th>\n",
       "      <th>OSA</th>\n",
       "    </tr>\n",
       "  </thead>\n",
       "  <tbody>\n",
       "    <tr>\n",
       "      <th>0</th>\n",
       "      <td>4238</td>\n",
       "      <td>0</td>\n",
       "      <td>39</td>\n",
       "      <td>170.0</td>\n",
       "      <td>65.0</td>\n",
       "      <td>22.5</td>\n",
       "      <td>480.5</td>\n",
       "      <td>435.0</td>\n",
       "      <td>2.5</td>\n",
       "      <td>63.0</td>\n",
       "      <td>...</td>\n",
       "      <td>4.2</td>\n",
       "      <td>11.6</td>\n",
       "      <td>8.2</td>\n",
       "      <td>0.0</td>\n",
       "      <td>69.2</td>\n",
       "      <td>87.9</td>\n",
       "      <td>2.3</td>\n",
       "      <td>0.0</td>\n",
       "      <td>0.0</td>\n",
       "      <td>1</td>\n",
       "    </tr>\n",
       "    <tr>\n",
       "      <th>1</th>\n",
       "      <td>1630</td>\n",
       "      <td>0</td>\n",
       "      <td>41</td>\n",
       "      <td>172.0</td>\n",
       "      <td>77.0</td>\n",
       "      <td>26.0</td>\n",
       "      <td>338.5</td>\n",
       "      <td>187.0</td>\n",
       "      <td>3.0</td>\n",
       "      <td>86.5</td>\n",
       "      <td>...</td>\n",
       "      <td>0.0</td>\n",
       "      <td>41.7</td>\n",
       "      <td>19.8</td>\n",
       "      <td>83.4</td>\n",
       "      <td>101.6</td>\n",
       "      <td>38.2</td>\n",
       "      <td>23.7</td>\n",
       "      <td>5.5</td>\n",
       "      <td>0.0</td>\n",
       "      <td>1</td>\n",
       "    </tr>\n",
       "    <tr>\n",
       "      <th>2</th>\n",
       "      <td>2711</td>\n",
       "      <td>0</td>\n",
       "      <td>64</td>\n",
       "      <td>166.0</td>\n",
       "      <td>69.0</td>\n",
       "      <td>25.0</td>\n",
       "      <td>450.0</td>\n",
       "      <td>376.0</td>\n",
       "      <td>8.0</td>\n",
       "      <td>62.0</td>\n",
       "      <td>...</td>\n",
       "      <td>20.7</td>\n",
       "      <td>54.1</td>\n",
       "      <td>42.5</td>\n",
       "      <td>57.4</td>\n",
       "      <td>112.9</td>\n",
       "      <td>79.9</td>\n",
       "      <td>31.9</td>\n",
       "      <td>8.3</td>\n",
       "      <td>0.0</td>\n",
       "      <td>1</td>\n",
       "    </tr>\n",
       "    <tr>\n",
       "      <th>3</th>\n",
       "      <td>662</td>\n",
       "      <td>1</td>\n",
       "      <td>58</td>\n",
       "      <td>157.0</td>\n",
       "      <td>56.0</td>\n",
       "      <td>22.7</td>\n",
       "      <td>394.0</td>\n",
       "      <td>371.0</td>\n",
       "      <td>1.0</td>\n",
       "      <td>188.5</td>\n",
       "      <td>...</td>\n",
       "      <td>0.0</td>\n",
       "      <td>51.9</td>\n",
       "      <td>32.1</td>\n",
       "      <td>47.0</td>\n",
       "      <td>62.7</td>\n",
       "      <td>19.2</td>\n",
       "      <td>33.0</td>\n",
       "      <td>8.1</td>\n",
       "      <td>0.0</td>\n",
       "      <td>1</td>\n",
       "    </tr>\n",
       "    <tr>\n",
       "      <th>4</th>\n",
       "      <td>4666</td>\n",
       "      <td>1</td>\n",
       "      <td>29</td>\n",
       "      <td>154.0</td>\n",
       "      <td>50.0</td>\n",
       "      <td>21.1</td>\n",
       "      <td>278.0</td>\n",
       "      <td>252.0</td>\n",
       "      <td>0.0</td>\n",
       "      <td>0.0</td>\n",
       "      <td>...</td>\n",
       "      <td>0.0</td>\n",
       "      <td>0.0</td>\n",
       "      <td>0.0</td>\n",
       "      <td>0.0</td>\n",
       "      <td>0.0</td>\n",
       "      <td>0.0</td>\n",
       "      <td>0.0</td>\n",
       "      <td>0.0</td>\n",
       "      <td>0.0</td>\n",
       "      <td>0</td>\n",
       "    </tr>\n",
       "  </tbody>\n",
       "</table>\n",
       "<p>5 rows × 63 columns</p>\n",
       "</div>"
      ],
      "text/plain": [
       "     ID  sex  age  height  weight   BMI  Time in Bed(min)  \\\n",
       "0  4238    0   39   170.0    65.0  22.5             480.5   \n",
       "1  1630    0   41   172.0    77.0  26.0             338.5   \n",
       "2  2711    0   64   166.0    69.0  25.0             450.0   \n",
       "3   662    1   58   157.0    56.0  22.7             394.0   \n",
       "4  4666    1   29   154.0    50.0  21.1             278.0   \n",
       "\n",
       "   Total sleep time(min)  Sleep latency(min)  REM sleep latency(min)  ...  \\\n",
       "0                  435.0                 2.5                    63.0  ...   \n",
       "1                  187.0                 3.0                    86.5  ...   \n",
       "2                  376.0                 8.0                    62.0  ...   \n",
       "3                  371.0                 1.0                   188.5  ...   \n",
       "4                  252.0                 0.0                     0.0  ...   \n",
       "\n",
       "   Lateral A+H+RERA_ Index(h)  REM A+H+RERA Index(/h)  \\\n",
       "0                         4.2                    11.6   \n",
       "1                         0.0                    41.7   \n",
       "2                        20.7                    54.1   \n",
       "3                         0.0                    51.9   \n",
       "4                         0.0                     0.0   \n",
       "\n",
       "   NREM A+H+RERA Index(/h)  Apnea_Max_ Length(sec)  Hypopnea_Max_ Length(sec)  \\\n",
       "0                      8.2                     0.0                       69.2   \n",
       "1                     19.8                    83.4                      101.6   \n",
       "2                     42.5                    57.4                      112.9   \n",
       "3                     32.1                    47.0                       62.7   \n",
       "4                      0.0                     0.0                        0.0   \n",
       "\n",
       "   Resp. Arousal /(A+H)(%)   ODI  90%ODI  EtCO2 (>50mmHg)  OSA  \n",
       "0                     87.9   2.3     0.0              0.0    1  \n",
       "1                     38.2  23.7     5.5              0.0    1  \n",
       "2                     79.9  31.9     8.3              0.0    1  \n",
       "3                     19.2  33.0     8.1              0.0    1  \n",
       "4                      0.0   0.0     0.0              0.0    0  \n",
       "\n",
       "[5 rows x 63 columns]"
      ]
     },
     "execution_count": 8,
     "metadata": {},
     "output_type": "execute_result"
    }
   ],
   "source": [
    "train_b = pd.read_csv('../data/osa_train_b.csv')\n",
    "train_b.head()"
   ]
  },
  {
   "cell_type": "code",
   "execution_count": 10,
   "id": "e7f907f5",
   "metadata": {
    "execution": {
     "iopub.execute_input": "2022-06-28T11:06:04.777442Z",
     "iopub.status.busy": "2022-06-28T11:06:04.776467Z",
     "iopub.status.idle": "2022-06-28T11:06:04.829448Z",
     "shell.execute_reply": "2022-06-28T11:06:04.827382Z"
    },
    "papermill": {
     "duration": 0.076675,
     "end_time": "2022-06-28T11:06:04.832119",
     "exception": false,
     "start_time": "2022-06-28T11:06:04.755444",
     "status": "completed"
    },
    "tags": []
   },
   "outputs": [
    {
     "data": {
      "text/html": [
       "<div>\n",
       "<style scoped>\n",
       "    .dataframe tbody tr th:only-of-type {\n",
       "        vertical-align: middle;\n",
       "    }\n",
       "\n",
       "    .dataframe tbody tr th {\n",
       "        vertical-align: top;\n",
       "    }\n",
       "\n",
       "    .dataframe thead th {\n",
       "        text-align: right;\n",
       "    }\n",
       "</style>\n",
       "<table border=\"1\" class=\"dataframe\">\n",
       "  <thead>\n",
       "    <tr style=\"text-align: right;\">\n",
       "      <th></th>\n",
       "      <th>ID</th>\n",
       "      <th>sex</th>\n",
       "      <th>age</th>\n",
       "      <th>height</th>\n",
       "      <th>weight</th>\n",
       "      <th>BMI</th>\n",
       "      <th>Time in Bed(min)</th>\n",
       "      <th>Total sleep time(min)</th>\n",
       "      <th>Sleep latency(min)</th>\n",
       "      <th>REM sleep latency(min)</th>\n",
       "      <th>...</th>\n",
       "      <th>Lateral A+H+RERA_ Index(h)</th>\n",
       "      <th>REM A+H+RERA Index(/h)</th>\n",
       "      <th>NREM A+H+RERA Index(/h)</th>\n",
       "      <th>Apnea_Max_ Length(sec)</th>\n",
       "      <th>Hypopnea_Max_ Length(sec)</th>\n",
       "      <th>Resp. Arousal /(A+H)(%)</th>\n",
       "      <th>ODI</th>\n",
       "      <th>90%ODI</th>\n",
       "      <th>EtCO2 (&gt;50mmHg)</th>\n",
       "      <th>OSA</th>\n",
       "    </tr>\n",
       "  </thead>\n",
       "  <tbody>\n",
       "    <tr>\n",
       "      <th>0</th>\n",
       "      <td>3402</td>\n",
       "      <td>1</td>\n",
       "      <td>35</td>\n",
       "      <td>164.0</td>\n",
       "      <td>56.0</td>\n",
       "      <td>20.8</td>\n",
       "      <td>486.5</td>\n",
       "      <td>452.0</td>\n",
       "      <td>11.0</td>\n",
       "      <td>41.0</td>\n",
       "      <td>...</td>\n",
       "      <td>0.0</td>\n",
       "      <td>0.0</td>\n",
       "      <td>0.0</td>\n",
       "      <td>0.0</td>\n",
       "      <td>0.0</td>\n",
       "      <td>0.0</td>\n",
       "      <td>0.0</td>\n",
       "      <td>0.0</td>\n",
       "      <td>0.0</td>\n",
       "      <td>0</td>\n",
       "    </tr>\n",
       "    <tr>\n",
       "      <th>1</th>\n",
       "      <td>4990</td>\n",
       "      <td>0</td>\n",
       "      <td>41</td>\n",
       "      <td>175.0</td>\n",
       "      <td>92.0</td>\n",
       "      <td>30.0</td>\n",
       "      <td>510.0</td>\n",
       "      <td>492.5</td>\n",
       "      <td>5.0</td>\n",
       "      <td>91.0</td>\n",
       "      <td>...</td>\n",
       "      <td>6.3</td>\n",
       "      <td>16.2</td>\n",
       "      <td>6.6</td>\n",
       "      <td>0.0</td>\n",
       "      <td>79.2</td>\n",
       "      <td>63.6</td>\n",
       "      <td>7.1</td>\n",
       "      <td>0.0</td>\n",
       "      <td>0.0</td>\n",
       "      <td>1</td>\n",
       "    </tr>\n",
       "    <tr>\n",
       "      <th>2</th>\n",
       "      <td>2171</td>\n",
       "      <td>0</td>\n",
       "      <td>54</td>\n",
       "      <td>169.0</td>\n",
       "      <td>82.0</td>\n",
       "      <td>28.7</td>\n",
       "      <td>416.0</td>\n",
       "      <td>312.5</td>\n",
       "      <td>7.0</td>\n",
       "      <td>109.5</td>\n",
       "      <td>...</td>\n",
       "      <td>45.3</td>\n",
       "      <td>50.7</td>\n",
       "      <td>73.2</td>\n",
       "      <td>49.7</td>\n",
       "      <td>65.6</td>\n",
       "      <td>83.8</td>\n",
       "      <td>58.0</td>\n",
       "      <td>30.3</td>\n",
       "      <td>0.0</td>\n",
       "      <td>1</td>\n",
       "    </tr>\n",
       "    <tr>\n",
       "      <th>3</th>\n",
       "      <td>508</td>\n",
       "      <td>0</td>\n",
       "      <td>45</td>\n",
       "      <td>180.0</td>\n",
       "      <td>76.0</td>\n",
       "      <td>23.5</td>\n",
       "      <td>375.0</td>\n",
       "      <td>342.5</td>\n",
       "      <td>4.0</td>\n",
       "      <td>132.5</td>\n",
       "      <td>...</td>\n",
       "      <td>0.0</td>\n",
       "      <td>34.0</td>\n",
       "      <td>5.1</td>\n",
       "      <td>24.5</td>\n",
       "      <td>67.6</td>\n",
       "      <td>62.3</td>\n",
       "      <td>4.4</td>\n",
       "      <td>0.7</td>\n",
       "      <td>0.0</td>\n",
       "      <td>1</td>\n",
       "    </tr>\n",
       "    <tr>\n",
       "      <th>4</th>\n",
       "      <td>3448</td>\n",
       "      <td>0</td>\n",
       "      <td>47</td>\n",
       "      <td>174.0</td>\n",
       "      <td>110.0</td>\n",
       "      <td>36.3</td>\n",
       "      <td>222.0</td>\n",
       "      <td>171.0</td>\n",
       "      <td>4.5</td>\n",
       "      <td>62.0</td>\n",
       "      <td>...</td>\n",
       "      <td>108.5</td>\n",
       "      <td>78.7</td>\n",
       "      <td>119.1</td>\n",
       "      <td>52.2</td>\n",
       "      <td>48.5</td>\n",
       "      <td>69.6</td>\n",
       "      <td>112.6</td>\n",
       "      <td>101.1</td>\n",
       "      <td>0.0</td>\n",
       "      <td>1</td>\n",
       "    </tr>\n",
       "  </tbody>\n",
       "</table>\n",
       "<p>5 rows × 63 columns</p>\n",
       "</div>"
      ],
      "text/plain": [
       "     ID  sex  age  height  weight   BMI  Time in Bed(min)  \\\n",
       "0  3402    1   35   164.0    56.0  20.8             486.5   \n",
       "1  4990    0   41   175.0    92.0  30.0             510.0   \n",
       "2  2171    0   54   169.0    82.0  28.7             416.0   \n",
       "3   508    0   45   180.0    76.0  23.5             375.0   \n",
       "4  3448    0   47   174.0   110.0  36.3             222.0   \n",
       "\n",
       "   Total sleep time(min)  Sleep latency(min)  REM sleep latency(min)  ...  \\\n",
       "0                  452.0                11.0                    41.0  ...   \n",
       "1                  492.5                 5.0                    91.0  ...   \n",
       "2                  312.5                 7.0                   109.5  ...   \n",
       "3                  342.5                 4.0                   132.5  ...   \n",
       "4                  171.0                 4.5                    62.0  ...   \n",
       "\n",
       "   Lateral A+H+RERA_ Index(h)  REM A+H+RERA Index(/h)  \\\n",
       "0                         0.0                     0.0   \n",
       "1                         6.3                    16.2   \n",
       "2                        45.3                    50.7   \n",
       "3                         0.0                    34.0   \n",
       "4                       108.5                    78.7   \n",
       "\n",
       "   NREM A+H+RERA Index(/h)  Apnea_Max_ Length(sec)  Hypopnea_Max_ Length(sec)  \\\n",
       "0                      0.0                     0.0                        0.0   \n",
       "1                      6.6                     0.0                       79.2   \n",
       "2                     73.2                    49.7                       65.6   \n",
       "3                      5.1                    24.5                       67.6   \n",
       "4                    119.1                    52.2                       48.5   \n",
       "\n",
       "   Resp. Arousal /(A+H)(%)    ODI  90%ODI  EtCO2 (>50mmHg)  OSA  \n",
       "0                      0.0    0.0     0.0              0.0    0  \n",
       "1                     63.6    7.1     0.0              0.0    1  \n",
       "2                     83.8   58.0    30.3              0.0    1  \n",
       "3                     62.3    4.4     0.7              0.0    1  \n",
       "4                     69.6  112.6   101.1              0.0    1  \n",
       "\n",
       "[5 rows x 63 columns]"
      ]
     },
     "execution_count": 10,
     "metadata": {},
     "output_type": "execute_result"
    }
   ],
   "source": [
    "test_b = pd.read_csv('../data/osa_test_b.csv')\n",
    "test_b.head()"
   ]
  },
  {
   "cell_type": "code",
   "execution_count": 11,
   "id": "9281a854",
   "metadata": {
    "execution": {
     "iopub.execute_input": "2022-06-28T11:06:04.876146Z",
     "iopub.status.busy": "2022-06-28T11:06:04.875765Z",
     "iopub.status.idle": "2022-06-28T11:06:04.883099Z",
     "shell.execute_reply": "2022-06-28T11:06:04.882050Z"
    },
    "papermill": {
     "duration": 0.031422,
     "end_time": "2022-06-28T11:06:04.885403",
     "exception": false,
     "start_time": "2022-06-28T11:06:04.853981",
     "status": "completed"
    },
    "tags": []
   },
   "outputs": [],
   "source": [
    "X_train_b = train_b.drop(['ID', 'OSA'], axis=1)\n",
    "y_train_b = train_b['OSA']"
   ]
  },
  {
   "cell_type": "code",
   "execution_count": 12,
   "id": "81c9def5",
   "metadata": {
    "execution": {
     "iopub.execute_input": "2022-06-28T11:06:04.928818Z",
     "iopub.status.busy": "2022-06-28T11:06:04.927789Z",
     "iopub.status.idle": "2022-06-28T11:06:04.935060Z",
     "shell.execute_reply": "2022-06-28T11:06:04.933991Z"
    },
    "papermill": {
     "duration": 0.031587,
     "end_time": "2022-06-28T11:06:04.937522",
     "exception": false,
     "start_time": "2022-06-28T11:06:04.905935",
     "status": "completed"
    },
    "tags": []
   },
   "outputs": [],
   "source": [
    "X_test_b = test_b.drop(['ID', 'OSA'], axis=1)\n",
    "y_test_b = test_b['OSA']"
   ]
  },
  {
   "cell_type": "code",
   "execution_count": 13,
   "id": "b3814506",
   "metadata": {
    "execution": {
     "iopub.execute_input": "2022-06-28T11:06:04.981264Z",
     "iopub.status.busy": "2022-06-28T11:06:04.980315Z",
     "iopub.status.idle": "2022-06-28T11:06:05.003044Z",
     "shell.execute_reply": "2022-06-28T11:06:05.001359Z"
    },
    "papermill": {
     "duration": 0.048268,
     "end_time": "2022-06-28T11:06:05.006688",
     "exception": false,
     "start_time": "2022-06-28T11:06:04.958420",
     "status": "completed"
    },
    "tags": []
   },
   "outputs": [
    {
     "name": "stdout",
     "output_type": "stream",
     "text": [
      "Training data shape:  (4347, 61)\n",
      "Testing data shape:  (1087, 61)\n"
     ]
    }
   ],
   "source": [
    "features_b = list(X_train_b.columns)\n",
    "train = X_train_b.copy()\n",
    "test = X_test_b.copy()\n",
    "\n",
    "scaler = MinMaxScaler(feature_range=(0,1))\n",
    "\n",
    "scaler.fit(train)\n",
    "train_b = scaler.transform(train)\n",
    "test_b = scaler.transform(test)\n",
    "\n",
    "print('Training data shape: ', train.shape)\n",
    "print('Testing data shape: ', test.shape)"
   ]
  },
  {
   "cell_type": "markdown",
   "id": "15802942",
   "metadata": {
    "papermill": {
     "duration": 0.023764,
     "end_time": "2022-06-28T11:13:50.246034",
     "exception": false,
     "start_time": "2022-06-28T11:13:50.222270",
     "status": "completed"
    },
    "tags": []
   },
   "source": [
    "## 0-3. Random Forest"
   ]
  },
  {
   "cell_type": "markdown",
   "id": "9cde1948",
   "metadata": {
    "papermill": {
     "duration": 0.024162,
     "end_time": "2022-06-28T11:13:50.294103",
     "exception": false,
     "start_time": "2022-06-28T11:13:50.269941",
     "status": "completed"
    },
    "tags": []
   },
   "source": [
    "### A. with osa_data_a"
   ]
  },
  {
   "cell_type": "code",
   "execution_count": 14,
   "id": "61bdd72e",
   "metadata": {
    "execution": {
     "iopub.execute_input": "2022-06-28T11:13:50.346174Z",
     "iopub.status.busy": "2022-06-28T11:13:50.345125Z",
     "iopub.status.idle": "2022-06-28T11:26:43.858754Z",
     "shell.execute_reply": "2022-06-28T11:26:43.857650Z"
    },
    "papermill": {
     "duration": 773.566418,
     "end_time": "2022-06-28T11:26:43.885144",
     "exception": false,
     "start_time": "2022-06-28T11:13:50.318726",
     "status": "completed"
    },
    "tags": []
   },
   "outputs": [
    {
     "name": "stdout",
     "output_type": "stream",
     "text": [
      "{'max_depth': 8, 'min_samples_leaf': 6, 'min_samples_split': 20, 'n_estimators': 10}\n",
      "0.9153113363604527\n"
     ]
    }
   ],
   "source": [
    "params_dict = {\n",
    "    'n_estimators': [10, 50, 100],\n",
    "    'max_depth': [2, 4, 6, 8, 10, 12],\n",
    "    'min_samples_leaf': [2, 4, 6, 8, 12, 18],\n",
    "    'min_samples_split': [2, 4, 6, 8, 16, 20]\n",
    "}\n",
    "\n",
    "grid_rf = GridSearchCV(RandomForestClassifier(random_state=42), params_dict, cv=3, refit=True)\n",
    "grid_rf.fit(train_a, y_train_a)\n",
    "\n",
    "print(grid_rf.best_params_)\n",
    "print(grid_rf.best_score_)"
   ]
  },
  {
   "cell_type": "code",
   "execution_count": 15,
   "id": "683886d7",
   "metadata": {
    "execution": {
     "iopub.execute_input": "2022-06-28T11:26:43.934959Z",
     "iopub.status.busy": "2022-06-28T11:26:43.934076Z",
     "iopub.status.idle": "2022-06-28T11:26:43.946837Z",
     "shell.execute_reply": "2022-06-28T11:26:43.945763Z"
    },
    "papermill": {
     "duration": 0.040029,
     "end_time": "2022-06-28T11:26:43.949058",
     "exception": false,
     "start_time": "2022-06-28T11:26:43.909029",
     "status": "completed"
    },
    "tags": []
   },
   "outputs": [
    {
     "data": {
      "text/plain": [
       "array([1, 1, 1, ..., 0, 1, 1])"
      ]
     },
     "execution_count": 15,
     "metadata": {},
     "output_type": "execute_result"
    }
   ],
   "source": [
    "y_pred_proba = grid_rf.best_estimator_.predict_proba(test_a)[:,1]\n",
    "y_pred = (y_pred_proba > 0.5).astype(int)\n",
    "y_pred"
   ]
  },
  {
   "cell_type": "code",
   "execution_count": 16,
   "id": "d48137f2",
   "metadata": {
    "execution": {
     "iopub.execute_input": "2022-06-28T11:26:44.000427Z",
     "iopub.status.busy": "2022-06-28T11:26:43.998385Z",
     "iopub.status.idle": "2022-06-28T11:26:44.247836Z",
     "shell.execute_reply": "2022-06-28T11:26:44.246732Z"
    },
    "papermill": {
     "duration": 0.277219,
     "end_time": "2022-06-28T11:26:44.250473",
     "exception": false,
     "start_time": "2022-06-28T11:26:43.973254",
     "status": "completed"
    },
    "tags": []
   },
   "outputs": [
    {
     "data": {
      "image/png": "[encoded data removed]",
      "text/plain": [
       "<Figure size 432x288 with 2 Axes>"
      ]
     },
     "metadata": {
      "needs_background": "light"
     },
     "output_type": "display_data"
    },
    {
     "name": "stdout",
     "output_type": "stream",
     "text": [
      "accuracy: 0.9156, precision: 0.9276, recall: 0.9624, f1: 0.9447, roc_auc: 0.9658\n"
     ]
    }
   ],
   "source": [
    "scores = eval_metrics(y_test_a, title=\"Confusion Matrix(Random Forest A)\", pred=y_pred, pred_proba=y_pred_proba)"
   ]
  },
  {
   "cell_type": "code",
   "execution_count": 17,
   "id": "0afa218d",
   "metadata": {
    "execution": {
     "iopub.execute_input": "2022-06-28T11:26:44.360518Z",
     "iopub.status.busy": "2022-06-28T11:26:44.359451Z",
     "iopub.status.idle": "2022-06-28T11:26:44.367796Z",
     "shell.execute_reply": "2022-06-28T11:26:44.366858Z"
    },
    "papermill": {
     "duration": 0.036282,
     "end_time": "2022-06-28T11:26:44.370130",
     "exception": false,
     "start_time": "2022-06-28T11:26:44.333848",
     "status": "completed"
    },
    "tags": []
   },
   "outputs": [],
   "source": [
    "forest = grid_rf.best_estimator_\n",
    "importances = forest.feature_importances_\n",
    "std = np.std([tree.feature_importances_ for tree in forest.estimators_], axis=0)"
   ]
  },
  {
   "cell_type": "code",
   "execution_count": 18,
   "id": "a7828b2e",
   "metadata": {
    "execution": {
     "iopub.execute_input": "2022-06-28T11:26:44.421595Z",
     "iopub.status.busy": "2022-06-28T11:26:44.420461Z",
     "iopub.status.idle": "2022-06-28T11:26:45.829473Z",
     "shell.execute_reply": "2022-06-28T11:26:45.828129Z"
    },
    "papermill": {
     "duration": 1.43825,
     "end_time": "2022-06-28T11:26:45.832665",
     "exception": false,
     "start_time": "2022-06-28T11:26:44.394415",
     "status": "completed"
    },
    "tags": []
   },
   "outputs": [
    {
     "data": {
      "text/plain": [
       "sex                  0.000147\n",
       "age                  0.001273\n",
       "height               0.006693\n",
       "weight               0.007649\n",
       "BMI                  0.003549\n",
       "                       ...   \n",
       "Total LM Arousal#    0.003164\n",
       "Total LM AI(/h)      0.001737\n",
       "PLM Arousal#         0.001013\n",
       "PLM AI(/h)           0.003405\n",
       "MAI(/h)              0.001052\n",
       "Length: 77, dtype: float64"
      ]
     },
     "execution_count": 18,
     "metadata": {},
     "output_type": "execute_result"
    }
   ],
   "source": [
    "# based on MDI\n",
    "forest_importances = pd.Series(importances, index=features_a)\n",
    "forest_importances"
   ]
  },
  {
   "cell_type": "code",
   "execution_count": 19,
   "id": "e19e6d16",
   "metadata": {
    "execution": {
     "iopub.execute_input": "2022-06-28T11:26:45.888348Z",
     "iopub.status.busy": "2022-06-28T11:26:45.887959Z",
     "iopub.status.idle": "2022-06-28T11:26:50.549493Z",
     "shell.execute_reply": "2022-06-28T11:26:50.548125Z"
    },
    "papermill": {
     "duration": 4.69283,
     "end_time": "2022-06-28T11:26:50.552605",
     "exception": false,
     "start_time": "2022-06-28T11:26:45.859775",
     "status": "completed"
    },
    "tags": []
   },
   "outputs": [
    {
     "data": {
      "text/plain": [
       "sex                  0.000000e+00\n",
       "age                  1.163919e-03\n",
       "height              -1.260912e-03\n",
       "weight              -2.424830e-03\n",
       "BMI                 -1.454898e-03\n",
       "                         ...     \n",
       "Total LM Arousal#    1.110223e-17\n",
       "Total LM AI(/h)     -8.729389e-04\n",
       "PLM Arousal#         0.000000e+00\n",
       "PLM AI(/h)          -7.759457e-04\n",
       "MAI(/h)              9.699321e-04\n",
       "Length: 77, dtype: float64"
      ]
     },
     "execution_count": 19,
     "metadata": {},
     "output_type": "execute_result"
    }
   ],
   "source": [
    "# based on feature permutation\n",
    "permut_importance = permutation_importance(\n",
    "    forest, test_a, y_test_a, n_repeats=10, random_state=42, n_jobs=2\n",
    ")\n",
    "forest_importances = pd.Series(permut_importance.importances_mean, index=features_a)\n",
    "forest_importances"
   ]
  },
  {
   "cell_type": "code",
   "execution_count": 20,
   "id": "f1158d5e",
   "metadata": {
    "execution": {
     "iopub.execute_input": "2022-06-28T11:26:52.410007Z",
     "iopub.status.busy": "2022-06-28T11:26:52.409388Z",
     "iopub.status.idle": "2022-06-28T11:26:52.427591Z",
     "shell.execute_reply": "2022-06-28T11:26:52.426213Z"
    },
    "papermill": {
     "duration": 0.06843,
     "end_time": "2022-06-28T11:26:52.430884",
     "exception": false,
     "start_time": "2022-06-28T11:26:52.362454",
     "status": "completed"
    },
    "scrolled": true,
    "tags": []
   },
   "outputs": [
    {
     "data": {
      "text/plain": [
       "Total_A+H+RERA_ Index(/h)    0.007177\n",
       "Total A+H #                  0.006111\n",
       "REM A+H+RERA Index(/h)       0.003201\n",
       "NREM A+H Index(/h)           0.002328\n",
       "Supine_Apnea_ Index(/h)      0.002134\n",
       "Snore Arousal #              0.001358\n",
       "Resp. Arousal /(A+H)(%)      0.001358\n",
       "Supine Arousal index(h)      0.001261\n",
       "Sleep latency(min)           0.001261\n",
       "age                          0.001164\n",
       "dtype: float64"
      ]
     },
     "execution_count": 20,
     "metadata": {},
     "output_type": "execute_result"
    }
   ],
   "source": [
    "forest_importances.nlargest(n=10)"
   ]
  },
  {
   "cell_type": "code",
   "execution_count": 21,
   "id": "1d1ea82a",
   "metadata": {
    "execution": {
     "iopub.execute_input": "2022-06-28T11:26:52.527159Z",
     "iopub.status.busy": "2022-06-28T11:26:52.526686Z",
     "iopub.status.idle": "2022-06-28T11:26:52.539516Z",
     "shell.execute_reply": "2022-06-28T11:26:52.538274Z"
    },
    "papermill": {
     "duration": 0.064966,
     "end_time": "2022-06-28T11:26:52.543456",
     "exception": false,
     "start_time": "2022-06-28T11:26:52.478490",
     "status": "completed"
    },
    "tags": []
   },
   "outputs": [
    {
     "data": {
      "text/plain": [
       "Total_A+H+RERA_ Index(/h)    0.186254\n",
       "SUPINE A+H Index(/h)         0.142423\n",
       "Total A+H #                  0.118894\n",
       "Total Hypopnea Index(h)      0.077470\n",
       "NREM A+H Index(/h)           0.077230\n",
       "Total- A+H+RERA#             0.043790\n",
       "Supine0 A+H+RERA_Index(h)    0.039270\n",
       "Apnea_Max_ Length(sec)       0.038548\n",
       "Total_Apnea_ Index(/h)       0.028402\n",
       "Total_ apnea #               0.027355\n",
       "dtype: float64"
      ]
     },
     "execution_count": 21,
     "metadata": {},
     "output_type": "execute_result"
    }
   ],
   "source": [
    "mdi_importances = pd.Series(importances, index=features_a)\n",
    "mdi_importances.nlargest(n=10)"
   ]
  },
  {
   "cell_type": "markdown",
   "id": "4a2d0b81",
   "metadata": {
    "papermill": {
     "duration": 0.045934,
     "end_time": "2022-06-28T11:26:52.636828",
     "exception": false,
     "start_time": "2022-06-28T11:26:52.590894",
     "status": "completed"
    },
    "tags": []
   },
   "source": [
    "### B. with osa_data_b"
   ]
  },
  {
   "cell_type": "code",
   "execution_count": 22,
   "id": "1b9ddf1b",
   "metadata": {
    "execution": {
     "iopub.execute_input": "2022-06-28T11:26:52.733536Z",
     "iopub.status.busy": "2022-06-28T11:26:52.732911Z",
     "iopub.status.idle": "2022-06-28T11:39:35.329177Z",
     "shell.execute_reply": "2022-06-28T11:39:35.328044Z"
    },
    "papermill": {
     "duration": 762.675192,
     "end_time": "2022-06-28T11:39:35.359769",
     "exception": false,
     "start_time": "2022-06-28T11:26:52.684577",
     "status": "completed"
    },
    "scrolled": true,
    "tags": []
   },
   "outputs": [
    {
     "name": "stdout",
     "output_type": "stream",
     "text": [
      "{'max_depth': 10, 'min_samples_leaf': 6, 'min_samples_split': 16, 'n_estimators': 50}\n",
      "0.9155739590522199\n"
     ]
    }
   ],
   "source": [
    "grid_rf = GridSearchCV(RandomForestClassifier(random_state=42), params_dict, cv=3, refit=True)\n",
    "grid_rf.fit(train_b, y_train_b)\n",
    "\n",
    "print(grid_rf.best_params_)\n",
    "print(grid_rf.best_score_)"
   ]
  },
  {
   "cell_type": "code",
   "execution_count": 23,
   "id": "298785c5",
   "metadata": {
    "execution": {
     "iopub.execute_input": "2022-06-28T11:39:35.419373Z",
     "iopub.status.busy": "2022-06-28T11:39:35.418972Z",
     "iopub.status.idle": "2022-06-28T11:39:35.443961Z",
     "shell.execute_reply": "2022-06-28T11:39:35.442829Z"
    },
    "papermill": {
     "duration": 0.057361,
     "end_time": "2022-06-28T11:39:35.446409",
     "exception": false,
     "start_time": "2022-06-28T11:39:35.389048",
     "status": "completed"
    },
    "tags": []
   },
   "outputs": [
    {
     "data": {
      "text/plain": [
       "array([0, 1, 1, ..., 1, 1, 1])"
      ]
     },
     "execution_count": 23,
     "metadata": {},
     "output_type": "execute_result"
    }
   ],
   "source": [
    "y_pred_proba = grid_rf.best_estimator_.predict_proba(test_b)[:,1]\n",
    "y_pred = (y_pred_proba > 0.5).astype(int)\n",
    "y_pred"
   ]
  },
  {
   "cell_type": "code",
   "execution_count": 24,
   "id": "2627633d",
   "metadata": {
    "execution": {
     "iopub.execute_input": "2022-06-28T11:39:35.506702Z",
     "iopub.status.busy": "2022-06-28T11:39:35.505667Z",
     "iopub.status.idle": "2022-06-28T11:39:35.750789Z",
     "shell.execute_reply": "2022-06-28T11:39:35.749695Z"
    },
    "papermill": {
     "duration": 0.278088,
     "end_time": "2022-06-28T11:39:35.753308",
     "exception": false,
     "start_time": "2022-06-28T11:39:35.475220",
     "status": "completed"
    },
    "tags": []
   },
   "outputs": [
    {
     "data": {
      "image/png": "[encoded data removed]",
      "text/plain": [
       "<Figure size 432x288 with 2 Axes>"
      ]
     },
     "metadata": {
      "needs_background": "light"
     },
     "output_type": "display_data"
    },
    {
     "name": "stdout",
     "output_type": "stream",
     "text": [
      "accuracy: 0.9292, precision: 0.9334, recall: 0.9772, f1: 0.9548, roc_auc: 0.9751\n"
     ]
    }
   ],
   "source": [
    "scores = eval_metrics(y_test_b, title=\"Confusion Matrix(Random Forest B)\", pred=y_pred, pred_proba=y_pred_proba)"
   ]
  },
  {
   "cell_type": "code",
   "execution_count": 25,
   "id": "3fed2932",
   "metadata": {
    "execution": {
     "iopub.execute_input": "2022-06-28T11:39:35.879415Z",
     "iopub.status.busy": "2022-06-28T11:39:35.879043Z",
     "iopub.status.idle": "2022-06-28T11:39:35.892888Z",
     "shell.execute_reply": "2022-06-28T11:39:35.891816Z"
    },
    "papermill": {
     "duration": 0.045669,
     "end_time": "2022-06-28T11:39:35.894998",
     "exception": false,
     "start_time": "2022-06-28T11:39:35.849329",
     "status": "completed"
    },
    "tags": []
   },
   "outputs": [],
   "source": [
    "forest = grid_rf.best_estimator_\n",
    "importances = forest.feature_importances_\n",
    "std = np.std([tree.feature_importances_ for tree in forest.estimators_], axis=0)"
   ]
  },
  {
   "cell_type": "code",
   "execution_count": 26,
   "id": "1f5092e2",
   "metadata": {
    "execution": {
     "iopub.execute_input": "2022-06-28T11:39:35.956453Z",
     "iopub.status.busy": "2022-06-28T11:39:35.955269Z",
     "iopub.status.idle": "2022-06-28T11:39:37.124718Z",
     "shell.execute_reply": "2022-06-28T11:39:37.123649Z"
    },
    "papermill": {
     "duration": 1.202737,
     "end_time": "2022-06-28T11:39:37.127159",
     "exception": false,
     "start_time": "2022-06-28T11:39:35.924422",
     "status": "completed"
    },
    "tags": []
   },
   "outputs": [
    {
     "data": {
      "text/plain": [
       "sex                          0.001515\n",
       "age                          0.005132\n",
       "height                       0.005254\n",
       "weight                       0.007440\n",
       "BMI                          0.003764\n",
       "                               ...   \n",
       "Hypopnea_Max_ Length(sec)    0.003437\n",
       "Resp. Arousal /(A+H)(%)      0.002464\n",
       "ODI                          0.016556\n",
       "90%ODI                       0.011989\n",
       "EtCO2 (>50mmHg)              0.000000\n",
       "Length: 61, dtype: float64"
      ]
     },
     "execution_count": 26,
     "metadata": {},
     "output_type": "execute_result"
    }
   ],
   "source": [
    "# based on MDI\n",
    "forest_importances = pd.Series(importances, index=features_b)\n",
    "forest_importances"
   ]
  },
  {
   "cell_type": "code",
   "execution_count": 27,
   "id": "318946ca",
   "metadata": {
    "execution": {
     "iopub.execute_input": "2022-06-28T11:39:37.191093Z",
     "iopub.status.busy": "2022-06-28T11:39:37.190691Z",
     "iopub.status.idle": "2022-06-28T11:39:48.729612Z",
     "shell.execute_reply": "2022-06-28T11:39:48.728288Z"
    },
    "papermill": {
     "duration": 11.574189,
     "end_time": "2022-06-28T11:39:48.732761",
     "exception": false,
     "start_time": "2022-06-28T11:39:37.158572",
     "status": "completed"
    },
    "tags": []
   },
   "outputs": [
    {
     "data": {
      "text/plain": [
       "sex                          0.002024\n",
       "age                          0.001380\n",
       "height                       0.001472\n",
       "weight                       0.001656\n",
       "BMI                          0.000920\n",
       "                               ...   \n",
       "Hypopnea_Max_ Length(sec)    0.002852\n",
       "Resp. Arousal /(A+H)(%)      0.000460\n",
       "ODI                          0.001104\n",
       "90%ODI                       0.001380\n",
       "EtCO2 (>50mmHg)              0.000000\n",
       "Length: 61, dtype: float64"
      ]
     },
     "execution_count": 27,
     "metadata": {},
     "output_type": "execute_result"
    }
   ],
   "source": [
    "# based on feature permutation\n",
    "permut_importance = permutation_importance(\n",
    "    forest, test_b, y_test_b, n_repeats=10, random_state=42, n_jobs=2\n",
    ")\n",
    "forest_importances = pd.Series(permut_importance.importances_mean, index=features_b)\n",
    "forest_importances"
   ]
  },
  {
   "cell_type": "code",
   "execution_count": 28,
   "id": "aada37a2",
   "metadata": {
    "execution": {
     "iopub.execute_input": "2022-06-28T11:39:50.047905Z",
     "iopub.status.busy": "2022-06-28T11:39:50.047519Z",
     "iopub.status.idle": "2022-06-28T11:39:50.058304Z",
     "shell.execute_reply": "2022-06-28T11:39:50.057049Z"
    },
    "papermill": {
     "duration": 0.050459,
     "end_time": "2022-06-28T11:39:50.061532",
     "exception": false,
     "start_time": "2022-06-28T11:39:50.011073",
     "status": "completed"
    },
    "scrolled": true,
    "tags": []
   },
   "outputs": [
    {
     "data": {
      "text/plain": [
       "Total Hypopnea Index(h)         0.005060\n",
       "NREM A+H+RERA Index(/h)         0.004692\n",
       "Total- A+H+RERA#                0.004600\n",
       "sleep efficiency(%)             0.004232\n",
       "SUPINE A+H Index(/h)            0.003680\n",
       "Respiratory Aroual index(/h)    0.003404\n",
       "Movement Aroual index(/h)       0.003220\n",
       "Total A+H Index(/h)             0.003220\n",
       "REM sleep latency(min)          0.003220\n",
       "Obstructive apnea #             0.003128\n",
       "dtype: float64"
      ]
     },
     "execution_count": 28,
     "metadata": {},
     "output_type": "execute_result"
    }
   ],
   "source": [
    "forest_importances.nlargest(n=10)"
   ]
  },
  {
   "cell_type": "code",
   "execution_count": 29,
   "id": "21d8dfa7",
   "metadata": {
    "execution": {
     "iopub.execute_input": "2022-06-28T11:39:50.131361Z",
     "iopub.status.busy": "2022-06-28T11:39:50.130639Z",
     "iopub.status.idle": "2022-06-28T11:39:50.140993Z",
     "shell.execute_reply": "2022-06-28T11:39:50.139799Z"
    },
    "papermill": {
     "duration": 0.047521,
     "end_time": "2022-06-28T11:39:50.143518",
     "exception": false,
     "start_time": "2022-06-28T11:39:50.095997",
     "status": "completed"
    },
    "tags": []
   },
   "outputs": [
    {
     "data": {
      "text/plain": [
       "Total A+H Index(/h)             0.173766\n",
       "Total A+H #                     0.101029\n",
       "Total_A+H+RERA_ Index(/h)       0.073978\n",
       "SUPINE A+H Index(/h)            0.073844\n",
       "Respiratory Aroual index(/h)    0.071765\n",
       "Total- A+H+RERA#                0.068109\n",
       "Respriratory Arousal #          0.063950\n",
       "Supine0 A+H+RERA_Index(h)       0.046465\n",
       "Total Hypopnea Index(h)         0.035502\n",
       "Obstructive apnea #             0.033456\n",
       "dtype: float64"
      ]
     },
     "execution_count": 29,
     "metadata": {},
     "output_type": "execute_result"
    }
   ],
   "source": [
    "mdi_importances = pd.Series(importances, index=features_b)\n",
    "mdi_importances.nlargest(n=10)"
   ]
  }
 ],
 "metadata": {
  "kernelspec": {
   "display_name": "Python 3 (ipykernel)",
   "language": "python",
   "name": "python3"
  },
  "language_info": {
   "codemirror_mode": {
    "name": "ipython",
    "version": 3
   },
   "file_extension": ".py",
   "mimetype": "text/x-python",
   "name": "python",
   "nbconvert_exporter": "python",
   "pygments_lexer": "ipython3",
   "version": "3.9.7"
  },
  "papermill": {
   "default_parameters": {},
   "duration": 2043.707155,
   "end_time": "2022-06-28T11:39:53.205345",
   "environment_variables": {},
   "exception": true,
   "input_path": "__notebook__.ipynb",
   "output_path": "__notebook__.ipynb",
   "parameters": {},
   "start_time": "2022-06-28T11:05:49.498190",
   "version": "2.3.4"
  }
 },
 "nbformat": 4,
 "nbformat_minor": 5
}
