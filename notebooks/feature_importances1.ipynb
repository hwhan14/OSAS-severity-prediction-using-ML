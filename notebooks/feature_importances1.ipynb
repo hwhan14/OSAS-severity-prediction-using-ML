{
 "cells": [
  {
   "cell_type": "code",
   "execution_count": 1,
   "id": "b38ae916",
   "metadata": {
    "execution": {
     "iopub.execute_input": "2022-06-29T12:16:06.516121Z",
     "iopub.status.busy": "2022-06-29T12:16:06.514953Z",
     "iopub.status.idle": "2022-06-29T12:16:09.684873Z",
     "shell.execute_reply": "2022-06-29T12:16:09.683919Z"
    },
    "papermill": {
     "duration": 3.181378,
     "end_time": "2022-06-29T12:16:09.687296",
     "exception": false,
     "start_time": "2022-06-29T12:16:06.505918",
     "status": "completed"
    },
    "tags": []
   },
   "outputs": [
    {
     "data": {
      "text/html": [
       "<style type='text/css'>\n",
       ".datatable table.frame { margin-bottom: 0; }\n",
       ".datatable table.frame thead { border-bottom: none; }\n",
       ".datatable table.frame tr.coltypes td {  color: #FFFFFF;  line-height: 6px;  padding: 0 0.5em;}\n",
       ".datatable .bool    { background: #DDDD99; }\n",
       ".datatable .object  { background: #565656; }\n",
       ".datatable .int     { background: #5D9E5D; }\n",
       ".datatable .float   { background: #4040CC; }\n",
       ".datatable .str     { background: #CC4040; }\n",
       ".datatable .time    { background: #40CC40; }\n",
       ".datatable .row_index {  background: var(--jp-border-color3);  border-right: 1px solid var(--jp-border-color0);  color: var(--jp-ui-font-color3);  font-size: 9px;}\n",
       ".datatable .frame tbody td { text-align: left; }\n",
       ".datatable .frame tr.coltypes .row_index {  background: var(--jp-border-color0);}\n",
       ".datatable th:nth-child(2) { padding-left: 12px; }\n",
       ".datatable .hellipsis {  color: var(--jp-cell-editor-border-color);}\n",
       ".datatable .vellipsis {  background: var(--jp-layout-color0);  color: var(--jp-cell-editor-border-color);}\n",
       ".datatable .na {  color: var(--jp-cell-editor-border-color);  font-size: 80%;}\n",
       ".datatable .sp {  opacity: 0.25;}\n",
       ".datatable .footer { font-size: 9px; }\n",
       ".datatable .frame_dimensions {  background: var(--jp-border-color3);  border-top: 1px solid var(--jp-border-color0);  color: var(--jp-ui-font-color3);  display: inline-block;  opacity: 0.6;  padding: 1px 10px 1px 5px;}\n",
       "</style>\n"
      ],
      "text/plain": [
       "<IPython.core.display.HTML object>"
      ]
     },
     "metadata": {},
     "output_type": "display_data"
    }
   ],
   "source": [
    "import numpy as np\n",
    "import pandas as pd\n",
    "import seaborn as sns\n",
    "import matplotlib.pyplot as plt\n",
    "import textwrap\n",
    "from sklearn.metrics import *\n",
    "from sklearn.preprocessing import MinMaxScaler\n",
    "from sklearn.model_selection import GridSearchCV, RandomizedSearchCV\n",
    "from sklearn.linear_model import LogisticRegression\n",
    "from sklearn.svm import SVC\n",
    "from sklearn.ensemble import RandomForestClassifier\n",
    "from sklearn.inspection import permutation_importance\n",
    "from lightgbm import LGBMClassifier\n",
    "from lightgbm import plot_importance as lgbm_plot_importance\n",
    "from xgboost import XGBClassifier\n",
    "from xgboost import plot_importance as xgb_plot_importance"
   ]
  },
  {
   "cell_type": "markdown",
   "id": "cf98eb97",
   "metadata": {
    "papermill": {
     "duration": 0.006881,
     "end_time": "2022-06-29T12:16:09.701202",
     "exception": false,
     "start_time": "2022-06-29T12:16:09.694321",
     "status": "completed"
    },
    "tags": []
   },
   "source": [
    "# feature engineering 및 모델별 성능 확인"
   ]
  },
  {
   "cell_type": "markdown",
   "id": "4e18952e",
   "metadata": {
    "papermill": {
     "duration": 0.00661,
     "end_time": "2022-06-29T12:16:09.714247",
     "exception": false,
     "start_time": "2022-06-29T12:16:09.707637",
     "status": "completed"
    },
    "tags": []
   },
   "source": [
    "### 평가 지표 함수"
   ]
  },
  {
   "cell_type": "code",
   "execution_count": 2,
   "id": "d14efcbe",
   "metadata": {
    "execution": {
     "iopub.execute_input": "2022-06-29T12:16:09.728238Z",
     "iopub.status.busy": "2022-06-29T12:16:09.727950Z",
     "iopub.status.idle": "2022-06-29T12:16:09.737749Z",
     "shell.execute_reply": "2022-06-29T12:16:09.736929Z"
    },
    "papermill": {
     "duration": 0.019144,
     "end_time": "2022-06-29T12:16:09.739818",
     "exception": false,
     "start_time": "2022-06-29T12:16:09.720674",
     "status": "completed"
    },
    "tags": []
   },
   "outputs": [],
   "source": [
    "def eval_metrics(y_test, title='Confusion Matrix', pred=None, pred_proba=None):\n",
    "    cm = confusion_matrix(y_test, pred)\n",
    "    accuracy = accuracy_score(y_test, pred)\n",
    "    precision = precision_score(y_test, pred)\n",
    "    recall = recall_score(y_test, pred)\n",
    "    f1 = f1_score(y_test, pred)\n",
    "    roc_auc = roc_auc_score(y_test, pred_proba)\n",
    "    \n",
    "    label_names = ['TN', 'FP', 'FN', 'TP']\n",
    "    counts = [\"{0:0.0f}\".format(value) for value in cm.flatten()]\n",
    "    percentages = [\"{0:.2%}\".format(value) for value in cm.flatten()/np.sum(cm)]\n",
    "    labels = [f\"{ln}\\n{c}\\n{p}\" for ln, c, p in zip(label_names, counts, percentages)]\n",
    "    labels = np.asarray(labels).reshape(2, 2)\n",
    "\n",
    "    sns.heatmap(cm, annot=labels, fmt='', cmap='Blues').set(title=title)\n",
    "    plt.show()\n",
    "    \n",
    "    print('accuracy: {0:.4f}, precision: {1:.4f}, recall: {2:.4f}, f1: {3:.4f}, roc_auc: {4:.4f}'.format(accuracy, precision, recall, f1, roc_auc))\n",
    "    \n",
    "    scores_dict = {\n",
    "        'accuracy': accuracy,\n",
    "        'precision': precision, \n",
    "        'recall': recall, \n",
    "        'f1': f1, \n",
    "        'roc_auc': roc_auc\n",
    "    }\n",
    "    return scores_dict"
   ]
  },
  {
   "cell_type": "markdown",
   "id": "b9ce4f6c",
   "metadata": {
    "papermill": {
     "duration": 0.006374,
     "end_time": "2022-06-29T12:16:09.753108",
     "exception": false,
     "start_time": "2022-06-29T12:16:09.746734",
     "status": "completed"
    },
    "tags": []
   },
   "source": [
    "# 0. 별다른 feature engineering 없이 진행"
   ]
  },
  {
   "cell_type": "code",
   "execution_count": 3,
   "id": "f2cb2a2d",
   "metadata": {
    "execution": {
     "iopub.execute_input": "2022-06-29T12:16:09.766955Z",
     "iopub.status.busy": "2022-06-29T12:16:09.766704Z",
     "iopub.status.idle": "2022-06-29T12:16:09.870392Z",
     "shell.execute_reply": "2022-06-29T12:16:09.869394Z"
    },
    "papermill": {
     "duration": 0.113211,
     "end_time": "2022-06-29T12:16:09.872737",
     "exception": false,
     "start_time": "2022-06-29T12:16:09.759526",
     "status": "completed"
    },
    "tags": []
   },
   "outputs": [
    {
     "data": {
      "text/html": [
       "<div>\n",
       "<style scoped>\n",
       "    .dataframe tbody tr th:only-of-type {\n",
       "        vertical-align: middle;\n",
       "    }\n",
       "\n",
       "    .dataframe tbody tr th {\n",
       "        vertical-align: top;\n",
       "    }\n",
       "\n",
       "    .dataframe thead th {\n",
       "        text-align: right;\n",
       "    }\n",
       "</style>\n",
       "<table border=\"1\" class=\"dataframe\">\n",
       "  <thead>\n",
       "    <tr style=\"text-align: right;\">\n",
       "      <th></th>\n",
       "      <th>ID</th>\n",
       "      <th>sex</th>\n",
       "      <th>age</th>\n",
       "      <th>height</th>\n",
       "      <th>weight</th>\n",
       "      <th>BMI</th>\n",
       "      <th>Time in Bed(min)</th>\n",
       "      <th>Total sleep time(min)</th>\n",
       "      <th>Sleep latency(min)</th>\n",
       "      <th>N2 sleep latency(min)</th>\n",
       "      <th>...</th>\n",
       "      <th>ODI</th>\n",
       "      <th>90%ODI</th>\n",
       "      <th>EtCO2 (&gt;50mmHg)</th>\n",
       "      <th>Total LMI =PLMI(/h)</th>\n",
       "      <th>Total LM Arousal#</th>\n",
       "      <th>Total LM AI(/h)</th>\n",
       "      <th>PLM Arousal#</th>\n",
       "      <th>PLM AI(/h)</th>\n",
       "      <th>MAI(/h)</th>\n",
       "      <th>OSA</th>\n",
       "    </tr>\n",
       "  </thead>\n",
       "  <tbody>\n",
       "    <tr>\n",
       "      <th>0</th>\n",
       "      <td>2170</td>\n",
       "      <td>0</td>\n",
       "      <td>38</td>\n",
       "      <td>173.0</td>\n",
       "      <td>88.0</td>\n",
       "      <td>29.4</td>\n",
       "      <td>448.9</td>\n",
       "      <td>434.5</td>\n",
       "      <td>5.5</td>\n",
       "      <td>4.0</td>\n",
       "      <td>...</td>\n",
       "      <td>62.6</td>\n",
       "      <td>47.2</td>\n",
       "      <td>0.0</td>\n",
       "      <td>0.0</td>\n",
       "      <td>0.0</td>\n",
       "      <td>0.0</td>\n",
       "      <td>0.0</td>\n",
       "      <td>0.0</td>\n",
       "      <td>0.0</td>\n",
       "      <td>1</td>\n",
       "    </tr>\n",
       "    <tr>\n",
       "      <th>1</th>\n",
       "      <td>3539</td>\n",
       "      <td>1</td>\n",
       "      <td>54</td>\n",
       "      <td>156.0</td>\n",
       "      <td>49.0</td>\n",
       "      <td>20.1</td>\n",
       "      <td>476.0</td>\n",
       "      <td>426.0</td>\n",
       "      <td>3.0</td>\n",
       "      <td>2.5</td>\n",
       "      <td>...</td>\n",
       "      <td>2.4</td>\n",
       "      <td>0.1</td>\n",
       "      <td>0.0</td>\n",
       "      <td>0.0</td>\n",
       "      <td>0.0</td>\n",
       "      <td>0.0</td>\n",
       "      <td>0.0</td>\n",
       "      <td>0.0</td>\n",
       "      <td>0.0</td>\n",
       "      <td>0</td>\n",
       "    </tr>\n",
       "    <tr>\n",
       "      <th>2</th>\n",
       "      <td>108</td>\n",
       "      <td>0</td>\n",
       "      <td>62</td>\n",
       "      <td>164.0</td>\n",
       "      <td>67.0</td>\n",
       "      <td>24.9</td>\n",
       "      <td>435.5</td>\n",
       "      <td>351.0</td>\n",
       "      <td>3.5</td>\n",
       "      <td>1.0</td>\n",
       "      <td>...</td>\n",
       "      <td>7.4</td>\n",
       "      <td>0.3</td>\n",
       "      <td>0.0</td>\n",
       "      <td>16.8</td>\n",
       "      <td>9.0</td>\n",
       "      <td>1.5</td>\n",
       "      <td>0.0</td>\n",
       "      <td>0.0</td>\n",
       "      <td>1.5</td>\n",
       "      <td>1</td>\n",
       "    </tr>\n",
       "    <tr>\n",
       "      <th>3</th>\n",
       "      <td>3149</td>\n",
       "      <td>0</td>\n",
       "      <td>33</td>\n",
       "      <td>175.0</td>\n",
       "      <td>106.0</td>\n",
       "      <td>34.6</td>\n",
       "      <td>404.5</td>\n",
       "      <td>374.5</td>\n",
       "      <td>7.0</td>\n",
       "      <td>3.5</td>\n",
       "      <td>...</td>\n",
       "      <td>19.2</td>\n",
       "      <td>1.0</td>\n",
       "      <td>0.0</td>\n",
       "      <td>0.0</td>\n",
       "      <td>0.0</td>\n",
       "      <td>0.0</td>\n",
       "      <td>0.0</td>\n",
       "      <td>0.0</td>\n",
       "      <td>0.0</td>\n",
       "      <td>1</td>\n",
       "    </tr>\n",
       "    <tr>\n",
       "      <th>4</th>\n",
       "      <td>4893</td>\n",
       "      <td>0</td>\n",
       "      <td>56</td>\n",
       "      <td>164.0</td>\n",
       "      <td>72.0</td>\n",
       "      <td>26.8</td>\n",
       "      <td>359.5</td>\n",
       "      <td>236.5</td>\n",
       "      <td>12.5</td>\n",
       "      <td>11.0</td>\n",
       "      <td>...</td>\n",
       "      <td>70.5</td>\n",
       "      <td>54.0</td>\n",
       "      <td>0.0</td>\n",
       "      <td>0.0</td>\n",
       "      <td>0.0</td>\n",
       "      <td>0.0</td>\n",
       "      <td>0.0</td>\n",
       "      <td>0.0</td>\n",
       "      <td>0.0</td>\n",
       "      <td>1</td>\n",
       "    </tr>\n",
       "  </tbody>\n",
       "</table>\n",
       "<p>5 rows × 79 columns</p>\n",
       "</div>"
      ],
      "text/plain": [
       "     ID  sex  age  height  weight   BMI  Time in Bed(min)  \\\n",
       "0  2170    0   38   173.0    88.0  29.4             448.9   \n",
       "1  3539    1   54   156.0    49.0  20.1             476.0   \n",
       "2   108    0   62   164.0    67.0  24.9             435.5   \n",
       "3  3149    0   33   175.0   106.0  34.6             404.5   \n",
       "4  4893    0   56   164.0    72.0  26.8             359.5   \n",
       "\n",
       "   Total sleep time(min)  Sleep latency(min)  N2 sleep latency(min)  ...  \\\n",
       "0                  434.5                 5.5                    4.0  ...   \n",
       "1                  426.0                 3.0                    2.5  ...   \n",
       "2                  351.0                 3.5                    1.0  ...   \n",
       "3                  374.5                 7.0                    3.5  ...   \n",
       "4                  236.5                12.5                   11.0  ...   \n",
       "\n",
       "    ODI  90%ODI  EtCO2 (>50mmHg)  Total LMI =PLMI(/h)  Total LM Arousal#  \\\n",
       "0  62.6    47.2              0.0                  0.0                0.0   \n",
       "1   2.4     0.1              0.0                  0.0                0.0   \n",
       "2   7.4     0.3              0.0                 16.8                9.0   \n",
       "3  19.2     1.0              0.0                  0.0                0.0   \n",
       "4  70.5    54.0              0.0                  0.0                0.0   \n",
       "\n",
       "   Total LM AI(/h)  PLM Arousal#  PLM AI(/h)  MAI(/h)  OSA  \n",
       "0              0.0           0.0         0.0      0.0    1  \n",
       "1              0.0           0.0         0.0      0.0    0  \n",
       "2              1.5           0.0         0.0      1.5    1  \n",
       "3              0.0           0.0         0.0      0.0    1  \n",
       "4              0.0           0.0         0.0      0.0    1  \n",
       "\n",
       "[5 rows x 79 columns]"
      ]
     },
     "execution_count": 3,
     "metadata": {},
     "output_type": "execute_result"
    }
   ],
   "source": [
    "train_a = pd.read_csv('../input/sleep-research/osa_train_a.csv')\n",
    "train_a.head()"
   ]
  },
  {
   "cell_type": "code",
   "execution_count": 4,
   "id": "7bb4f181",
   "metadata": {
    "execution": {
     "iopub.execute_input": "2022-06-29T12:16:09.887955Z",
     "iopub.status.busy": "2022-06-29T12:16:09.887672Z",
     "iopub.status.idle": "2022-06-29T12:16:09.935805Z",
     "shell.execute_reply": "2022-06-29T12:16:09.934810Z"
    },
    "papermill": {
     "duration": 0.058123,
     "end_time": "2022-06-29T12:16:09.938047",
     "exception": false,
     "start_time": "2022-06-29T12:16:09.879924",
     "status": "completed"
    },
    "scrolled": true,
    "tags": []
   },
   "outputs": [
    {
     "data": {
      "text/html": [
       "<div>\n",
       "<style scoped>\n",
       "    .dataframe tbody tr th:only-of-type {\n",
       "        vertical-align: middle;\n",
       "    }\n",
       "\n",
       "    .dataframe tbody tr th {\n",
       "        vertical-align: top;\n",
       "    }\n",
       "\n",
       "    .dataframe thead th {\n",
       "        text-align: right;\n",
       "    }\n",
       "</style>\n",
       "<table border=\"1\" class=\"dataframe\">\n",
       "  <thead>\n",
       "    <tr style=\"text-align: right;\">\n",
       "      <th></th>\n",
       "      <th>ID</th>\n",
       "      <th>sex</th>\n",
       "      <th>age</th>\n",
       "      <th>height</th>\n",
       "      <th>weight</th>\n",
       "      <th>BMI</th>\n",
       "      <th>Time in Bed(min)</th>\n",
       "      <th>Total sleep time(min)</th>\n",
       "      <th>Sleep latency(min)</th>\n",
       "      <th>N2 sleep latency(min)</th>\n",
       "      <th>...</th>\n",
       "      <th>ODI</th>\n",
       "      <th>90%ODI</th>\n",
       "      <th>EtCO2 (&gt;50mmHg)</th>\n",
       "      <th>Total LMI =PLMI(/h)</th>\n",
       "      <th>Total LM Arousal#</th>\n",
       "      <th>Total LM AI(/h)</th>\n",
       "      <th>PLM Arousal#</th>\n",
       "      <th>PLM AI(/h)</th>\n",
       "      <th>MAI(/h)</th>\n",
       "      <th>OSA</th>\n",
       "    </tr>\n",
       "  </thead>\n",
       "  <tbody>\n",
       "    <tr>\n",
       "      <th>0</th>\n",
       "      <td>2021</td>\n",
       "      <td>1</td>\n",
       "      <td>47</td>\n",
       "      <td>164.0</td>\n",
       "      <td>55.0</td>\n",
       "      <td>20.4</td>\n",
       "      <td>362.0</td>\n",
       "      <td>343.0</td>\n",
       "      <td>5.5</td>\n",
       "      <td>2.0</td>\n",
       "      <td>...</td>\n",
       "      <td>7.5</td>\n",
       "      <td>1.0</td>\n",
       "      <td>0.0</td>\n",
       "      <td>11.4</td>\n",
       "      <td>5.0</td>\n",
       "      <td>0.9</td>\n",
       "      <td>5.0</td>\n",
       "      <td>0.9</td>\n",
       "      <td>1.8</td>\n",
       "      <td>1</td>\n",
       "    </tr>\n",
       "    <tr>\n",
       "      <th>1</th>\n",
       "      <td>1506</td>\n",
       "      <td>0</td>\n",
       "      <td>64</td>\n",
       "      <td>175.0</td>\n",
       "      <td>75.0</td>\n",
       "      <td>24.5</td>\n",
       "      <td>395.0</td>\n",
       "      <td>342.0</td>\n",
       "      <td>5.0</td>\n",
       "      <td>4.5</td>\n",
       "      <td>...</td>\n",
       "      <td>9.5</td>\n",
       "      <td>0.4</td>\n",
       "      <td>0.0</td>\n",
       "      <td>0.4</td>\n",
       "      <td>2.0</td>\n",
       "      <td>0.4</td>\n",
       "      <td>0.0</td>\n",
       "      <td>0.0</td>\n",
       "      <td>0.4</td>\n",
       "      <td>0</td>\n",
       "    </tr>\n",
       "    <tr>\n",
       "      <th>2</th>\n",
       "      <td>3160</td>\n",
       "      <td>0</td>\n",
       "      <td>34</td>\n",
       "      <td>170.0</td>\n",
       "      <td>79.0</td>\n",
       "      <td>27.3</td>\n",
       "      <td>415.0</td>\n",
       "      <td>363.5</td>\n",
       "      <td>7.5</td>\n",
       "      <td>20.5</td>\n",
       "      <td>...</td>\n",
       "      <td>5.3</td>\n",
       "      <td>0.7</td>\n",
       "      <td>0.0</td>\n",
       "      <td>0.0</td>\n",
       "      <td>0.0</td>\n",
       "      <td>0.0</td>\n",
       "      <td>0.0</td>\n",
       "      <td>0.0</td>\n",
       "      <td>0.0</td>\n",
       "      <td>1</td>\n",
       "    </tr>\n",
       "    <tr>\n",
       "      <th>3</th>\n",
       "      <td>1092</td>\n",
       "      <td>0</td>\n",
       "      <td>66</td>\n",
       "      <td>167.0</td>\n",
       "      <td>68.0</td>\n",
       "      <td>24.4</td>\n",
       "      <td>318.0</td>\n",
       "      <td>104.0</td>\n",
       "      <td>21.0</td>\n",
       "      <td>6.5</td>\n",
       "      <td>...</td>\n",
       "      <td>67.5</td>\n",
       "      <td>31.7</td>\n",
       "      <td>0.0</td>\n",
       "      <td>0.0</td>\n",
       "      <td>0.0</td>\n",
       "      <td>0.0</td>\n",
       "      <td>0.0</td>\n",
       "      <td>0.0</td>\n",
       "      <td>0.0</td>\n",
       "      <td>1</td>\n",
       "    </tr>\n",
       "    <tr>\n",
       "      <th>4</th>\n",
       "      <td>5043</td>\n",
       "      <td>0</td>\n",
       "      <td>60</td>\n",
       "      <td>169.0</td>\n",
       "      <td>67.0</td>\n",
       "      <td>23.5</td>\n",
       "      <td>383.0</td>\n",
       "      <td>310.0</td>\n",
       "      <td>6.5</td>\n",
       "      <td>4.0</td>\n",
       "      <td>...</td>\n",
       "      <td>31.5</td>\n",
       "      <td>2.5</td>\n",
       "      <td>0.0</td>\n",
       "      <td>0.0</td>\n",
       "      <td>0.0</td>\n",
       "      <td>0.0</td>\n",
       "      <td>0.0</td>\n",
       "      <td>0.0</td>\n",
       "      <td>0.0</td>\n",
       "      <td>1</td>\n",
       "    </tr>\n",
       "  </tbody>\n",
       "</table>\n",
       "<p>5 rows × 79 columns</p>\n",
       "</div>"
      ],
      "text/plain": [
       "     ID  sex  age  height  weight   BMI  Time in Bed(min)  \\\n",
       "0  2021    1   47   164.0    55.0  20.4             362.0   \n",
       "1  1506    0   64   175.0    75.0  24.5             395.0   \n",
       "2  3160    0   34   170.0    79.0  27.3             415.0   \n",
       "3  1092    0   66   167.0    68.0  24.4             318.0   \n",
       "4  5043    0   60   169.0    67.0  23.5             383.0   \n",
       "\n",
       "   Total sleep time(min)  Sleep latency(min)  N2 sleep latency(min)  ...  \\\n",
       "0                  343.0                 5.5                    2.0  ...   \n",
       "1                  342.0                 5.0                    4.5  ...   \n",
       "2                  363.5                 7.5                   20.5  ...   \n",
       "3                  104.0                21.0                    6.5  ...   \n",
       "4                  310.0                 6.5                    4.0  ...   \n",
       "\n",
       "    ODI  90%ODI  EtCO2 (>50mmHg)  Total LMI =PLMI(/h)  Total LM Arousal#  \\\n",
       "0   7.5     1.0              0.0                 11.4                5.0   \n",
       "1   9.5     0.4              0.0                  0.4                2.0   \n",
       "2   5.3     0.7              0.0                  0.0                0.0   \n",
       "3  67.5    31.7              0.0                  0.0                0.0   \n",
       "4  31.5     2.5              0.0                  0.0                0.0   \n",
       "\n",
       "   Total LM AI(/h)  PLM Arousal#  PLM AI(/h)  MAI(/h)  OSA  \n",
       "0              0.9           5.0         0.9      1.8    1  \n",
       "1              0.4           0.0         0.0      0.4    0  \n",
       "2              0.0           0.0         0.0      0.0    1  \n",
       "3              0.0           0.0         0.0      0.0    1  \n",
       "4              0.0           0.0         0.0      0.0    1  \n",
       "\n",
       "[5 rows x 79 columns]"
      ]
     },
     "execution_count": 4,
     "metadata": {},
     "output_type": "execute_result"
    }
   ],
   "source": [
    "test_a = pd.read_csv('../input/sleep-research/osa_test_a.csv')\n",
    "test_a.head()"
   ]
  },
  {
   "cell_type": "code",
   "execution_count": 5,
   "id": "9dbdad0a",
   "metadata": {
    "execution": {
     "iopub.execute_input": "2022-06-29T12:16:09.953390Z",
     "iopub.status.busy": "2022-06-29T12:16:09.953130Z",
     "iopub.status.idle": "2022-06-29T12:16:09.963499Z",
     "shell.execute_reply": "2022-06-29T12:16:09.962525Z"
    },
    "papermill": {
     "duration": 0.020171,
     "end_time": "2022-06-29T12:16:09.965400",
     "exception": false,
     "start_time": "2022-06-29T12:16:09.945229",
     "status": "completed"
    },
    "tags": []
   },
   "outputs": [],
   "source": [
    "X_train_a = train_a.drop(['ID', 'OSA'], axis=1)\n",
    "y_train_a = train_a['OSA']"
   ]
  },
  {
   "cell_type": "code",
   "execution_count": 6,
   "id": "531ad929",
   "metadata": {
    "execution": {
     "iopub.execute_input": "2022-06-29T12:16:09.981183Z",
     "iopub.status.busy": "2022-06-29T12:16:09.980908Z",
     "iopub.status.idle": "2022-06-29T12:16:09.987367Z",
     "shell.execute_reply": "2022-06-29T12:16:09.986526Z"
    },
    "papermill": {
     "duration": 0.016701,
     "end_time": "2022-06-29T12:16:09.989438",
     "exception": false,
     "start_time": "2022-06-29T12:16:09.972737",
     "status": "completed"
    },
    "tags": []
   },
   "outputs": [],
   "source": [
    "X_test_a = test_a.drop(['ID', 'OSA'], axis=1)\n",
    "y_test_a = test_a['OSA']"
   ]
  },
  {
   "cell_type": "code",
   "execution_count": 7,
   "id": "8c7f89fc",
   "metadata": {
    "execution": {
     "iopub.execute_input": "2022-06-29T12:16:10.005221Z",
     "iopub.status.busy": "2022-06-29T12:16:10.004966Z",
     "iopub.status.idle": "2022-06-29T12:16:10.025609Z",
     "shell.execute_reply": "2022-06-29T12:16:10.024374Z"
    },
    "papermill": {
     "duration": 0.03101,
     "end_time": "2022-06-29T12:16:10.027545",
     "exception": false,
     "start_time": "2022-06-29T12:16:09.996535",
     "status": "completed"
    },
    "tags": []
   },
   "outputs": [
    {
     "name": "stdout",
     "output_type": "stream",
     "text": [
      "Training data shape:  (4121, 77)\n",
      "Testing data shape:  (1031, 77)\n"
     ]
    }
   ],
   "source": [
    "features_a = list(X_train_a.columns)\n",
    "train = X_train_a.copy()\n",
    "test = X_test_a.copy()\n",
    "\n",
    "scaler = MinMaxScaler(feature_range=(0,1))\n",
    "\n",
    "scaler.fit(train)\n",
    "train_a = scaler.transform(train)\n",
    "test_a = scaler.transform(test)\n",
    "\n",
    "print('Training data shape: ', train.shape)\n",
    "print('Testing data shape: ', test.shape)"
   ]
  },
  {
   "cell_type": "code",
   "execution_count": 8,
   "id": "f9fe7cf3",
   "metadata": {
    "execution": {
     "iopub.execute_input": "2022-06-29T12:16:10.042806Z",
     "iopub.status.busy": "2022-06-29T12:16:10.042547Z",
     "iopub.status.idle": "2022-06-29T12:16:10.117954Z",
     "shell.execute_reply": "2022-06-29T12:16:10.116998Z"
    },
    "papermill": {
     "duration": 0.085242,
     "end_time": "2022-06-29T12:16:10.119873",
     "exception": false,
     "start_time": "2022-06-29T12:16:10.034631",
     "status": "completed"
    },
    "tags": []
   },
   "outputs": [
    {
     "data": {
      "text/html": [
       "<div>\n",
       "<style scoped>\n",
       "    .dataframe tbody tr th:only-of-type {\n",
       "        vertical-align: middle;\n",
       "    }\n",
       "\n",
       "    .dataframe tbody tr th {\n",
       "        vertical-align: top;\n",
       "    }\n",
       "\n",
       "    .dataframe thead th {\n",
       "        text-align: right;\n",
       "    }\n",
       "</style>\n",
       "<table border=\"1\" class=\"dataframe\">\n",
       "  <thead>\n",
       "    <tr style=\"text-align: right;\">\n",
       "      <th></th>\n",
       "      <th>ID</th>\n",
       "      <th>sex</th>\n",
       "      <th>age</th>\n",
       "      <th>height</th>\n",
       "      <th>weight</th>\n",
       "      <th>BMI</th>\n",
       "      <th>Time in Bed(min)</th>\n",
       "      <th>Total sleep time(min)</th>\n",
       "      <th>Sleep latency(min)</th>\n",
       "      <th>REM sleep latency(min)</th>\n",
       "      <th>...</th>\n",
       "      <th>Lateral A+H+RERA_ Index(h)</th>\n",
       "      <th>REM A+H+RERA Index(/h)</th>\n",
       "      <th>NREM A+H+RERA Index(/h)</th>\n",
       "      <th>Apnea_Max_ Length(sec)</th>\n",
       "      <th>Hypopnea_Max_ Length(sec)</th>\n",
       "      <th>Resp. Arousal /(A+H)(%)</th>\n",
       "      <th>ODI</th>\n",
       "      <th>90%ODI</th>\n",
       "      <th>EtCO2 (&gt;50mmHg)</th>\n",
       "      <th>OSA</th>\n",
       "    </tr>\n",
       "  </thead>\n",
       "  <tbody>\n",
       "    <tr>\n",
       "      <th>0</th>\n",
       "      <td>4238</td>\n",
       "      <td>0</td>\n",
       "      <td>39</td>\n",
       "      <td>170.0</td>\n",
       "      <td>65.0</td>\n",
       "      <td>22.5</td>\n",
       "      <td>480.5</td>\n",
       "      <td>435.0</td>\n",
       "      <td>2.5</td>\n",
       "      <td>63.0</td>\n",
       "      <td>...</td>\n",
       "      <td>4.2</td>\n",
       "      <td>11.6</td>\n",
       "      <td>8.2</td>\n",
       "      <td>0.0</td>\n",
       "      <td>69.2</td>\n",
       "      <td>87.9</td>\n",
       "      <td>2.3</td>\n",
       "      <td>0.0</td>\n",
       "      <td>0.0</td>\n",
       "      <td>1</td>\n",
       "    </tr>\n",
       "    <tr>\n",
       "      <th>1</th>\n",
       "      <td>1630</td>\n",
       "      <td>0</td>\n",
       "      <td>41</td>\n",
       "      <td>172.0</td>\n",
       "      <td>77.0</td>\n",
       "      <td>26.0</td>\n",
       "      <td>338.5</td>\n",
       "      <td>187.0</td>\n",
       "      <td>3.0</td>\n",
       "      <td>86.5</td>\n",
       "      <td>...</td>\n",
       "      <td>0.0</td>\n",
       "      <td>41.7</td>\n",
       "      <td>19.8</td>\n",
       "      <td>83.4</td>\n",
       "      <td>101.6</td>\n",
       "      <td>38.2</td>\n",
       "      <td>23.7</td>\n",
       "      <td>5.5</td>\n",
       "      <td>0.0</td>\n",
       "      <td>1</td>\n",
       "    </tr>\n",
       "    <tr>\n",
       "      <th>2</th>\n",
       "      <td>2711</td>\n",
       "      <td>0</td>\n",
       "      <td>64</td>\n",
       "      <td>166.0</td>\n",
       "      <td>69.0</td>\n",
       "      <td>25.0</td>\n",
       "      <td>450.0</td>\n",
       "      <td>376.0</td>\n",
       "      <td>8.0</td>\n",
       "      <td>62.0</td>\n",
       "      <td>...</td>\n",
       "      <td>20.7</td>\n",
       "      <td>54.1</td>\n",
       "      <td>42.5</td>\n",
       "      <td>57.4</td>\n",
       "      <td>112.9</td>\n",
       "      <td>79.9</td>\n",
       "      <td>31.9</td>\n",
       "      <td>8.3</td>\n",
       "      <td>0.0</td>\n",
       "      <td>1</td>\n",
       "    </tr>\n",
       "    <tr>\n",
       "      <th>3</th>\n",
       "      <td>662</td>\n",
       "      <td>1</td>\n",
       "      <td>58</td>\n",
       "      <td>157.0</td>\n",
       "      <td>56.0</td>\n",
       "      <td>22.7</td>\n",
       "      <td>394.0</td>\n",
       "      <td>371.0</td>\n",
       "      <td>1.0</td>\n",
       "      <td>188.5</td>\n",
       "      <td>...</td>\n",
       "      <td>0.0</td>\n",
       "      <td>51.9</td>\n",
       "      <td>32.1</td>\n",
       "      <td>47.0</td>\n",
       "      <td>62.7</td>\n",
       "      <td>19.2</td>\n",
       "      <td>33.0</td>\n",
       "      <td>8.1</td>\n",
       "      <td>0.0</td>\n",
       "      <td>1</td>\n",
       "    </tr>\n",
       "    <tr>\n",
       "      <th>4</th>\n",
       "      <td>4666</td>\n",
       "      <td>1</td>\n",
       "      <td>29</td>\n",
       "      <td>154.0</td>\n",
       "      <td>50.0</td>\n",
       "      <td>21.1</td>\n",
       "      <td>278.0</td>\n",
       "      <td>252.0</td>\n",
       "      <td>0.0</td>\n",
       "      <td>0.0</td>\n",
       "      <td>...</td>\n",
       "      <td>0.0</td>\n",
       "      <td>0.0</td>\n",
       "      <td>0.0</td>\n",
       "      <td>0.0</td>\n",
       "      <td>0.0</td>\n",
       "      <td>0.0</td>\n",
       "      <td>0.0</td>\n",
       "      <td>0.0</td>\n",
       "      <td>0.0</td>\n",
       "      <td>0</td>\n",
       "    </tr>\n",
       "  </tbody>\n",
       "</table>\n",
       "<p>5 rows × 63 columns</p>\n",
       "</div>"
      ],
      "text/plain": [
       "     ID  sex  age  height  weight   BMI  Time in Bed(min)  \\\n",
       "0  4238    0   39   170.0    65.0  22.5             480.5   \n",
       "1  1630    0   41   172.0    77.0  26.0             338.5   \n",
       "2  2711    0   64   166.0    69.0  25.0             450.0   \n",
       "3   662    1   58   157.0    56.0  22.7             394.0   \n",
       "4  4666    1   29   154.0    50.0  21.1             278.0   \n",
       "\n",
       "   Total sleep time(min)  Sleep latency(min)  REM sleep latency(min)  ...  \\\n",
       "0                  435.0                 2.5                    63.0  ...   \n",
       "1                  187.0                 3.0                    86.5  ...   \n",
       "2                  376.0                 8.0                    62.0  ...   \n",
       "3                  371.0                 1.0                   188.5  ...   \n",
       "4                  252.0                 0.0                     0.0  ...   \n",
       "\n",
       "   Lateral A+H+RERA_ Index(h)  REM A+H+RERA Index(/h)  \\\n",
       "0                         4.2                    11.6   \n",
       "1                         0.0                    41.7   \n",
       "2                        20.7                    54.1   \n",
       "3                         0.0                    51.9   \n",
       "4                         0.0                     0.0   \n",
       "\n",
       "   NREM A+H+RERA Index(/h)  Apnea_Max_ Length(sec)  Hypopnea_Max_ Length(sec)  \\\n",
       "0                      8.2                     0.0                       69.2   \n",
       "1                     19.8                    83.4                      101.6   \n",
       "2                     42.5                    57.4                      112.9   \n",
       "3                     32.1                    47.0                       62.7   \n",
       "4                      0.0                     0.0                        0.0   \n",
       "\n",
       "   Resp. Arousal /(A+H)(%)   ODI  90%ODI  EtCO2 (>50mmHg)  OSA  \n",
       "0                     87.9   2.3     0.0              0.0    1  \n",
       "1                     38.2  23.7     5.5              0.0    1  \n",
       "2                     79.9  31.9     8.3              0.0    1  \n",
       "3                     19.2  33.0     8.1              0.0    1  \n",
       "4                      0.0   0.0     0.0              0.0    0  \n",
       "\n",
       "[5 rows x 63 columns]"
      ]
     },
     "execution_count": 8,
     "metadata": {},
     "output_type": "execute_result"
    }
   ],
   "source": [
    "train_b = pd.read_csv('../input/sleep-research/osa_train_b.csv')\n",
    "train_b.head()"
   ]
  },
  {
   "cell_type": "code",
   "execution_count": 9,
   "id": "8e529aba",
   "metadata": {
    "execution": {
     "iopub.execute_input": "2022-06-29T12:16:10.136053Z",
     "iopub.status.busy": "2022-06-29T12:16:10.135793Z",
     "iopub.status.idle": "2022-06-29T12:16:10.178062Z",
     "shell.execute_reply": "2022-06-29T12:16:10.177067Z"
    },
    "papermill": {
     "duration": 0.052669,
     "end_time": "2022-06-29T12:16:10.180331",
     "exception": false,
     "start_time": "2022-06-29T12:16:10.127662",
     "status": "completed"
    },
    "tags": []
   },
   "outputs": [
    {
     "data": {
      "text/html": [
       "<div>\n",
       "<style scoped>\n",
       "    .dataframe tbody tr th:only-of-type {\n",
       "        vertical-align: middle;\n",
       "    }\n",
       "\n",
       "    .dataframe tbody tr th {\n",
       "        vertical-align: top;\n",
       "    }\n",
       "\n",
       "    .dataframe thead th {\n",
       "        text-align: right;\n",
       "    }\n",
       "</style>\n",
       "<table border=\"1\" class=\"dataframe\">\n",
       "  <thead>\n",
       "    <tr style=\"text-align: right;\">\n",
       "      <th></th>\n",
       "      <th>ID</th>\n",
       "      <th>sex</th>\n",
       "      <th>age</th>\n",
       "      <th>height</th>\n",
       "      <th>weight</th>\n",
       "      <th>BMI</th>\n",
       "      <th>Time in Bed(min)</th>\n",
       "      <th>Total sleep time(min)</th>\n",
       "      <th>Sleep latency(min)</th>\n",
       "      <th>REM sleep latency(min)</th>\n",
       "      <th>...</th>\n",
       "      <th>Lateral A+H+RERA_ Index(h)</th>\n",
       "      <th>REM A+H+RERA Index(/h)</th>\n",
       "      <th>NREM A+H+RERA Index(/h)</th>\n",
       "      <th>Apnea_Max_ Length(sec)</th>\n",
       "      <th>Hypopnea_Max_ Length(sec)</th>\n",
       "      <th>Resp. Arousal /(A+H)(%)</th>\n",
       "      <th>ODI</th>\n",
       "      <th>90%ODI</th>\n",
       "      <th>EtCO2 (&gt;50mmHg)</th>\n",
       "      <th>OSA</th>\n",
       "    </tr>\n",
       "  </thead>\n",
       "  <tbody>\n",
       "    <tr>\n",
       "      <th>0</th>\n",
       "      <td>3402</td>\n",
       "      <td>1</td>\n",
       "      <td>35</td>\n",
       "      <td>164.0</td>\n",
       "      <td>56.0</td>\n",
       "      <td>20.8</td>\n",
       "      <td>486.5</td>\n",
       "      <td>452.0</td>\n",
       "      <td>11.0</td>\n",
       "      <td>41.0</td>\n",
       "      <td>...</td>\n",
       "      <td>0.0</td>\n",
       "      <td>0.0</td>\n",
       "      <td>0.0</td>\n",
       "      <td>0.0</td>\n",
       "      <td>0.0</td>\n",
       "      <td>0.0</td>\n",
       "      <td>0.0</td>\n",
       "      <td>0.0</td>\n",
       "      <td>0.0</td>\n",
       "      <td>0</td>\n",
       "    </tr>\n",
       "    <tr>\n",
       "      <th>1</th>\n",
       "      <td>4990</td>\n",
       "      <td>0</td>\n",
       "      <td>41</td>\n",
       "      <td>175.0</td>\n",
       "      <td>92.0</td>\n",
       "      <td>30.0</td>\n",
       "      <td>510.0</td>\n",
       "      <td>492.5</td>\n",
       "      <td>5.0</td>\n",
       "      <td>91.0</td>\n",
       "      <td>...</td>\n",
       "      <td>6.3</td>\n",
       "      <td>16.2</td>\n",
       "      <td>6.6</td>\n",
       "      <td>0.0</td>\n",
       "      <td>79.2</td>\n",
       "      <td>63.6</td>\n",
       "      <td>7.1</td>\n",
       "      <td>0.0</td>\n",
       "      <td>0.0</td>\n",
       "      <td>1</td>\n",
       "    </tr>\n",
       "    <tr>\n",
       "      <th>2</th>\n",
       "      <td>2171</td>\n",
       "      <td>0</td>\n",
       "      <td>54</td>\n",
       "      <td>169.0</td>\n",
       "      <td>82.0</td>\n",
       "      <td>28.7</td>\n",
       "      <td>416.0</td>\n",
       "      <td>312.5</td>\n",
       "      <td>7.0</td>\n",
       "      <td>109.5</td>\n",
       "      <td>...</td>\n",
       "      <td>45.3</td>\n",
       "      <td>50.7</td>\n",
       "      <td>73.2</td>\n",
       "      <td>49.7</td>\n",
       "      <td>65.6</td>\n",
       "      <td>83.8</td>\n",
       "      <td>58.0</td>\n",
       "      <td>30.3</td>\n",
       "      <td>0.0</td>\n",
       "      <td>1</td>\n",
       "    </tr>\n",
       "    <tr>\n",
       "      <th>3</th>\n",
       "      <td>508</td>\n",
       "      <td>0</td>\n",
       "      <td>45</td>\n",
       "      <td>180.0</td>\n",
       "      <td>76.0</td>\n",
       "      <td>23.5</td>\n",
       "      <td>375.0</td>\n",
       "      <td>342.5</td>\n",
       "      <td>4.0</td>\n",
       "      <td>132.5</td>\n",
       "      <td>...</td>\n",
       "      <td>0.0</td>\n",
       "      <td>34.0</td>\n",
       "      <td>5.1</td>\n",
       "      <td>24.5</td>\n",
       "      <td>67.6</td>\n",
       "      <td>62.3</td>\n",
       "      <td>4.4</td>\n",
       "      <td>0.7</td>\n",
       "      <td>0.0</td>\n",
       "      <td>1</td>\n",
       "    </tr>\n",
       "    <tr>\n",
       "      <th>4</th>\n",
       "      <td>3448</td>\n",
       "      <td>0</td>\n",
       "      <td>47</td>\n",
       "      <td>174.0</td>\n",
       "      <td>110.0</td>\n",
       "      <td>36.3</td>\n",
       "      <td>222.0</td>\n",
       "      <td>171.0</td>\n",
       "      <td>4.5</td>\n",
       "      <td>62.0</td>\n",
       "      <td>...</td>\n",
       "      <td>108.5</td>\n",
       "      <td>78.7</td>\n",
       "      <td>119.1</td>\n",
       "      <td>52.2</td>\n",
       "      <td>48.5</td>\n",
       "      <td>69.6</td>\n",
       "      <td>112.6</td>\n",
       "      <td>101.1</td>\n",
       "      <td>0.0</td>\n",
       "      <td>1</td>\n",
       "    </tr>\n",
       "  </tbody>\n",
       "</table>\n",
       "<p>5 rows × 63 columns</p>\n",
       "</div>"
      ],
      "text/plain": [
       "     ID  sex  age  height  weight   BMI  Time in Bed(min)  \\\n",
       "0  3402    1   35   164.0    56.0  20.8             486.5   \n",
       "1  4990    0   41   175.0    92.0  30.0             510.0   \n",
       "2  2171    0   54   169.0    82.0  28.7             416.0   \n",
       "3   508    0   45   180.0    76.0  23.5             375.0   \n",
       "4  3448    0   47   174.0   110.0  36.3             222.0   \n",
       "\n",
       "   Total sleep time(min)  Sleep latency(min)  REM sleep latency(min)  ...  \\\n",
       "0                  452.0                11.0                    41.0  ...   \n",
       "1                  492.5                 5.0                    91.0  ...   \n",
       "2                  312.5                 7.0                   109.5  ...   \n",
       "3                  342.5                 4.0                   132.5  ...   \n",
       "4                  171.0                 4.5                    62.0  ...   \n",
       "\n",
       "   Lateral A+H+RERA_ Index(h)  REM A+H+RERA Index(/h)  \\\n",
       "0                         0.0                     0.0   \n",
       "1                         6.3                    16.2   \n",
       "2                        45.3                    50.7   \n",
       "3                         0.0                    34.0   \n",
       "4                       108.5                    78.7   \n",
       "\n",
       "   NREM A+H+RERA Index(/h)  Apnea_Max_ Length(sec)  Hypopnea_Max_ Length(sec)  \\\n",
       "0                      0.0                     0.0                        0.0   \n",
       "1                      6.6                     0.0                       79.2   \n",
       "2                     73.2                    49.7                       65.6   \n",
       "3                      5.1                    24.5                       67.6   \n",
       "4                    119.1                    52.2                       48.5   \n",
       "\n",
       "   Resp. Arousal /(A+H)(%)    ODI  90%ODI  EtCO2 (>50mmHg)  OSA  \n",
       "0                      0.0    0.0     0.0              0.0    0  \n",
       "1                     63.6    7.1     0.0              0.0    1  \n",
       "2                     83.8   58.0    30.3              0.0    1  \n",
       "3                     62.3    4.4     0.7              0.0    1  \n",
       "4                     69.6  112.6   101.1              0.0    1  \n",
       "\n",
       "[5 rows x 63 columns]"
      ]
     },
     "execution_count": 9,
     "metadata": {},
     "output_type": "execute_result"
    }
   ],
   "source": [
    "test_b = pd.read_csv('../input/sleep-research/osa_test_b.csv')\n",
    "test_b.head()"
   ]
  },
  {
   "cell_type": "code",
   "execution_count": 10,
   "id": "850634b7",
   "metadata": {
    "execution": {
     "iopub.execute_input": "2022-06-29T12:16:10.197411Z",
     "iopub.status.busy": "2022-06-29T12:16:10.197120Z",
     "iopub.status.idle": "2022-06-29T12:16:10.202342Z",
     "shell.execute_reply": "2022-06-29T12:16:10.201369Z"
    },
    "papermill": {
     "duration": 0.016005,
     "end_time": "2022-06-29T12:16:10.204248",
     "exception": false,
     "start_time": "2022-06-29T12:16:10.188243",
     "status": "completed"
    },
    "tags": []
   },
   "outputs": [],
   "source": [
    "X_train_b = train_b.drop(['ID', 'OSA'], axis=1)\n",
    "y_train_b = train_b['OSA']"
   ]
  },
  {
   "cell_type": "code",
   "execution_count": 11,
   "id": "47aad20d",
   "metadata": {
    "execution": {
     "iopub.execute_input": "2022-06-29T12:16:10.220695Z",
     "iopub.status.busy": "2022-06-29T12:16:10.220136Z",
     "iopub.status.idle": "2022-06-29T12:16:10.225325Z",
     "shell.execute_reply": "2022-06-29T12:16:10.224517Z"
    },
    "papermill": {
     "duration": 0.015474,
     "end_time": "2022-06-29T12:16:10.227240",
     "exception": false,
     "start_time": "2022-06-29T12:16:10.211766",
     "status": "completed"
    },
    "tags": []
   },
   "outputs": [],
   "source": [
    "X_test_b = test_b.drop(['ID', 'OSA'], axis=1)\n",
    "y_test_b = test_b['OSA']"
   ]
  },
  {
   "cell_type": "code",
   "execution_count": 12,
   "id": "81bb6507",
   "metadata": {
    "execution": {
     "iopub.execute_input": "2022-06-29T12:16:10.243590Z",
     "iopub.status.busy": "2022-06-29T12:16:10.243324Z",
     "iopub.status.idle": "2022-06-29T12:16:10.260770Z",
     "shell.execute_reply": "2022-06-29T12:16:10.259267Z"
    },
    "papermill": {
     "duration": 0.028425,
     "end_time": "2022-06-29T12:16:10.263249",
     "exception": false,
     "start_time": "2022-06-29T12:16:10.234824",
     "status": "completed"
    },
    "tags": []
   },
   "outputs": [
    {
     "name": "stdout",
     "output_type": "stream",
     "text": [
      "Training data shape:  (4347, 61)\n",
      "Testing data shape:  (1087, 61)\n"
     ]
    }
   ],
   "source": [
    "features_b = list(X_train_b.columns)\n",
    "train = X_train_b.copy()\n",
    "test = X_test_b.copy()\n",
    "\n",
    "scaler = MinMaxScaler(feature_range=(0,1))\n",
    "\n",
    "scaler.fit(train)\n",
    "train_b = scaler.transform(train)\n",
    "test_b = scaler.transform(test)\n",
    "\n",
    "print('Training data shape: ', train.shape)\n",
    "print('Testing data shape: ', test.shape)"
   ]
  },
  {
   "cell_type": "markdown",
   "id": "51c1e600",
   "metadata": {
    "papermill": {
     "duration": 0.007553,
     "end_time": "2022-06-29T12:16:10.279234",
     "exception": false,
     "start_time": "2022-06-29T12:16:10.271681",
     "status": "completed"
    },
    "tags": []
   },
   "source": [
    "## 0-4. LightGBM"
   ]
  },
  {
   "cell_type": "markdown",
   "id": "d66936c6",
   "metadata": {
    "papermill": {
     "duration": 0.007405,
     "end_time": "2022-06-29T12:16:10.294241",
     "exception": false,
     "start_time": "2022-06-29T12:16:10.286836",
     "status": "completed"
    },
    "tags": []
   },
   "source": [
    "### A. with osa_data_a"
   ]
  },
  {
   "cell_type": "code",
   "execution_count": 13,
   "id": "0d736cda",
   "metadata": {
    "execution": {
     "iopub.execute_input": "2022-06-29T12:16:10.311530Z",
     "iopub.status.busy": "2022-06-29T12:16:10.310778Z",
     "iopub.status.idle": "2022-06-29T12:16:15.731718Z",
     "shell.execute_reply": "2022-06-29T12:16:15.730910Z"
    },
    "papermill": {
     "duration": 5.431857,
     "end_time": "2022-06-29T12:16:15.733878",
     "exception": false,
     "start_time": "2022-06-29T12:16:10.302021",
     "status": "completed"
    },
    "scrolled": true,
    "tags": []
   },
   "outputs": [
    {
     "name": "stdout",
     "output_type": "stream",
     "text": [
      "[LightGBM] [Warning] min_data_in_leaf is set=50, min_child_samples=20 will be ignored. Current value: min_data_in_leaf=50\n"
     ]
    },
    {
     "data": {
      "text/plain": [
       "LGBMClassifier(device='gpu', importance_type='gain', max_depth=2,\n",
       "               min_data_in_leaf=50, num_leaves=10, random_state=42)"
      ]
     },
     "execution_count": 13,
     "metadata": {},
     "output_type": "execute_result"
    }
   ],
   "source": [
    "lgbm_a = LGBMClassifier(\n",
    "    random_state=42, \n",
    "    device=\"gpu\", \n",
    "    importance_type='gain',\n",
    "    learning_rate=0.1,\n",
    "    max_depth=2,\n",
    "    min_data_in_leaf=50, \n",
    "    n_estimators=100,\n",
    "    num_leaves=10\n",
    ")\n",
    "lgbm_a.fit(train_a, y_train_a, feature_name=features_a)"
   ]
  },
  {
   "cell_type": "code",
   "execution_count": 14,
   "id": "c578f28b",
   "metadata": {
    "execution": {
     "iopub.execute_input": "2022-06-29T12:16:15.753270Z",
     "iopub.status.busy": "2022-06-29T12:16:15.752986Z",
     "iopub.status.idle": "2022-06-29T12:16:15.763814Z",
     "shell.execute_reply": "2022-06-29T12:16:15.763065Z"
    },
    "papermill": {
     "duration": 0.02207,
     "end_time": "2022-06-29T12:16:15.765556",
     "exception": false,
     "start_time": "2022-06-29T12:16:15.743486",
     "status": "completed"
    },
    "tags": []
   },
   "outputs": [
    {
     "data": {
      "text/plain": [
       "array([1, 1, 1, ..., 0, 1, 1])"
      ]
     },
     "execution_count": 14,
     "metadata": {},
     "output_type": "execute_result"
    }
   ],
   "source": [
    "y_pred_proba = lgbm_a.predict_proba(test_a)[:,1]\n",
    "y_pred = (y_pred_proba > 0.5).astype(int)\n",
    "y_pred"
   ]
  },
  {
   "cell_type": "code",
   "execution_count": 15,
   "id": "983c2f77",
   "metadata": {
    "execution": {
     "iopub.execute_input": "2022-06-29T12:16:15.785078Z",
     "iopub.status.busy": "2022-06-29T12:16:15.784796Z",
     "iopub.status.idle": "2022-06-29T12:16:15.797734Z",
     "shell.execute_reply": "2022-06-29T12:16:15.796701Z"
    },
    "papermill": {
     "duration": 0.024566,
     "end_time": "2022-06-29T12:16:15.799798",
     "exception": false,
     "start_time": "2022-06-29T12:16:15.775232",
     "status": "completed"
    },
    "tags": []
   },
   "outputs": [
    {
     "data": {
      "text/html": [
       "<div>\n",
       "<style scoped>\n",
       "    .dataframe tbody tr th:only-of-type {\n",
       "        vertical-align: middle;\n",
       "    }\n",
       "\n",
       "    .dataframe tbody tr th {\n",
       "        vertical-align: top;\n",
       "    }\n",
       "\n",
       "    .dataframe thead th {\n",
       "        text-align: right;\n",
       "    }\n",
       "</style>\n",
       "<table border=\"1\" class=\"dataframe\">\n",
       "  <thead>\n",
       "    <tr style=\"text-align: right;\">\n",
       "      <th></th>\n",
       "      <th>Value</th>\n",
       "      <th>Feature</th>\n",
       "    </tr>\n",
       "  </thead>\n",
       "  <tbody>\n",
       "    <tr>\n",
       "      <th>56</th>\n",
       "      <td>5905.355681</td>\n",
       "      <td>Total- A+H+RERA#</td>\n",
       "    </tr>\n",
       "    <tr>\n",
       "      <th>47</th>\n",
       "      <td>5422.894258</td>\n",
       "      <td>Total A+H Index(/h)</td>\n",
       "    </tr>\n",
       "    <tr>\n",
       "      <th>46</th>\n",
       "      <td>1919.815612</td>\n",
       "      <td>Total A+H #</td>\n",
       "    </tr>\n",
       "    <tr>\n",
       "      <th>48</th>\n",
       "      <td>1057.476872</td>\n",
       "      <td>SUPINE A+H Index(/h)</td>\n",
       "    </tr>\n",
       "    <tr>\n",
       "      <th>57</th>\n",
       "      <td>279.880291</td>\n",
       "      <td>Total_A+H+RERA_ Index(/h)</td>\n",
       "    </tr>\n",
       "    <tr>\n",
       "      <th>40</th>\n",
       "      <td>239.827970</td>\n",
       "      <td>Supine_Apnea_ Index(/h)</td>\n",
       "    </tr>\n",
       "    <tr>\n",
       "      <th>3</th>\n",
       "      <td>192.653910</td>\n",
       "      <td>weight</td>\n",
       "    </tr>\n",
       "    <tr>\n",
       "      <th>27</th>\n",
       "      <td>183.245400</td>\n",
       "      <td>Movement Arousal #</td>\n",
       "    </tr>\n",
       "    <tr>\n",
       "      <th>37</th>\n",
       "      <td>158.447058</td>\n",
       "      <td>Obstructive apnea #</td>\n",
       "    </tr>\n",
       "    <tr>\n",
       "      <th>67</th>\n",
       "      <td>144.955550</td>\n",
       "      <td>Lowest SaO2 (%)</td>\n",
       "    </tr>\n",
       "  </tbody>\n",
       "</table>\n",
       "</div>"
      ],
      "text/plain": [
       "          Value                    Feature\n",
       "56  5905.355681           Total- A+H+RERA#\n",
       "47  5422.894258        Total A+H Index(/h)\n",
       "46  1919.815612                Total A+H #\n",
       "48  1057.476872       SUPINE A+H Index(/h)\n",
       "57   279.880291  Total_A+H+RERA_ Index(/h)\n",
       "40   239.827970    Supine_Apnea_ Index(/h)\n",
       "3    192.653910                     weight\n",
       "27   183.245400         Movement Arousal #\n",
       "37   158.447058        Obstructive apnea #\n",
       "67   144.955550            Lowest SaO2 (%)"
      ]
     },
     "execution_count": 15,
     "metadata": {},
     "output_type": "execute_result"
    }
   ],
   "source": [
    "feature_importances = pd.DataFrame({'Value': lgbm_a.feature_importances_, 'Feature': features_a})\n",
    "sorted_feature_importances = feature_importances.sort_values(by=['Value'], ascending=False)\n",
    "sorted_feature_importances.head(10)"
   ]
  },
  {
   "cell_type": "markdown",
   "id": "0e8e8e62",
   "metadata": {
    "papermill": {
     "duration": 0.008511,
     "end_time": "2022-06-29T12:16:15.816889",
     "exception": false,
     "start_time": "2022-06-29T12:16:15.808378",
     "status": "completed"
    },
    "tags": []
   },
   "source": [
    "### B. with osa_data_b"
   ]
  },
  {
   "cell_type": "code",
   "execution_count": 16,
   "id": "1d31c499",
   "metadata": {
    "execution": {
     "iopub.execute_input": "2022-06-29T12:16:15.834787Z",
     "iopub.status.busy": "2022-06-29T12:16:15.834255Z",
     "iopub.status.idle": "2022-06-29T12:16:16.178765Z",
     "shell.execute_reply": "2022-06-29T12:16:16.176327Z"
    },
    "papermill": {
     "duration": 0.356051,
     "end_time": "2022-06-29T12:16:16.181343",
     "exception": false,
     "start_time": "2022-06-29T12:16:15.825292",
     "status": "completed"
    },
    "tags": []
   },
   "outputs": [
    {
     "name": "stdout",
     "output_type": "stream",
     "text": [
      "[LightGBM] [Warning] min_data_in_leaf is set=100, min_child_samples=20 will be ignored. Current value: min_data_in_leaf=100\n"
     ]
    },
    {
     "data": {
      "text/plain": [
       "LGBMClassifier(device='gpu', importance_type='gain', max_depth=4,\n",
       "               min_data_in_leaf=100, num_leaves=10, random_state=42)"
      ]
     },
     "execution_count": 16,
     "metadata": {},
     "output_type": "execute_result"
    }
   ],
   "source": [
    "lgbm_b = LGBMClassifier(\n",
    "    random_state=42, \n",
    "    device=\"gpu\", \n",
    "    importance_type='gain',\n",
    "    learning_rate=0.1,\n",
    "    max_depth=4,\n",
    "    min_data_in_leaf=100, \n",
    "    n_estimators=100,\n",
    "    num_leaves=10\n",
    ")\n",
    "lgbm_b.fit(train_b, y_train_b, feature_name=features_b)"
   ]
  },
  {
   "cell_type": "code",
   "execution_count": 17,
   "id": "86880549",
   "metadata": {
    "execution": {
     "iopub.execute_input": "2022-06-29T12:16:16.211869Z",
     "iopub.status.busy": "2022-06-29T12:16:16.211586Z",
     "iopub.status.idle": "2022-06-29T12:16:16.226489Z",
     "shell.execute_reply": "2022-06-29T12:16:16.225445Z"
    },
    "papermill": {
     "duration": 0.033901,
     "end_time": "2022-06-29T12:16:16.228697",
     "exception": false,
     "start_time": "2022-06-29T12:16:16.194796",
     "status": "completed"
    },
    "tags": []
   },
   "outputs": [
    {
     "data": {
      "text/plain": [
       "array([0, 1, 1, ..., 1, 1, 1])"
      ]
     },
     "execution_count": 17,
     "metadata": {},
     "output_type": "execute_result"
    }
   ],
   "source": [
    "y_pred_proba = lgbm_b.predict_proba(test_b)[:,1]\n",
    "y_pred = (y_pred_proba > 0.5).astype(int)\n",
    "y_pred"
   ]
  },
  {
   "cell_type": "code",
   "execution_count": 18,
   "id": "eb77020d",
   "metadata": {
    "execution": {
     "iopub.execute_input": "2022-06-29T12:16:16.248481Z",
     "iopub.status.busy": "2022-06-29T12:16:16.248197Z",
     "iopub.status.idle": "2022-06-29T12:16:16.260414Z",
     "shell.execute_reply": "2022-06-29T12:16:16.259328Z"
    },
    "papermill": {
     "duration": 0.023929,
     "end_time": "2022-06-29T12:16:16.262578",
     "exception": false,
     "start_time": "2022-06-29T12:16:16.238649",
     "status": "completed"
    },
    "tags": []
   },
   "outputs": [
    {
     "data": {
      "text/html": [
       "<div>\n",
       "<style scoped>\n",
       "    .dataframe tbody tr th:only-of-type {\n",
       "        vertical-align: middle;\n",
       "    }\n",
       "\n",
       "    .dataframe tbody tr th {\n",
       "        vertical-align: top;\n",
       "    }\n",
       "\n",
       "    .dataframe thead th {\n",
       "        text-align: right;\n",
       "    }\n",
       "</style>\n",
       "<table border=\"1\" class=\"dataframe\">\n",
       "  <thead>\n",
       "    <tr style=\"text-align: right;\">\n",
       "      <th></th>\n",
       "      <th>Value</th>\n",
       "      <th>Feature</th>\n",
       "    </tr>\n",
       "  </thead>\n",
       "  <tbody>\n",
       "    <tr>\n",
       "      <th>39</th>\n",
       "      <td>6913.541553</td>\n",
       "      <td>Total A+H #</td>\n",
       "    </tr>\n",
       "    <tr>\n",
       "      <th>40</th>\n",
       "      <td>3801.726788</td>\n",
       "      <td>Total A+H Index(/h)</td>\n",
       "    </tr>\n",
       "    <tr>\n",
       "      <th>49</th>\n",
       "      <td>3777.790609</td>\n",
       "      <td>Total- A+H+RERA#</td>\n",
       "    </tr>\n",
       "    <tr>\n",
       "      <th>50</th>\n",
       "      <td>936.140573</td>\n",
       "      <td>Total_A+H+RERA_ Index(/h)</td>\n",
       "    </tr>\n",
       "    <tr>\n",
       "      <th>51</th>\n",
       "      <td>416.606499</td>\n",
       "      <td>Supine0 A+H+RERA_Index(h)</td>\n",
       "    </tr>\n",
       "    <tr>\n",
       "      <th>23</th>\n",
       "      <td>369.187231</td>\n",
       "      <td>Movement Aroual index(/h)</td>\n",
       "    </tr>\n",
       "    <tr>\n",
       "      <th>34</th>\n",
       "      <td>262.741019</td>\n",
       "      <td>Supine_Apnea_ Index(/h)</td>\n",
       "    </tr>\n",
       "    <tr>\n",
       "      <th>2</th>\n",
       "      <td>248.165261</td>\n",
       "      <td>height</td>\n",
       "    </tr>\n",
       "    <tr>\n",
       "      <th>3</th>\n",
       "      <td>209.560669</td>\n",
       "      <td>weight</td>\n",
       "    </tr>\n",
       "    <tr>\n",
       "      <th>55</th>\n",
       "      <td>200.994980</td>\n",
       "      <td>Apnea_Max_ Length(sec)</td>\n",
       "    </tr>\n",
       "  </tbody>\n",
       "</table>\n",
       "</div>"
      ],
      "text/plain": [
       "          Value                    Feature\n",
       "39  6913.541553                Total A+H #\n",
       "40  3801.726788        Total A+H Index(/h)\n",
       "49  3777.790609           Total- A+H+RERA#\n",
       "50   936.140573  Total_A+H+RERA_ Index(/h)\n",
       "51   416.606499  Supine0 A+H+RERA_Index(h)\n",
       "23   369.187231  Movement Aroual index(/h)\n",
       "34   262.741019    Supine_Apnea_ Index(/h)\n",
       "2    248.165261                     height\n",
       "3    209.560669                     weight\n",
       "55   200.994980     Apnea_Max_ Length(sec)"
      ]
     },
     "execution_count": 18,
     "metadata": {},
     "output_type": "execute_result"
    }
   ],
   "source": [
    "feature_importances = pd.DataFrame({'Value': lgbm_b.feature_importances_, 'Feature': features_b})\n",
    "sorted_feature_importances = feature_importances.sort_values(by=['Value'], ascending=False)\n",
    "sorted_feature_importances.head(10)"
   ]
  },
  {
   "cell_type": "markdown",
   "id": "68c85932",
   "metadata": {
    "papermill": {
     "duration": 0.008804,
     "end_time": "2022-06-29T12:16:16.280587",
     "exception": false,
     "start_time": "2022-06-29T12:16:16.271783",
     "status": "completed"
    },
    "tags": []
   },
   "source": [
    "## 0-5. XGBoost"
   ]
  },
  {
   "cell_type": "markdown",
   "id": "53830fa3",
   "metadata": {
    "papermill": {
     "duration": 0.009104,
     "end_time": "2022-06-29T12:16:16.298729",
     "exception": false,
     "start_time": "2022-06-29T12:16:16.289625",
     "status": "completed"
    },
    "tags": []
   },
   "source": [
    "### A. with osa_data_a"
   ]
  },
  {
   "cell_type": "code",
   "execution_count": 19,
   "id": "38f78825",
   "metadata": {
    "execution": {
     "iopub.execute_input": "2022-06-29T12:16:16.317988Z",
     "iopub.status.busy": "2022-06-29T12:16:16.317706Z",
     "iopub.status.idle": "2022-06-29T12:16:18.646835Z",
     "shell.execute_reply": "2022-06-29T12:16:18.645984Z"
    },
    "papermill": {
     "duration": 2.340868,
     "end_time": "2022-06-29T12:16:18.648930",
     "exception": false,
     "start_time": "2022-06-29T12:16:16.308062",
     "status": "completed"
    },
    "tags": []
   },
   "outputs": [
    {
     "data": {
      "text/plain": [
       "XGBClassifier(base_score=0.5, booster='gbtree', callbacks=None,\n",
       "              colsample_bylevel=1, colsample_bynode=1, colsample_bytree=1,\n",
       "              early_stopping_rounds=None, enable_categorical=False,\n",
       "              eval_metric=None, gamma=0.2, gpu_id=0, grow_policy='depthwise',\n",
       "              importance_type=None, interaction_constraints='',\n",
       "              learning_rate=0.01, max_bin=256, max_cat_to_onehot=4,\n",
       "              max_delta_step=0, max_depth=8, max_leaves=0, min_child_weight=10,\n",
       "              missing=nan, monotone_constraints='()', n_estimators=100,\n",
       "              n_jobs=0, num_parallel_tree=1, predictor='auto', random_state=42,\n",
       "              reg_alpha=0.1, reg_lambda=1, ...)"
      ]
     },
     "execution_count": 19,
     "metadata": {},
     "output_type": "execute_result"
    }
   ],
   "source": [
    "xgb_a = XGBClassifier(\n",
    "    random_state=42, \n",
    "    tree_method='gpu_hist',\n",
    "    learning_rate=0.01,\n",
    "    n_estimators=100,\n",
    "    max_depth=8,\n",
    "    min_child_weight=10,\n",
    "    gamma=0.2,\n",
    "    reg_alpha=0.1\n",
    ")\n",
    "xgb_a.fit(train_a, y_train_a)"
   ]
  },
  {
   "cell_type": "code",
   "execution_count": 20,
   "id": "60329dee",
   "metadata": {
    "execution": {
     "iopub.execute_input": "2022-06-29T12:16:18.669246Z",
     "iopub.status.busy": "2022-06-29T12:16:18.668569Z",
     "iopub.status.idle": "2022-06-29T12:16:18.680631Z",
     "shell.execute_reply": "2022-06-29T12:16:18.679706Z"
    },
    "papermill": {
     "duration": 0.02411,
     "end_time": "2022-06-29T12:16:18.682594",
     "exception": false,
     "start_time": "2022-06-29T12:16:18.658484",
     "status": "completed"
    },
    "tags": []
   },
   "outputs": [
    {
     "data": {
      "text/plain": [
       "array([1, 1, 1, ..., 0, 1, 1])"
      ]
     },
     "execution_count": 20,
     "metadata": {},
     "output_type": "execute_result"
    }
   ],
   "source": [
    "y_pred_proba = xgb_a.predict_proba(test_a)[:,1]\n",
    "y_pred = (y_pred_proba > 0.5).astype(int)\n",
    "y_pred"
   ]
  },
  {
   "cell_type": "code",
   "execution_count": 21,
   "id": "5f385aac",
   "metadata": {
    "execution": {
     "iopub.execute_input": "2022-06-29T12:16:18.703772Z",
     "iopub.status.busy": "2022-06-29T12:16:18.703499Z",
     "iopub.status.idle": "2022-06-29T12:16:18.715831Z",
     "shell.execute_reply": "2022-06-29T12:16:18.714685Z"
    },
    "papermill": {
     "duration": 0.024647,
     "end_time": "2022-06-29T12:16:18.717969",
     "exception": false,
     "start_time": "2022-06-29T12:16:18.693322",
     "status": "completed"
    },
    "scrolled": true,
    "tags": []
   },
   "outputs": [
    {
     "data": {
      "text/html": [
       "<div>\n",
       "<style scoped>\n",
       "    .dataframe tbody tr th:only-of-type {\n",
       "        vertical-align: middle;\n",
       "    }\n",
       "\n",
       "    .dataframe tbody tr th {\n",
       "        vertical-align: top;\n",
       "    }\n",
       "\n",
       "    .dataframe thead th {\n",
       "        text-align: right;\n",
       "    }\n",
       "</style>\n",
       "<table border=\"1\" class=\"dataframe\">\n",
       "  <thead>\n",
       "    <tr style=\"text-align: right;\">\n",
       "      <th></th>\n",
       "      <th>Value</th>\n",
       "      <th>Feature</th>\n",
       "    </tr>\n",
       "  </thead>\n",
       "  <tbody>\n",
       "    <tr>\n",
       "      <th>46</th>\n",
       "      <td>0.508838</td>\n",
       "      <td>Total A+H #</td>\n",
       "    </tr>\n",
       "    <tr>\n",
       "      <th>47</th>\n",
       "      <td>0.153062</td>\n",
       "      <td>Total A+H Index(/h)</td>\n",
       "    </tr>\n",
       "    <tr>\n",
       "      <th>56</th>\n",
       "      <td>0.034062</td>\n",
       "      <td>Total- A+H+RERA#</td>\n",
       "    </tr>\n",
       "    <tr>\n",
       "      <th>2</th>\n",
       "      <td>0.014488</td>\n",
       "      <td>height</td>\n",
       "    </tr>\n",
       "    <tr>\n",
       "      <th>57</th>\n",
       "      <td>0.013736</td>\n",
       "      <td>Total_A+H+RERA_ Index(/h)</td>\n",
       "    </tr>\n",
       "    <tr>\n",
       "      <th>74</th>\n",
       "      <td>0.012003</td>\n",
       "      <td>PLM Arousal#</td>\n",
       "    </tr>\n",
       "    <tr>\n",
       "      <th>76</th>\n",
       "      <td>0.009962</td>\n",
       "      <td>MAI(/h)</td>\n",
       "    </tr>\n",
       "    <tr>\n",
       "      <th>27</th>\n",
       "      <td>0.009470</td>\n",
       "      <td>Movement Arousal #</td>\n",
       "    </tr>\n",
       "    <tr>\n",
       "      <th>34</th>\n",
       "      <td>0.009013</td>\n",
       "      <td>Lateral Arousal index(h)</td>\n",
       "    </tr>\n",
       "    <tr>\n",
       "      <th>28</th>\n",
       "      <td>0.008134</td>\n",
       "      <td>Movement Aroual index(/h)</td>\n",
       "    </tr>\n",
       "  </tbody>\n",
       "</table>\n",
       "</div>"
      ],
      "text/plain": [
       "       Value                    Feature\n",
       "46  0.508838                Total A+H #\n",
       "47  0.153062        Total A+H Index(/h)\n",
       "56  0.034062           Total- A+H+RERA#\n",
       "2   0.014488                     height\n",
       "57  0.013736  Total_A+H+RERA_ Index(/h)\n",
       "74  0.012003               PLM Arousal#\n",
       "76  0.009962                    MAI(/h)\n",
       "27  0.009470         Movement Arousal #\n",
       "34  0.009013   Lateral Arousal index(h)\n",
       "28  0.008134  Movement Aroual index(/h)"
      ]
     },
     "execution_count": 21,
     "metadata": {},
     "output_type": "execute_result"
    }
   ],
   "source": [
    "feature_importances = pd.DataFrame({'Value': xgb_a.feature_importances_, 'Feature': features_a})\n",
    "sorted_feature_importances = feature_importances.sort_values(by=['Value'], ascending=False)\n",
    "sorted_feature_importances.head(10)"
   ]
  },
  {
   "cell_type": "markdown",
   "id": "811f07cb",
   "metadata": {
    "papermill": {
     "duration": 0.00914,
     "end_time": "2022-06-29T12:16:18.736769",
     "exception": false,
     "start_time": "2022-06-29T12:16:18.727629",
     "status": "completed"
    },
    "tags": []
   },
   "source": [
    "### B. with osa_data_b"
   ]
  },
  {
   "cell_type": "code",
   "execution_count": 22,
   "id": "250e0d4a",
   "metadata": {
    "execution": {
     "iopub.execute_input": "2022-06-29T12:16:18.757388Z",
     "iopub.status.busy": "2022-06-29T12:16:18.757118Z",
     "iopub.status.idle": "2022-06-29T12:16:18.972212Z",
     "shell.execute_reply": "2022-06-29T12:16:18.971476Z"
    },
    "papermill": {
     "duration": 0.227714,
     "end_time": "2022-06-29T12:16:18.974484",
     "exception": false,
     "start_time": "2022-06-29T12:16:18.746770",
     "status": "completed"
    },
    "tags": []
   },
   "outputs": [
    {
     "data": {
      "text/plain": [
       "XGBClassifier(base_score=0.5, booster='gbtree', callbacks=None,\n",
       "              colsample_bylevel=1, colsample_bynode=1, colsample_bytree=1,\n",
       "              early_stopping_rounds=None, enable_categorical=False,\n",
       "              eval_metric=None, gamma=0.5, gpu_id=0, grow_policy='depthwise',\n",
       "              importance_type=None, interaction_constraints='',\n",
       "              learning_rate=0.1, max_bin=256, max_cat_to_onehot=4,\n",
       "              max_delta_step=0, max_depth=4, max_leaves=0, min_child_weight=1,\n",
       "              missing=nan, monotone_constraints='()', n_estimators=100,\n",
       "              n_jobs=0, num_parallel_tree=1, predictor='auto', random_state=42,\n",
       "              reg_alpha=0.001, reg_lambda=1, ...)"
      ]
     },
     "execution_count": 22,
     "metadata": {},
     "output_type": "execute_result"
    }
   ],
   "source": [
    "xgb_b = XGBClassifier(\n",
    "    random_state=42, \n",
    "    tree_method='gpu_hist',\n",
    "    learning_rate=0.1,\n",
    "    n_estimators=100,\n",
    "    max_depth=4,\n",
    "    min_child_weight=1,\n",
    "    gamma=0.5,\n",
    "    reg_alpha=0.001\n",
    ")\n",
    "xgb_b.fit(train_b, y_train_b)"
   ]
  },
  {
   "cell_type": "code",
   "execution_count": 23,
   "id": "5aebd20e",
   "metadata": {
    "execution": {
     "iopub.execute_input": "2022-06-29T12:16:18.995866Z",
     "iopub.status.busy": "2022-06-29T12:16:18.995080Z",
     "iopub.status.idle": "2022-06-29T12:16:19.006412Z",
     "shell.execute_reply": "2022-06-29T12:16:19.005780Z"
    },
    "papermill": {
     "duration": 0.023735,
     "end_time": "2022-06-29T12:16:19.008441",
     "exception": false,
     "start_time": "2022-06-29T12:16:18.984706",
     "status": "completed"
    },
    "tags": []
   },
   "outputs": [
    {
     "data": {
      "text/plain": [
       "array([0, 1, 1, ..., 1, 1, 1])"
      ]
     },
     "execution_count": 23,
     "metadata": {},
     "output_type": "execute_result"
    }
   ],
   "source": [
    "y_pred_proba = xgb_b.predict_proba(test_b)[:,1]\n",
    "y_pred = (y_pred_proba > 0.5).astype(int)\n",
    "y_pred"
   ]
  },
  {
   "cell_type": "code",
   "execution_count": 24,
   "id": "8ec8b66d",
   "metadata": {
    "execution": {
     "iopub.execute_input": "2022-06-29T12:16:19.030500Z",
     "iopub.status.busy": "2022-06-29T12:16:19.030220Z",
     "iopub.status.idle": "2022-06-29T12:16:19.043420Z",
     "shell.execute_reply": "2022-06-29T12:16:19.042502Z"
    },
    "papermill": {
     "duration": 0.025702,
     "end_time": "2022-06-29T12:16:19.045288",
     "exception": false,
     "start_time": "2022-06-29T12:16:19.019586",
     "status": "completed"
    },
    "tags": []
   },
   "outputs": [
    {
     "data": {
      "text/html": [
       "<div>\n",
       "<style scoped>\n",
       "    .dataframe tbody tr th:only-of-type {\n",
       "        vertical-align: middle;\n",
       "    }\n",
       "\n",
       "    .dataframe tbody tr th {\n",
       "        vertical-align: top;\n",
       "    }\n",
       "\n",
       "    .dataframe thead th {\n",
       "        text-align: right;\n",
       "    }\n",
       "</style>\n",
       "<table border=\"1\" class=\"dataframe\">\n",
       "  <thead>\n",
       "    <tr style=\"text-align: right;\">\n",
       "      <th></th>\n",
       "      <th>Value</th>\n",
       "      <th>Feature</th>\n",
       "    </tr>\n",
       "  </thead>\n",
       "  <tbody>\n",
       "    <tr>\n",
       "      <th>39</th>\n",
       "      <td>0.413808</td>\n",
       "      <td>Total A+H #</td>\n",
       "    </tr>\n",
       "    <tr>\n",
       "      <th>40</th>\n",
       "      <td>0.132040</td>\n",
       "      <td>Total A+H Index(/h)</td>\n",
       "    </tr>\n",
       "    <tr>\n",
       "      <th>49</th>\n",
       "      <td>0.070884</td>\n",
       "      <td>Total- A+H+RERA#</td>\n",
       "    </tr>\n",
       "    <tr>\n",
       "      <th>50</th>\n",
       "      <td>0.053507</td>\n",
       "      <td>Total_A+H+RERA_ Index(/h)</td>\n",
       "    </tr>\n",
       "    <tr>\n",
       "      <th>34</th>\n",
       "      <td>0.012899</td>\n",
       "      <td>Supine_Apnea_ Index(/h)</td>\n",
       "    </tr>\n",
       "    <tr>\n",
       "      <th>2</th>\n",
       "      <td>0.011193</td>\n",
       "      <td>height</td>\n",
       "    </tr>\n",
       "    <tr>\n",
       "      <th>1</th>\n",
       "      <td>0.008469</td>\n",
       "      <td>age</td>\n",
       "    </tr>\n",
       "    <tr>\n",
       "      <th>15</th>\n",
       "      <td>0.008367</td>\n",
       "      <td>Total Aroual index(/h)</td>\n",
       "    </tr>\n",
       "    <tr>\n",
       "      <th>32</th>\n",
       "      <td>0.007824</td>\n",
       "      <td>Obstructive apnea #</td>\n",
       "    </tr>\n",
       "    <tr>\n",
       "      <th>23</th>\n",
       "      <td>0.007719</td>\n",
       "      <td>Movement Aroual index(/h)</td>\n",
       "    </tr>\n",
       "  </tbody>\n",
       "</table>\n",
       "</div>"
      ],
      "text/plain": [
       "       Value                    Feature\n",
       "39  0.413808                Total A+H #\n",
       "40  0.132040        Total A+H Index(/h)\n",
       "49  0.070884           Total- A+H+RERA#\n",
       "50  0.053507  Total_A+H+RERA_ Index(/h)\n",
       "34  0.012899    Supine_Apnea_ Index(/h)\n",
       "2   0.011193                     height\n",
       "1   0.008469                        age\n",
       "15  0.008367     Total Aroual index(/h)\n",
       "32  0.007824        Obstructive apnea #\n",
       "23  0.007719  Movement Aroual index(/h)"
      ]
     },
     "execution_count": 24,
     "metadata": {},
     "output_type": "execute_result"
    }
   ],
   "source": [
    "feature_importances = pd.DataFrame({'Value': xgb_b.feature_importances_, 'Feature': features_b})\n",
    "sorted_feature_importances = feature_importances.sort_values(by=['Value'], ascending=False)\n",
    "sorted_feature_importances.head(10)"
   ]
  }
 ],
 "metadata": {
  "kernelspec": {
   "display_name": "Python 3",
   "language": "python",
   "name": "python3"
  },
  "language_info": {
   "codemirror_mode": {
    "name": "ipython",
    "version": 3
   },
   "file_extension": ".py",
   "mimetype": "text/x-python",
   "name": "python",
   "nbconvert_exporter": "python",
   "pygments_lexer": "ipython3",
   "version": "3.7.12"
  },
  "papermill": {
   "default_parameters": {},
   "duration": 22.063852,
   "end_time": "2022-06-29T12:16:20.377998",
   "environment_variables": {},
   "exception": null,
   "input_path": "__notebook__.ipynb",
   "output_path": "__notebook__.ipynb",
   "parameters": {},
   "start_time": "2022-06-29T12:15:58.314146",
   "version": "2.3.4"
  }
 },
 "nbformat": 4,
 "nbformat_minor": 5
}
