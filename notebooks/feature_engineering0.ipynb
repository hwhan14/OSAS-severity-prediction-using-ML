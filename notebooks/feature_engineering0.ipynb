{
 "cells": [
  {
   "cell_type": "code",
   "execution_count": 1,
   "id": "2332caeb",
   "metadata": {
    "execution": {
     "iopub.execute_input": "2022-06-28T11:06:00.052246Z",
     "iopub.status.busy": "2022-06-28T11:06:00.051642Z",
     "iopub.status.idle": "2022-06-28T11:06:00.065634Z",
     "shell.execute_reply": "2022-06-28T11:06:00.064526Z"
    },
    "papermill": {
     "duration": 0.03888,
     "end_time": "2022-06-28T11:06:00.068159",
     "exception": false,
     "start_time": "2022-06-28T11:06:00.029279",
     "status": "completed"
    },
    "tags": []
   },
   "outputs": [],
   "source": [
    "import warnings\n",
    "warnings.filterwarnings(\"ignore\")"
   ]
  },
  {
   "cell_type": "code",
   "execution_count": 2,
   "id": "5662ea24",
   "metadata": {
    "execution": {
     "iopub.execute_input": "2022-06-28T11:06:00.109576Z",
     "iopub.status.busy": "2022-06-28T11:06:00.108452Z",
     "iopub.status.idle": "2022-06-28T11:06:04.007170Z",
     "shell.execute_reply": "2022-06-28T11:06:04.006085Z"
    },
    "papermill": {
     "duration": 3.922935,
     "end_time": "2022-06-28T11:06:04.009898",
     "exception": false,
     "start_time": "2022-06-28T11:06:00.086963",
     "status": "completed"
    },
    "tags": []
   },
   "outputs": [
    {
     "data": {
      "text/html": [
       "<style type='text/css'>\n",
       ".datatable table.frame { margin-bottom: 0; }\n",
       ".datatable table.frame thead { border-bottom: none; }\n",
       ".datatable table.frame tr.coltypes td {  color: #FFFFFF;  line-height: 6px;  padding: 0 0.5em;}\n",
       ".datatable .bool    { background: #DDDD99; }\n",
       ".datatable .object  { background: #565656; }\n",
       ".datatable .int     { background: #5D9E5D; }\n",
       ".datatable .float   { background: #4040CC; }\n",
       ".datatable .str     { background: #CC4040; }\n",
       ".datatable .time    { background: #40CC40; }\n",
       ".datatable .row_index {  background: var(--jp-border-color3);  border-right: 1px solid var(--jp-border-color0);  color: var(--jp-ui-font-color3);  font-size: 9px;}\n",
       ".datatable .frame tbody td { text-align: left; }\n",
       ".datatable .frame tr.coltypes .row_index {  background: var(--jp-border-color0);}\n",
       ".datatable th:nth-child(2) { padding-left: 12px; }\n",
       ".datatable .hellipsis {  color: var(--jp-cell-editor-border-color);}\n",
       ".datatable .vellipsis {  background: var(--jp-layout-color0);  color: var(--jp-cell-editor-border-color);}\n",
       ".datatable .na {  color: var(--jp-cell-editor-border-color);  font-size: 80%;}\n",
       ".datatable .sp {  opacity: 0.25;}\n",
       ".datatable .footer { font-size: 9px; }\n",
       ".datatable .frame_dimensions {  background: var(--jp-border-color3);  border-top: 1px solid var(--jp-border-color0);  color: var(--jp-ui-font-color3);  display: inline-block;  opacity: 0.6;  padding: 1px 10px 1px 5px;}\n",
       "</style>\n"
      ],
      "text/plain": [
       "<IPython.core.display.HTML object>"
      ]
     },
     "metadata": {},
     "output_type": "display_data"
    }
   ],
   "source": [
    "import numpy as np\n",
    "import pandas as pd\n",
    "import seaborn as sns\n",
    "import matplotlib.pyplot as plt\n",
    "import textwrap\n",
    "from sklearn.metrics import *\n",
    "from sklearn.preprocessing import MinMaxScaler\n",
    "from sklearn.model_selection import GridSearchCV, RandomizedSearchCV\n",
    "from sklearn.linear_model import LogisticRegression\n",
    "from sklearn.svm import SVC\n",
    "from sklearn.ensemble import RandomForestClassifier\n",
    "from sklearn.inspection import permutation_importance\n",
    "from lightgbm import LGBMClassifier\n",
    "from lightgbm import plot_importance as lgbm_plot_importance\n",
    "from xgboost import XGBClassifier\n",
    "from xgboost import plot_importance as xgb_plot_importance"
   ]
  },
  {
   "cell_type": "markdown",
   "id": "354a2a30",
   "metadata": {
    "papermill": {
     "duration": 0.018185,
     "end_time": "2022-06-28T11:06:04.046833",
     "exception": false,
     "start_time": "2022-06-28T11:06:04.028648",
     "status": "completed"
    },
    "tags": []
   },
   "source": [
    "# feature engineering 및 모델별 성능 확인"
   ]
  },
  {
   "cell_type": "markdown",
   "id": "988a8472",
   "metadata": {
    "papermill": {
     "duration": 0.018216,
     "end_time": "2022-06-28T11:06:04.083574",
     "exception": false,
     "start_time": "2022-06-28T11:06:04.065358",
     "status": "completed"
    },
    "tags": []
   },
   "source": [
    "### 평가 지표 함수"
   ]
  },
  {
   "cell_type": "code",
   "execution_count": 3,
   "id": "8a9c1473",
   "metadata": {
    "execution": {
     "iopub.execute_input": "2022-06-28T11:06:04.122903Z",
     "iopub.status.busy": "2022-06-28T11:06:04.122011Z",
     "iopub.status.idle": "2022-06-28T11:06:04.135439Z",
     "shell.execute_reply": "2022-06-28T11:06:04.134293Z"
    },
    "papermill": {
     "duration": 0.035685,
     "end_time": "2022-06-28T11:06:04.137740",
     "exception": false,
     "start_time": "2022-06-28T11:06:04.102055",
     "status": "completed"
    },
    "tags": []
   },
   "outputs": [],
   "source": [
    "osa_data_a_scores = {\n",
    "    'accuracy': {},\n",
    "    'precision': {},\n",
    "    'recall': {},\n",
    "    'f1': {},\n",
    "    'roc_auc': {},\n",
    "}\n",
    "osa_data_b_scores = {\n",
    "    'accuracy': {},\n",
    "    'precision': {},\n",
    "    'recall': {},\n",
    "    'f1': {},\n",
    "    'roc_auc': {},\n",
    "}\n",
    "\n",
    "def eval_metrics(y_test, title='Confusion Matrix', pred=None, pred_proba=None):\n",
    "    cm = confusion_matrix(y_test, pred)\n",
    "    accuracy = accuracy_score(y_test, pred)\n",
    "    precision = precision_score(y_test, pred)\n",
    "    recall = recall_score(y_test, pred)\n",
    "    f1 = f1_score(y_test, pred)\n",
    "    roc_auc = roc_auc_score(y_test, pred_proba)\n",
    "    \n",
    "    label_names = ['TN', 'FP', 'FN', 'TP']\n",
    "    counts = [\"{0:0.0f}\".format(value) for value in cm.flatten()]\n",
    "    percentages = [\"{0:.2%}\".format(value) for value in cm.flatten()/np.sum(cm)]\n",
    "    labels = [f\"{ln}\\n{c}\\n{p}\" for ln, c, p in zip(label_names, counts, percentages)]\n",
    "    labels = np.asarray(labels).reshape(2, 2)\n",
    "\n",
    "    sns.heatmap(cm, annot=labels, fmt='', cmap='Blues').set(title=title)\n",
    "    plt.show()\n",
    "    \n",
    "    print('accuracy: {0:.4f}, precision: {1:.4f}, recall: {2:.4f}, f1: {3:.4f}, roc_auc: {4:.4f}'.format(accuracy, precision, recall, f1, roc_auc))\n",
    "    \n",
    "    scores_dict = {\n",
    "        'accuracy': accuracy,\n",
    "        'precision': precision, \n",
    "        'recall': recall, \n",
    "        'f1': f1, \n",
    "        'roc_auc': roc_auc\n",
    "    }\n",
    "    return scores_dict"
   ]
  },
  {
   "cell_type": "markdown",
   "id": "e8d88139",
   "metadata": {
    "papermill": {
     "duration": 0.018153,
     "end_time": "2022-06-28T11:06:04.175149",
     "exception": false,
     "start_time": "2022-06-28T11:06:04.156996",
     "status": "completed"
    },
    "tags": []
   },
   "source": [
    "# 0. 별다른 feature engineering 없이 진행"
   ]
  },
  {
   "cell_type": "code",
   "execution_count": 4,
   "id": "b0431946",
   "metadata": {
    "execution": {
     "iopub.execute_input": "2022-06-28T11:06:04.214508Z",
     "iopub.status.busy": "2022-06-28T11:06:04.213446Z",
     "iopub.status.idle": "2022-06-28T11:06:04.327663Z",
     "shell.execute_reply": "2022-06-28T11:06:04.326484Z"
    },
    "papermill": {
     "duration": 0.136485,
     "end_time": "2022-06-28T11:06:04.330130",
     "exception": false,
     "start_time": "2022-06-28T11:06:04.193645",
     "status": "completed"
    },
    "tags": []
   },
   "outputs": [
    {
     "data": {
      "text/html": [
       "<div>\n",
       "<style scoped>\n",
       "    .dataframe tbody tr th:only-of-type {\n",
       "        vertical-align: middle;\n",
       "    }\n",
       "\n",
       "    .dataframe tbody tr th {\n",
       "        vertical-align: top;\n",
       "    }\n",
       "\n",
       "    .dataframe thead th {\n",
       "        text-align: right;\n",
       "    }\n",
       "</style>\n",
       "<table border=\"1\" class=\"dataframe\">\n",
       "  <thead>\n",
       "    <tr style=\"text-align: right;\">\n",
       "      <th></th>\n",
       "      <th>ID</th>\n",
       "      <th>sex</th>\n",
       "      <th>age</th>\n",
       "      <th>height</th>\n",
       "      <th>weight</th>\n",
       "      <th>BMI</th>\n",
       "      <th>Time in Bed(min)</th>\n",
       "      <th>Total sleep time(min)</th>\n",
       "      <th>Sleep latency(min)</th>\n",
       "      <th>N2 sleep latency(min)</th>\n",
       "      <th>...</th>\n",
       "      <th>ODI</th>\n",
       "      <th>90%ODI</th>\n",
       "      <th>EtCO2 (&gt;50mmHg)</th>\n",
       "      <th>Total LMI =PLMI(/h)</th>\n",
       "      <th>Total LM Arousal#</th>\n",
       "      <th>Total LM AI(/h)</th>\n",
       "      <th>PLM Arousal#</th>\n",
       "      <th>PLM AI(/h)</th>\n",
       "      <th>MAI(/h)</th>\n",
       "      <th>OSA</th>\n",
       "    </tr>\n",
       "  </thead>\n",
       "  <tbody>\n",
       "    <tr>\n",
       "      <th>0</th>\n",
       "      <td>2170</td>\n",
       "      <td>0</td>\n",
       "      <td>38</td>\n",
       "      <td>173.0</td>\n",
       "      <td>88.0</td>\n",
       "      <td>29.4</td>\n",
       "      <td>448.9</td>\n",
       "      <td>434.5</td>\n",
       "      <td>5.5</td>\n",
       "      <td>4.0</td>\n",
       "      <td>...</td>\n",
       "      <td>62.6</td>\n",
       "      <td>47.2</td>\n",
       "      <td>0.0</td>\n",
       "      <td>0.0</td>\n",
       "      <td>0.0</td>\n",
       "      <td>0.0</td>\n",
       "      <td>0.0</td>\n",
       "      <td>0.0</td>\n",
       "      <td>0.0</td>\n",
       "      <td>1</td>\n",
       "    </tr>\n",
       "    <tr>\n",
       "      <th>1</th>\n",
       "      <td>3539</td>\n",
       "      <td>1</td>\n",
       "      <td>54</td>\n",
       "      <td>156.0</td>\n",
       "      <td>49.0</td>\n",
       "      <td>20.1</td>\n",
       "      <td>476.0</td>\n",
       "      <td>426.0</td>\n",
       "      <td>3.0</td>\n",
       "      <td>2.5</td>\n",
       "      <td>...</td>\n",
       "      <td>2.4</td>\n",
       "      <td>0.1</td>\n",
       "      <td>0.0</td>\n",
       "      <td>0.0</td>\n",
       "      <td>0.0</td>\n",
       "      <td>0.0</td>\n",
       "      <td>0.0</td>\n",
       "      <td>0.0</td>\n",
       "      <td>0.0</td>\n",
       "      <td>0</td>\n",
       "    </tr>\n",
       "    <tr>\n",
       "      <th>2</th>\n",
       "      <td>108</td>\n",
       "      <td>0</td>\n",
       "      <td>62</td>\n",
       "      <td>164.0</td>\n",
       "      <td>67.0</td>\n",
       "      <td>24.9</td>\n",
       "      <td>435.5</td>\n",
       "      <td>351.0</td>\n",
       "      <td>3.5</td>\n",
       "      <td>1.0</td>\n",
       "      <td>...</td>\n",
       "      <td>7.4</td>\n",
       "      <td>0.3</td>\n",
       "      <td>0.0</td>\n",
       "      <td>16.8</td>\n",
       "      <td>9.0</td>\n",
       "      <td>1.5</td>\n",
       "      <td>0.0</td>\n",
       "      <td>0.0</td>\n",
       "      <td>1.5</td>\n",
       "      <td>1</td>\n",
       "    </tr>\n",
       "    <tr>\n",
       "      <th>3</th>\n",
       "      <td>3149</td>\n",
       "      <td>0</td>\n",
       "      <td>33</td>\n",
       "      <td>175.0</td>\n",
       "      <td>106.0</td>\n",
       "      <td>34.6</td>\n",
       "      <td>404.5</td>\n",
       "      <td>374.5</td>\n",
       "      <td>7.0</td>\n",
       "      <td>3.5</td>\n",
       "      <td>...</td>\n",
       "      <td>19.2</td>\n",
       "      <td>1.0</td>\n",
       "      <td>0.0</td>\n",
       "      <td>0.0</td>\n",
       "      <td>0.0</td>\n",
       "      <td>0.0</td>\n",
       "      <td>0.0</td>\n",
       "      <td>0.0</td>\n",
       "      <td>0.0</td>\n",
       "      <td>1</td>\n",
       "    </tr>\n",
       "    <tr>\n",
       "      <th>4</th>\n",
       "      <td>4893</td>\n",
       "      <td>0</td>\n",
       "      <td>56</td>\n",
       "      <td>164.0</td>\n",
       "      <td>72.0</td>\n",
       "      <td>26.8</td>\n",
       "      <td>359.5</td>\n",
       "      <td>236.5</td>\n",
       "      <td>12.5</td>\n",
       "      <td>11.0</td>\n",
       "      <td>...</td>\n",
       "      <td>70.5</td>\n",
       "      <td>54.0</td>\n",
       "      <td>0.0</td>\n",
       "      <td>0.0</td>\n",
       "      <td>0.0</td>\n",
       "      <td>0.0</td>\n",
       "      <td>0.0</td>\n",
       "      <td>0.0</td>\n",
       "      <td>0.0</td>\n",
       "      <td>1</td>\n",
       "    </tr>\n",
       "  </tbody>\n",
       "</table>\n",
       "<p>5 rows × 79 columns</p>\n",
       "</div>"
      ],
      "text/plain": [
       "     ID  sex  age  height  weight   BMI  Time in Bed(min)  \\\n",
       "0  2170    0   38   173.0    88.0  29.4             448.9   \n",
       "1  3539    1   54   156.0    49.0  20.1             476.0   \n",
       "2   108    0   62   164.0    67.0  24.9             435.5   \n",
       "3  3149    0   33   175.0   106.0  34.6             404.5   \n",
       "4  4893    0   56   164.0    72.0  26.8             359.5   \n",
       "\n",
       "   Total sleep time(min)  Sleep latency(min)  N2 sleep latency(min)  ...  \\\n",
       "0                  434.5                 5.5                    4.0  ...   \n",
       "1                  426.0                 3.0                    2.5  ...   \n",
       "2                  351.0                 3.5                    1.0  ...   \n",
       "3                  374.5                 7.0                    3.5  ...   \n",
       "4                  236.5                12.5                   11.0  ...   \n",
       "\n",
       "    ODI  90%ODI  EtCO2 (>50mmHg)  Total LMI =PLMI(/h)  Total LM Arousal#  \\\n",
       "0  62.6    47.2              0.0                  0.0                0.0   \n",
       "1   2.4     0.1              0.0                  0.0                0.0   \n",
       "2   7.4     0.3              0.0                 16.8                9.0   \n",
       "3  19.2     1.0              0.0                  0.0                0.0   \n",
       "4  70.5    54.0              0.0                  0.0                0.0   \n",
       "\n",
       "   Total LM AI(/h)  PLM Arousal#  PLM AI(/h)  MAI(/h)  OSA  \n",
       "0              0.0           0.0         0.0      0.0    1  \n",
       "1              0.0           0.0         0.0      0.0    0  \n",
       "2              1.5           0.0         0.0      1.5    1  \n",
       "3              0.0           0.0         0.0      0.0    1  \n",
       "4              0.0           0.0         0.0      0.0    1  \n",
       "\n",
       "[5 rows x 79 columns]"
      ]
     },
     "execution_count": 4,
     "metadata": {},
     "output_type": "execute_result"
    }
   ],
   "source": [
    "train_a = pd.read_csv('../input/sleep-research/osa_train_a.csv')\n",
    "train_a.head()"
   ]
  },
  {
   "cell_type": "code",
   "execution_count": 5,
   "id": "bbab2dce",
   "metadata": {
    "execution": {
     "iopub.execute_input": "2022-06-28T11:06:04.369692Z",
     "iopub.status.busy": "2022-06-28T11:06:04.369020Z",
     "iopub.status.idle": "2022-06-28T11:06:04.422807Z",
     "shell.execute_reply": "2022-06-28T11:06:04.421408Z"
    },
    "papermill": {
     "duration": 0.077269,
     "end_time": "2022-06-28T11:06:04.426503",
     "exception": false,
     "start_time": "2022-06-28T11:06:04.349234",
     "status": "completed"
    },
    "scrolled": true,
    "tags": []
   },
   "outputs": [
    {
     "data": {
      "text/html": [
       "<div>\n",
       "<style scoped>\n",
       "    .dataframe tbody tr th:only-of-type {\n",
       "        vertical-align: middle;\n",
       "    }\n",
       "\n",
       "    .dataframe tbody tr th {\n",
       "        vertical-align: top;\n",
       "    }\n",
       "\n",
       "    .dataframe thead th {\n",
       "        text-align: right;\n",
       "    }\n",
       "</style>\n",
       "<table border=\"1\" class=\"dataframe\">\n",
       "  <thead>\n",
       "    <tr style=\"text-align: right;\">\n",
       "      <th></th>\n",
       "      <th>ID</th>\n",
       "      <th>sex</th>\n",
       "      <th>age</th>\n",
       "      <th>height</th>\n",
       "      <th>weight</th>\n",
       "      <th>BMI</th>\n",
       "      <th>Time in Bed(min)</th>\n",
       "      <th>Total sleep time(min)</th>\n",
       "      <th>Sleep latency(min)</th>\n",
       "      <th>N2 sleep latency(min)</th>\n",
       "      <th>...</th>\n",
       "      <th>ODI</th>\n",
       "      <th>90%ODI</th>\n",
       "      <th>EtCO2 (&gt;50mmHg)</th>\n",
       "      <th>Total LMI =PLMI(/h)</th>\n",
       "      <th>Total LM Arousal#</th>\n",
       "      <th>Total LM AI(/h)</th>\n",
       "      <th>PLM Arousal#</th>\n",
       "      <th>PLM AI(/h)</th>\n",
       "      <th>MAI(/h)</th>\n",
       "      <th>OSA</th>\n",
       "    </tr>\n",
       "  </thead>\n",
       "  <tbody>\n",
       "    <tr>\n",
       "      <th>0</th>\n",
       "      <td>2021</td>\n",
       "      <td>1</td>\n",
       "      <td>47</td>\n",
       "      <td>164.0</td>\n",
       "      <td>55.0</td>\n",
       "      <td>20.4</td>\n",
       "      <td>362.0</td>\n",
       "      <td>343.0</td>\n",
       "      <td>5.5</td>\n",
       "      <td>2.0</td>\n",
       "      <td>...</td>\n",
       "      <td>7.5</td>\n",
       "      <td>1.0</td>\n",
       "      <td>0.0</td>\n",
       "      <td>11.4</td>\n",
       "      <td>5.0</td>\n",
       "      <td>0.9</td>\n",
       "      <td>5.0</td>\n",
       "      <td>0.9</td>\n",
       "      <td>1.8</td>\n",
       "      <td>1</td>\n",
       "    </tr>\n",
       "    <tr>\n",
       "      <th>1</th>\n",
       "      <td>1506</td>\n",
       "      <td>0</td>\n",
       "      <td>64</td>\n",
       "      <td>175.0</td>\n",
       "      <td>75.0</td>\n",
       "      <td>24.5</td>\n",
       "      <td>395.0</td>\n",
       "      <td>342.0</td>\n",
       "      <td>5.0</td>\n",
       "      <td>4.5</td>\n",
       "      <td>...</td>\n",
       "      <td>9.5</td>\n",
       "      <td>0.4</td>\n",
       "      <td>0.0</td>\n",
       "      <td>0.4</td>\n",
       "      <td>2.0</td>\n",
       "      <td>0.4</td>\n",
       "      <td>0.0</td>\n",
       "      <td>0.0</td>\n",
       "      <td>0.4</td>\n",
       "      <td>0</td>\n",
       "    </tr>\n",
       "    <tr>\n",
       "      <th>2</th>\n",
       "      <td>3160</td>\n",
       "      <td>0</td>\n",
       "      <td>34</td>\n",
       "      <td>170.0</td>\n",
       "      <td>79.0</td>\n",
       "      <td>27.3</td>\n",
       "      <td>415.0</td>\n",
       "      <td>363.5</td>\n",
       "      <td>7.5</td>\n",
       "      <td>20.5</td>\n",
       "      <td>...</td>\n",
       "      <td>5.3</td>\n",
       "      <td>0.7</td>\n",
       "      <td>0.0</td>\n",
       "      <td>0.0</td>\n",
       "      <td>0.0</td>\n",
       "      <td>0.0</td>\n",
       "      <td>0.0</td>\n",
       "      <td>0.0</td>\n",
       "      <td>0.0</td>\n",
       "      <td>1</td>\n",
       "    </tr>\n",
       "    <tr>\n",
       "      <th>3</th>\n",
       "      <td>1092</td>\n",
       "      <td>0</td>\n",
       "      <td>66</td>\n",
       "      <td>167.0</td>\n",
       "      <td>68.0</td>\n",
       "      <td>24.4</td>\n",
       "      <td>318.0</td>\n",
       "      <td>104.0</td>\n",
       "      <td>21.0</td>\n",
       "      <td>6.5</td>\n",
       "      <td>...</td>\n",
       "      <td>67.5</td>\n",
       "      <td>31.7</td>\n",
       "      <td>0.0</td>\n",
       "      <td>0.0</td>\n",
       "      <td>0.0</td>\n",
       "      <td>0.0</td>\n",
       "      <td>0.0</td>\n",
       "      <td>0.0</td>\n",
       "      <td>0.0</td>\n",
       "      <td>1</td>\n",
       "    </tr>\n",
       "    <tr>\n",
       "      <th>4</th>\n",
       "      <td>5043</td>\n",
       "      <td>0</td>\n",
       "      <td>60</td>\n",
       "      <td>169.0</td>\n",
       "      <td>67.0</td>\n",
       "      <td>23.5</td>\n",
       "      <td>383.0</td>\n",
       "      <td>310.0</td>\n",
       "      <td>6.5</td>\n",
       "      <td>4.0</td>\n",
       "      <td>...</td>\n",
       "      <td>31.5</td>\n",
       "      <td>2.5</td>\n",
       "      <td>0.0</td>\n",
       "      <td>0.0</td>\n",
       "      <td>0.0</td>\n",
       "      <td>0.0</td>\n",
       "      <td>0.0</td>\n",
       "      <td>0.0</td>\n",
       "      <td>0.0</td>\n",
       "      <td>1</td>\n",
       "    </tr>\n",
       "  </tbody>\n",
       "</table>\n",
       "<p>5 rows × 79 columns</p>\n",
       "</div>"
      ],
      "text/plain": [
       "     ID  sex  age  height  weight   BMI  Time in Bed(min)  \\\n",
       "0  2021    1   47   164.0    55.0  20.4             362.0   \n",
       "1  1506    0   64   175.0    75.0  24.5             395.0   \n",
       "2  3160    0   34   170.0    79.0  27.3             415.0   \n",
       "3  1092    0   66   167.0    68.0  24.4             318.0   \n",
       "4  5043    0   60   169.0    67.0  23.5             383.0   \n",
       "\n",
       "   Total sleep time(min)  Sleep latency(min)  N2 sleep latency(min)  ...  \\\n",
       "0                  343.0                 5.5                    2.0  ...   \n",
       "1                  342.0                 5.0                    4.5  ...   \n",
       "2                  363.5                 7.5                   20.5  ...   \n",
       "3                  104.0                21.0                    6.5  ...   \n",
       "4                  310.0                 6.5                    4.0  ...   \n",
       "\n",
       "    ODI  90%ODI  EtCO2 (>50mmHg)  Total LMI =PLMI(/h)  Total LM Arousal#  \\\n",
       "0   7.5     1.0              0.0                 11.4                5.0   \n",
       "1   9.5     0.4              0.0                  0.4                2.0   \n",
       "2   5.3     0.7              0.0                  0.0                0.0   \n",
       "3  67.5    31.7              0.0                  0.0                0.0   \n",
       "4  31.5     2.5              0.0                  0.0                0.0   \n",
       "\n",
       "   Total LM AI(/h)  PLM Arousal#  PLM AI(/h)  MAI(/h)  OSA  \n",
       "0              0.9           5.0         0.9      1.8    1  \n",
       "1              0.4           0.0         0.0      0.4    0  \n",
       "2              0.0           0.0         0.0      0.0    1  \n",
       "3              0.0           0.0         0.0      0.0    1  \n",
       "4              0.0           0.0         0.0      0.0    1  \n",
       "\n",
       "[5 rows x 79 columns]"
      ]
     },
     "execution_count": 5,
     "metadata": {},
     "output_type": "execute_result"
    }
   ],
   "source": [
    "test_a = pd.read_csv('../input/sleep-research/osa_test_a.csv')\n",
    "test_a.head()"
   ]
  },
  {
   "cell_type": "code",
   "execution_count": 6,
   "id": "c8ee51d4",
   "metadata": {
    "execution": {
     "iopub.execute_input": "2022-06-28T11:06:04.468046Z",
     "iopub.status.busy": "2022-06-28T11:06:04.467672Z",
     "iopub.status.idle": "2022-06-28T11:06:04.478839Z",
     "shell.execute_reply": "2022-06-28T11:06:04.477659Z"
    },
    "papermill": {
     "duration": 0.034278,
     "end_time": "2022-06-28T11:06:04.481290",
     "exception": false,
     "start_time": "2022-06-28T11:06:04.447012",
     "status": "completed"
    },
    "tags": []
   },
   "outputs": [],
   "source": [
    "X_train_a = train_a.drop(['ID', 'OSA'], axis=1)\n",
    "y_train_a = train_a['OSA']"
   ]
  },
  {
   "cell_type": "code",
   "execution_count": 7,
   "id": "51fe5ba6",
   "metadata": {
    "execution": {
     "iopub.execute_input": "2022-06-28T11:06:04.521722Z",
     "iopub.status.busy": "2022-06-28T11:06:04.521301Z",
     "iopub.status.idle": "2022-06-28T11:06:04.528103Z",
     "shell.execute_reply": "2022-06-28T11:06:04.527036Z"
    },
    "papermill": {
     "duration": 0.029755,
     "end_time": "2022-06-28T11:06:04.530386",
     "exception": false,
     "start_time": "2022-06-28T11:06:04.500631",
     "status": "completed"
    },
    "tags": []
   },
   "outputs": [],
   "source": [
    "X_test_a = test_a.drop(['ID', 'OSA'], axis=1)\n",
    "y_test_a = test_a['OSA']"
   ]
  },
  {
   "cell_type": "code",
   "execution_count": 8,
   "id": "0d79d827",
   "metadata": {
    "execution": {
     "iopub.execute_input": "2022-06-28T11:06:04.571531Z",
     "iopub.status.busy": "2022-06-28T11:06:04.570473Z",
     "iopub.status.idle": "2022-06-28T11:06:04.596088Z",
     "shell.execute_reply": "2022-06-28T11:06:04.594674Z"
    },
    "papermill": {
     "duration": 0.048846,
     "end_time": "2022-06-28T11:06:04.598619",
     "exception": false,
     "start_time": "2022-06-28T11:06:04.549773",
     "status": "completed"
    },
    "tags": []
   },
   "outputs": [
    {
     "name": "stdout",
     "output_type": "stream",
     "text": [
      "Training data shape:  (4121, 77)\n",
      "Testing data shape:  (1031, 77)\n"
     ]
    }
   ],
   "source": [
    "features_a = list(X_train_a.columns)\n",
    "train = X_train_a.copy()\n",
    "test = X_test_a.copy()\n",
    "\n",
    "scaler = MinMaxScaler(feature_range=(0,1))\n",
    "\n",
    "scaler.fit(train)\n",
    "train_a = scaler.transform(train)\n",
    "test_a = scaler.transform(test)\n",
    "\n",
    "print('Training data shape: ', train.shape)\n",
    "print('Testing data shape: ', test.shape)"
   ]
  },
  {
   "cell_type": "code",
   "execution_count": 9,
   "id": "ebc2f9ef",
   "metadata": {
    "execution": {
     "iopub.execute_input": "2022-06-28T11:06:04.639619Z",
     "iopub.status.busy": "2022-06-28T11:06:04.638906Z",
     "iopub.status.idle": "2022-06-28T11:06:04.731273Z",
     "shell.execute_reply": "2022-06-28T11:06:04.730119Z"
    },
    "papermill": {
     "duration": 0.115853,
     "end_time": "2022-06-28T11:06:04.734002",
     "exception": false,
     "start_time": "2022-06-28T11:06:04.618149",
     "status": "completed"
    },
    "tags": []
   },
   "outputs": [
    {
     "data": {
      "text/html": [
       "<div>\n",
       "<style scoped>\n",
       "    .dataframe tbody tr th:only-of-type {\n",
       "        vertical-align: middle;\n",
       "    }\n",
       "\n",
       "    .dataframe tbody tr th {\n",
       "        vertical-align: top;\n",
       "    }\n",
       "\n",
       "    .dataframe thead th {\n",
       "        text-align: right;\n",
       "    }\n",
       "</style>\n",
       "<table border=\"1\" class=\"dataframe\">\n",
       "  <thead>\n",
       "    <tr style=\"text-align: right;\">\n",
       "      <th></th>\n",
       "      <th>ID</th>\n",
       "      <th>sex</th>\n",
       "      <th>age</th>\n",
       "      <th>height</th>\n",
       "      <th>weight</th>\n",
       "      <th>BMI</th>\n",
       "      <th>Time in Bed(min)</th>\n",
       "      <th>Total sleep time(min)</th>\n",
       "      <th>Sleep latency(min)</th>\n",
       "      <th>REM sleep latency(min)</th>\n",
       "      <th>...</th>\n",
       "      <th>Lateral A+H+RERA_ Index(h)</th>\n",
       "      <th>REM A+H+RERA Index(/h)</th>\n",
       "      <th>NREM A+H+RERA Index(/h)</th>\n",
       "      <th>Apnea_Max_ Length(sec)</th>\n",
       "      <th>Hypopnea_Max_ Length(sec)</th>\n",
       "      <th>Resp. Arousal /(A+H)(%)</th>\n",
       "      <th>ODI</th>\n",
       "      <th>90%ODI</th>\n",
       "      <th>EtCO2 (&gt;50mmHg)</th>\n",
       "      <th>OSA</th>\n",
       "    </tr>\n",
       "  </thead>\n",
       "  <tbody>\n",
       "    <tr>\n",
       "      <th>0</th>\n",
       "      <td>4238</td>\n",
       "      <td>0</td>\n",
       "      <td>39</td>\n",
       "      <td>170.0</td>\n",
       "      <td>65.0</td>\n",
       "      <td>22.5</td>\n",
       "      <td>480.5</td>\n",
       "      <td>435.0</td>\n",
       "      <td>2.5</td>\n",
       "      <td>63.0</td>\n",
       "      <td>...</td>\n",
       "      <td>4.2</td>\n",
       "      <td>11.6</td>\n",
       "      <td>8.2</td>\n",
       "      <td>0.0</td>\n",
       "      <td>69.2</td>\n",
       "      <td>87.9</td>\n",
       "      <td>2.3</td>\n",
       "      <td>0.0</td>\n",
       "      <td>0.0</td>\n",
       "      <td>1</td>\n",
       "    </tr>\n",
       "    <tr>\n",
       "      <th>1</th>\n",
       "      <td>1630</td>\n",
       "      <td>0</td>\n",
       "      <td>41</td>\n",
       "      <td>172.0</td>\n",
       "      <td>77.0</td>\n",
       "      <td>26.0</td>\n",
       "      <td>338.5</td>\n",
       "      <td>187.0</td>\n",
       "      <td>3.0</td>\n",
       "      <td>86.5</td>\n",
       "      <td>...</td>\n",
       "      <td>0.0</td>\n",
       "      <td>41.7</td>\n",
       "      <td>19.8</td>\n",
       "      <td>83.4</td>\n",
       "      <td>101.6</td>\n",
       "      <td>38.2</td>\n",
       "      <td>23.7</td>\n",
       "      <td>5.5</td>\n",
       "      <td>0.0</td>\n",
       "      <td>1</td>\n",
       "    </tr>\n",
       "    <tr>\n",
       "      <th>2</th>\n",
       "      <td>2711</td>\n",
       "      <td>0</td>\n",
       "      <td>64</td>\n",
       "      <td>166.0</td>\n",
       "      <td>69.0</td>\n",
       "      <td>25.0</td>\n",
       "      <td>450.0</td>\n",
       "      <td>376.0</td>\n",
       "      <td>8.0</td>\n",
       "      <td>62.0</td>\n",
       "      <td>...</td>\n",
       "      <td>20.7</td>\n",
       "      <td>54.1</td>\n",
       "      <td>42.5</td>\n",
       "      <td>57.4</td>\n",
       "      <td>112.9</td>\n",
       "      <td>79.9</td>\n",
       "      <td>31.9</td>\n",
       "      <td>8.3</td>\n",
       "      <td>0.0</td>\n",
       "      <td>1</td>\n",
       "    </tr>\n",
       "    <tr>\n",
       "      <th>3</th>\n",
       "      <td>662</td>\n",
       "      <td>1</td>\n",
       "      <td>58</td>\n",
       "      <td>157.0</td>\n",
       "      <td>56.0</td>\n",
       "      <td>22.7</td>\n",
       "      <td>394.0</td>\n",
       "      <td>371.0</td>\n",
       "      <td>1.0</td>\n",
       "      <td>188.5</td>\n",
       "      <td>...</td>\n",
       "      <td>0.0</td>\n",
       "      <td>51.9</td>\n",
       "      <td>32.1</td>\n",
       "      <td>47.0</td>\n",
       "      <td>62.7</td>\n",
       "      <td>19.2</td>\n",
       "      <td>33.0</td>\n",
       "      <td>8.1</td>\n",
       "      <td>0.0</td>\n",
       "      <td>1</td>\n",
       "    </tr>\n",
       "    <tr>\n",
       "      <th>4</th>\n",
       "      <td>4666</td>\n",
       "      <td>1</td>\n",
       "      <td>29</td>\n",
       "      <td>154.0</td>\n",
       "      <td>50.0</td>\n",
       "      <td>21.1</td>\n",
       "      <td>278.0</td>\n",
       "      <td>252.0</td>\n",
       "      <td>0.0</td>\n",
       "      <td>0.0</td>\n",
       "      <td>...</td>\n",
       "      <td>0.0</td>\n",
       "      <td>0.0</td>\n",
       "      <td>0.0</td>\n",
       "      <td>0.0</td>\n",
       "      <td>0.0</td>\n",
       "      <td>0.0</td>\n",
       "      <td>0.0</td>\n",
       "      <td>0.0</td>\n",
       "      <td>0.0</td>\n",
       "      <td>0</td>\n",
       "    </tr>\n",
       "  </tbody>\n",
       "</table>\n",
       "<p>5 rows × 63 columns</p>\n",
       "</div>"
      ],
      "text/plain": [
       "     ID  sex  age  height  weight   BMI  Time in Bed(min)  \\\n",
       "0  4238    0   39   170.0    65.0  22.5             480.5   \n",
       "1  1630    0   41   172.0    77.0  26.0             338.5   \n",
       "2  2711    0   64   166.0    69.0  25.0             450.0   \n",
       "3   662    1   58   157.0    56.0  22.7             394.0   \n",
       "4  4666    1   29   154.0    50.0  21.1             278.0   \n",
       "\n",
       "   Total sleep time(min)  Sleep latency(min)  REM sleep latency(min)  ...  \\\n",
       "0                  435.0                 2.5                    63.0  ...   \n",
       "1                  187.0                 3.0                    86.5  ...   \n",
       "2                  376.0                 8.0                    62.0  ...   \n",
       "3                  371.0                 1.0                   188.5  ...   \n",
       "4                  252.0                 0.0                     0.0  ...   \n",
       "\n",
       "   Lateral A+H+RERA_ Index(h)  REM A+H+RERA Index(/h)  \\\n",
       "0                         4.2                    11.6   \n",
       "1                         0.0                    41.7   \n",
       "2                        20.7                    54.1   \n",
       "3                         0.0                    51.9   \n",
       "4                         0.0                     0.0   \n",
       "\n",
       "   NREM A+H+RERA Index(/h)  Apnea_Max_ Length(sec)  Hypopnea_Max_ Length(sec)  \\\n",
       "0                      8.2                     0.0                       69.2   \n",
       "1                     19.8                    83.4                      101.6   \n",
       "2                     42.5                    57.4                      112.9   \n",
       "3                     32.1                    47.0                       62.7   \n",
       "4                      0.0                     0.0                        0.0   \n",
       "\n",
       "   Resp. Arousal /(A+H)(%)   ODI  90%ODI  EtCO2 (>50mmHg)  OSA  \n",
       "0                     87.9   2.3     0.0              0.0    1  \n",
       "1                     38.2  23.7     5.5              0.0    1  \n",
       "2                     79.9  31.9     8.3              0.0    1  \n",
       "3                     19.2  33.0     8.1              0.0    1  \n",
       "4                      0.0   0.0     0.0              0.0    0  \n",
       "\n",
       "[5 rows x 63 columns]"
      ]
     },
     "execution_count": 9,
     "metadata": {},
     "output_type": "execute_result"
    }
   ],
   "source": [
    "train_b = pd.read_csv('../input/sleep-research/osa_train_b.csv')\n",
    "train_b.head()"
   ]
  },
  {
   "cell_type": "code",
   "execution_count": 10,
   "id": "e7f907f5",
   "metadata": {
    "execution": {
     "iopub.execute_input": "2022-06-28T11:06:04.777442Z",
     "iopub.status.busy": "2022-06-28T11:06:04.776467Z",
     "iopub.status.idle": "2022-06-28T11:06:04.829448Z",
     "shell.execute_reply": "2022-06-28T11:06:04.827382Z"
    },
    "papermill": {
     "duration": 0.076675,
     "end_time": "2022-06-28T11:06:04.832119",
     "exception": false,
     "start_time": "2022-06-28T11:06:04.755444",
     "status": "completed"
    },
    "tags": []
   },
   "outputs": [
    {
     "data": {
      "text/html": [
       "<div>\n",
       "<style scoped>\n",
       "    .dataframe tbody tr th:only-of-type {\n",
       "        vertical-align: middle;\n",
       "    }\n",
       "\n",
       "    .dataframe tbody tr th {\n",
       "        vertical-align: top;\n",
       "    }\n",
       "\n",
       "    .dataframe thead th {\n",
       "        text-align: right;\n",
       "    }\n",
       "</style>\n",
       "<table border=\"1\" class=\"dataframe\">\n",
       "  <thead>\n",
       "    <tr style=\"text-align: right;\">\n",
       "      <th></th>\n",
       "      <th>ID</th>\n",
       "      <th>sex</th>\n",
       "      <th>age</th>\n",
       "      <th>height</th>\n",
       "      <th>weight</th>\n",
       "      <th>BMI</th>\n",
       "      <th>Time in Bed(min)</th>\n",
       "      <th>Total sleep time(min)</th>\n",
       "      <th>Sleep latency(min)</th>\n",
       "      <th>REM sleep latency(min)</th>\n",
       "      <th>...</th>\n",
       "      <th>Lateral A+H+RERA_ Index(h)</th>\n",
       "      <th>REM A+H+RERA Index(/h)</th>\n",
       "      <th>NREM A+H+RERA Index(/h)</th>\n",
       "      <th>Apnea_Max_ Length(sec)</th>\n",
       "      <th>Hypopnea_Max_ Length(sec)</th>\n",
       "      <th>Resp. Arousal /(A+H)(%)</th>\n",
       "      <th>ODI</th>\n",
       "      <th>90%ODI</th>\n",
       "      <th>EtCO2 (&gt;50mmHg)</th>\n",
       "      <th>OSA</th>\n",
       "    </tr>\n",
       "  </thead>\n",
       "  <tbody>\n",
       "    <tr>\n",
       "      <th>0</th>\n",
       "      <td>3402</td>\n",
       "      <td>1</td>\n",
       "      <td>35</td>\n",
       "      <td>164.0</td>\n",
       "      <td>56.0</td>\n",
       "      <td>20.8</td>\n",
       "      <td>486.5</td>\n",
       "      <td>452.0</td>\n",
       "      <td>11.0</td>\n",
       "      <td>41.0</td>\n",
       "      <td>...</td>\n",
       "      <td>0.0</td>\n",
       "      <td>0.0</td>\n",
       "      <td>0.0</td>\n",
       "      <td>0.0</td>\n",
       "      <td>0.0</td>\n",
       "      <td>0.0</td>\n",
       "      <td>0.0</td>\n",
       "      <td>0.0</td>\n",
       "      <td>0.0</td>\n",
       "      <td>0</td>\n",
       "    </tr>\n",
       "    <tr>\n",
       "      <th>1</th>\n",
       "      <td>4990</td>\n",
       "      <td>0</td>\n",
       "      <td>41</td>\n",
       "      <td>175.0</td>\n",
       "      <td>92.0</td>\n",
       "      <td>30.0</td>\n",
       "      <td>510.0</td>\n",
       "      <td>492.5</td>\n",
       "      <td>5.0</td>\n",
       "      <td>91.0</td>\n",
       "      <td>...</td>\n",
       "      <td>6.3</td>\n",
       "      <td>16.2</td>\n",
       "      <td>6.6</td>\n",
       "      <td>0.0</td>\n",
       "      <td>79.2</td>\n",
       "      <td>63.6</td>\n",
       "      <td>7.1</td>\n",
       "      <td>0.0</td>\n",
       "      <td>0.0</td>\n",
       "      <td>1</td>\n",
       "    </tr>\n",
       "    <tr>\n",
       "      <th>2</th>\n",
       "      <td>2171</td>\n",
       "      <td>0</td>\n",
       "      <td>54</td>\n",
       "      <td>169.0</td>\n",
       "      <td>82.0</td>\n",
       "      <td>28.7</td>\n",
       "      <td>416.0</td>\n",
       "      <td>312.5</td>\n",
       "      <td>7.0</td>\n",
       "      <td>109.5</td>\n",
       "      <td>...</td>\n",
       "      <td>45.3</td>\n",
       "      <td>50.7</td>\n",
       "      <td>73.2</td>\n",
       "      <td>49.7</td>\n",
       "      <td>65.6</td>\n",
       "      <td>83.8</td>\n",
       "      <td>58.0</td>\n",
       "      <td>30.3</td>\n",
       "      <td>0.0</td>\n",
       "      <td>1</td>\n",
       "    </tr>\n",
       "    <tr>\n",
       "      <th>3</th>\n",
       "      <td>508</td>\n",
       "      <td>0</td>\n",
       "      <td>45</td>\n",
       "      <td>180.0</td>\n",
       "      <td>76.0</td>\n",
       "      <td>23.5</td>\n",
       "      <td>375.0</td>\n",
       "      <td>342.5</td>\n",
       "      <td>4.0</td>\n",
       "      <td>132.5</td>\n",
       "      <td>...</td>\n",
       "      <td>0.0</td>\n",
       "      <td>34.0</td>\n",
       "      <td>5.1</td>\n",
       "      <td>24.5</td>\n",
       "      <td>67.6</td>\n",
       "      <td>62.3</td>\n",
       "      <td>4.4</td>\n",
       "      <td>0.7</td>\n",
       "      <td>0.0</td>\n",
       "      <td>1</td>\n",
       "    </tr>\n",
       "    <tr>\n",
       "      <th>4</th>\n",
       "      <td>3448</td>\n",
       "      <td>0</td>\n",
       "      <td>47</td>\n",
       "      <td>174.0</td>\n",
       "      <td>110.0</td>\n",
       "      <td>36.3</td>\n",
       "      <td>222.0</td>\n",
       "      <td>171.0</td>\n",
       "      <td>4.5</td>\n",
       "      <td>62.0</td>\n",
       "      <td>...</td>\n",
       "      <td>108.5</td>\n",
       "      <td>78.7</td>\n",
       "      <td>119.1</td>\n",
       "      <td>52.2</td>\n",
       "      <td>48.5</td>\n",
       "      <td>69.6</td>\n",
       "      <td>112.6</td>\n",
       "      <td>101.1</td>\n",
       "      <td>0.0</td>\n",
       "      <td>1</td>\n",
       "    </tr>\n",
       "  </tbody>\n",
       "</table>\n",
       "<p>5 rows × 63 columns</p>\n",
       "</div>"
      ],
      "text/plain": [
       "     ID  sex  age  height  weight   BMI  Time in Bed(min)  \\\n",
       "0  3402    1   35   164.0    56.0  20.8             486.5   \n",
       "1  4990    0   41   175.0    92.0  30.0             510.0   \n",
       "2  2171    0   54   169.0    82.0  28.7             416.0   \n",
       "3   508    0   45   180.0    76.0  23.5             375.0   \n",
       "4  3448    0   47   174.0   110.0  36.3             222.0   \n",
       "\n",
       "   Total sleep time(min)  Sleep latency(min)  REM sleep latency(min)  ...  \\\n",
       "0                  452.0                11.0                    41.0  ...   \n",
       "1                  492.5                 5.0                    91.0  ...   \n",
       "2                  312.5                 7.0                   109.5  ...   \n",
       "3                  342.5                 4.0                   132.5  ...   \n",
       "4                  171.0                 4.5                    62.0  ...   \n",
       "\n",
       "   Lateral A+H+RERA_ Index(h)  REM A+H+RERA Index(/h)  \\\n",
       "0                         0.0                     0.0   \n",
       "1                         6.3                    16.2   \n",
       "2                        45.3                    50.7   \n",
       "3                         0.0                    34.0   \n",
       "4                       108.5                    78.7   \n",
       "\n",
       "   NREM A+H+RERA Index(/h)  Apnea_Max_ Length(sec)  Hypopnea_Max_ Length(sec)  \\\n",
       "0                      0.0                     0.0                        0.0   \n",
       "1                      6.6                     0.0                       79.2   \n",
       "2                     73.2                    49.7                       65.6   \n",
       "3                      5.1                    24.5                       67.6   \n",
       "4                    119.1                    52.2                       48.5   \n",
       "\n",
       "   Resp. Arousal /(A+H)(%)    ODI  90%ODI  EtCO2 (>50mmHg)  OSA  \n",
       "0                      0.0    0.0     0.0              0.0    0  \n",
       "1                     63.6    7.1     0.0              0.0    1  \n",
       "2                     83.8   58.0    30.3              0.0    1  \n",
       "3                     62.3    4.4     0.7              0.0    1  \n",
       "4                     69.6  112.6   101.1              0.0    1  \n",
       "\n",
       "[5 rows x 63 columns]"
      ]
     },
     "execution_count": 10,
     "metadata": {},
     "output_type": "execute_result"
    }
   ],
   "source": [
    "test_b = pd.read_csv('../input/sleep-research/osa_test_b.csv')\n",
    "test_b.head()"
   ]
  },
  {
   "cell_type": "code",
   "execution_count": 11,
   "id": "9281a854",
   "metadata": {
    "execution": {
     "iopub.execute_input": "2022-06-28T11:06:04.876146Z",
     "iopub.status.busy": "2022-06-28T11:06:04.875765Z",
     "iopub.status.idle": "2022-06-28T11:06:04.883099Z",
     "shell.execute_reply": "2022-06-28T11:06:04.882050Z"
    },
    "papermill": {
     "duration": 0.031422,
     "end_time": "2022-06-28T11:06:04.885403",
     "exception": false,
     "start_time": "2022-06-28T11:06:04.853981",
     "status": "completed"
    },
    "tags": []
   },
   "outputs": [],
   "source": [
    "X_train_b = train_b.drop(['ID', 'OSA'], axis=1)\n",
    "y_train_b = train_b['OSA']"
   ]
  },
  {
   "cell_type": "code",
   "execution_count": 12,
   "id": "81c9def5",
   "metadata": {
    "execution": {
     "iopub.execute_input": "2022-06-28T11:06:04.928818Z",
     "iopub.status.busy": "2022-06-28T11:06:04.927789Z",
     "iopub.status.idle": "2022-06-28T11:06:04.935060Z",
     "shell.execute_reply": "2022-06-28T11:06:04.933991Z"
    },
    "papermill": {
     "duration": 0.031587,
     "end_time": "2022-06-28T11:06:04.937522",
     "exception": false,
     "start_time": "2022-06-28T11:06:04.905935",
     "status": "completed"
    },
    "tags": []
   },
   "outputs": [],
   "source": [
    "X_test_b = test_b.drop(['ID', 'OSA'], axis=1)\n",
    "y_test_b = test_b['OSA']"
   ]
  },
  {
   "cell_type": "code",
   "execution_count": 13,
   "id": "b3814506",
   "metadata": {
    "execution": {
     "iopub.execute_input": "2022-06-28T11:06:04.981264Z",
     "iopub.status.busy": "2022-06-28T11:06:04.980315Z",
     "iopub.status.idle": "2022-06-28T11:06:05.003044Z",
     "shell.execute_reply": "2022-06-28T11:06:05.001359Z"
    },
    "papermill": {
     "duration": 0.048268,
     "end_time": "2022-06-28T11:06:05.006688",
     "exception": false,
     "start_time": "2022-06-28T11:06:04.958420",
     "status": "completed"
    },
    "tags": []
   },
   "outputs": [
    {
     "name": "stdout",
     "output_type": "stream",
     "text": [
      "Training data shape:  (4347, 61)\n",
      "Testing data shape:  (1087, 61)\n"
     ]
    }
   ],
   "source": [
    "features_b = list(X_train_b.columns)\n",
    "train = X_train_b.copy()\n",
    "test = X_test_b.copy()\n",
    "\n",
    "scaler = MinMaxScaler(feature_range=(0,1))\n",
    "\n",
    "scaler.fit(train)\n",
    "train_b = scaler.transform(train)\n",
    "test_b = scaler.transform(test)\n",
    "\n",
    "print('Training data shape: ', train.shape)\n",
    "print('Testing data shape: ', test.shape)"
   ]
  },
  {
   "cell_type": "markdown",
   "id": "9c56d9b1",
   "metadata": {
    "papermill": {
     "duration": 0.020801,
     "end_time": "2022-06-28T11:06:05.048385",
     "exception": false,
     "start_time": "2022-06-28T11:06:05.027584",
     "status": "completed"
    },
    "tags": []
   },
   "source": [
    "## 0-1. Logistic Regression"
   ]
  },
  {
   "cell_type": "markdown",
   "id": "c2717b0e",
   "metadata": {
    "papermill": {
     "duration": 0.021832,
     "end_time": "2022-06-28T11:06:05.091019",
     "exception": false,
     "start_time": "2022-06-28T11:06:05.069187",
     "status": "completed"
    },
    "tags": []
   },
   "source": [
    "### A. with osa_data_a"
   ]
  },
  {
   "cell_type": "code",
   "execution_count": 14,
   "id": "6f990732",
   "metadata": {
    "execution": {
     "iopub.execute_input": "2022-06-28T11:06:05.134264Z",
     "iopub.status.busy": "2022-06-28T11:06:05.133877Z",
     "iopub.status.idle": "2022-06-28T11:06:15.124213Z",
     "shell.execute_reply": "2022-06-28T11:06:15.122984Z"
    },
    "papermill": {
     "duration": 10.016305,
     "end_time": "2022-06-28T11:06:15.128226",
     "exception": false,
     "start_time": "2022-06-28T11:06:05.111921",
     "status": "completed"
    },
    "tags": []
   },
   "outputs": [
    {
     "name": "stdout",
     "output_type": "stream",
     "text": [
      "{'C': 1.0, 'penalty': 'l2'}\n",
      "0.9085176338712248\n"
     ]
    }
   ],
   "source": [
    "params_dict = {\n",
    "    'C': [0.0001, 0.001, 0.01, 0.1, 1.0, 10.0, 100.0],\n",
    "    'penalty': ['l1', 'l2']\n",
    "}\n",
    "\n",
    "grid_log_reg = GridSearchCV(LogisticRegression(max_iter=500, solver='liblinear', random_state=42), params_dict, cv=3, refit=True)\n",
    "grid_log_reg.fit(train_a, y_train_a)\n",
    "\n",
    "print(grid_log_reg.best_params_)\n",
    "print(grid_log_reg.best_score_)"
   ]
  },
  {
   "cell_type": "code",
   "execution_count": 15,
   "id": "1cf8a744",
   "metadata": {
    "execution": {
     "iopub.execute_input": "2022-06-28T11:06:15.182551Z",
     "iopub.status.busy": "2022-06-28T11:06:15.182132Z",
     "iopub.status.idle": "2022-06-28T11:06:15.195722Z",
     "shell.execute_reply": "2022-06-28T11:06:15.194548Z"
    },
    "papermill": {
     "duration": 0.040454,
     "end_time": "2022-06-28T11:06:15.199372",
     "exception": false,
     "start_time": "2022-06-28T11:06:15.158918",
     "status": "completed"
    },
    "tags": []
   },
   "outputs": [
    {
     "data": {
      "text/plain": [
       "array([1, 1, 1, ..., 0, 1, 1])"
      ]
     },
     "execution_count": 15,
     "metadata": {},
     "output_type": "execute_result"
    }
   ],
   "source": [
    "y_pred_proba = grid_log_reg.best_estimator_.predict_proba(test_a)[:,1]\n",
    "y_pred = (y_pred_proba > 0.5).astype(int)\n",
    "y_pred"
   ]
  },
  {
   "cell_type": "code",
   "execution_count": 16,
   "id": "1ce6e02d",
   "metadata": {
    "execution": {
     "iopub.execute_input": "2022-06-28T11:06:15.280005Z",
     "iopub.status.busy": "2022-06-28T11:06:15.279083Z",
     "iopub.status.idle": "2022-06-28T11:06:15.591933Z",
     "shell.execute_reply": "2022-06-28T11:06:15.590655Z"
    },
    "papermill": {
     "duration": 0.35624,
     "end_time": "2022-06-28T11:06:15.594518",
     "exception": false,
     "start_time": "2022-06-28T11:06:15.238278",
     "status": "completed"
    },
    "tags": []
   },
   "outputs": [
    {
     "data": {
      "image/png": "[encoded data removed]",
      "text/plain": [
       "<Figure size 432x288 with 2 Axes>"
      ]
     },
     "metadata": {
      "needs_background": "light"
     },
     "output_type": "display_data"
    },
    {
     "name": "stdout",
     "output_type": "stream",
     "text": [
      "accuracy: 0.9214, precision: 0.9481, recall: 0.9469, f1: 0.9475, roc_auc: 0.9656\n"
     ]
    }
   ],
   "source": [
    "scores = eval_metrics(y_test_a, title=\"Confusion Matrix(Logistic Regression A)\", pred=y_pred, pred_proba=y_pred_proba)"
   ]
  },
  {
   "cell_type": "code",
   "execution_count": 17,
   "id": "e47799ae",
   "metadata": {
    "execution": {
     "iopub.execute_input": "2022-06-28T11:06:15.641190Z",
     "iopub.status.busy": "2022-06-28T11:06:15.640102Z",
     "iopub.status.idle": "2022-06-28T11:06:15.646399Z",
     "shell.execute_reply": "2022-06-28T11:06:15.645114Z"
    },
    "papermill": {
     "duration": 0.032457,
     "end_time": "2022-06-28T11:06:15.648881",
     "exception": false,
     "start_time": "2022-06-28T11:06:15.616424",
     "status": "completed"
    },
    "tags": []
   },
   "outputs": [],
   "source": [
    "for k in osa_data_a_scores.keys():\n",
    "    osa_data_a_scores[k]['log_reg'] = scores[k]"
   ]
  },
  {
   "cell_type": "markdown",
   "id": "9e97ec05",
   "metadata": {
    "papermill": {
     "duration": 0.021722,
     "end_time": "2022-06-28T11:06:15.692432",
     "exception": false,
     "start_time": "2022-06-28T11:06:15.670710",
     "status": "completed"
    },
    "tags": []
   },
   "source": [
    "### B. with osa_data_b"
   ]
  },
  {
   "cell_type": "code",
   "execution_count": 18,
   "id": "af7197a6",
   "metadata": {
    "execution": {
     "iopub.execute_input": "2022-06-28T11:06:15.738221Z",
     "iopub.status.busy": "2022-06-28T11:06:15.737830Z",
     "iopub.status.idle": "2022-06-28T11:06:23.139460Z",
     "shell.execute_reply": "2022-06-28T11:06:23.136772Z"
    },
    "papermill": {
     "duration": 7.429648,
     "end_time": "2022-06-28T11:06:23.144301",
     "exception": false,
     "start_time": "2022-06-28T11:06:15.714653",
     "status": "completed"
    },
    "tags": []
   },
   "outputs": [
    {
     "name": "stdout",
     "output_type": "stream",
     "text": [
      "{'C': 1.0, 'penalty': 'l2'}\n",
      "0.9075224292615598\n"
     ]
    }
   ],
   "source": [
    "grid_log_reg = GridSearchCV(LogisticRegression(max_iter=500, solver='liblinear', random_state=42), params_dict, cv=3, refit=True)\n",
    "grid_log_reg.fit(train_b, y_train_b)\n",
    "\n",
    "print(grid_log_reg.best_params_)\n",
    "print(grid_log_reg.best_score_)"
   ]
  },
  {
   "cell_type": "code",
   "execution_count": 19,
   "id": "4a9979f8",
   "metadata": {
    "execution": {
     "iopub.execute_input": "2022-06-28T11:06:23.213498Z",
     "iopub.status.busy": "2022-06-28T11:06:23.213086Z",
     "iopub.status.idle": "2022-06-28T11:06:23.225717Z",
     "shell.execute_reply": "2022-06-28T11:06:23.224496Z"
    },
    "papermill": {
     "duration": 0.040258,
     "end_time": "2022-06-28T11:06:23.229498",
     "exception": false,
     "start_time": "2022-06-28T11:06:23.189240",
     "status": "completed"
    },
    "tags": []
   },
   "outputs": [
    {
     "data": {
      "text/plain": [
       "array([0, 1, 1, ..., 1, 1, 1])"
      ]
     },
     "execution_count": 19,
     "metadata": {},
     "output_type": "execute_result"
    }
   ],
   "source": [
    "y_pred_proba = grid_log_reg.best_estimator_.predict_proba(test_b)[:,1]\n",
    "y_pred = (y_pred_proba > 0.5).astype(int)\n",
    "y_pred"
   ]
  },
  {
   "cell_type": "code",
   "execution_count": 20,
   "id": "4d273127",
   "metadata": {
    "execution": {
     "iopub.execute_input": "2022-06-28T11:06:23.315660Z",
     "iopub.status.busy": "2022-06-28T11:06:23.315073Z",
     "iopub.status.idle": "2022-06-28T11:06:23.588419Z",
     "shell.execute_reply": "2022-06-28T11:06:23.587265Z"
    },
    "papermill": {
     "duration": 0.321389,
     "end_time": "2022-06-28T11:06:23.592424",
     "exception": false,
     "start_time": "2022-06-28T11:06:23.271035",
     "status": "completed"
    },
    "tags": []
   },
   "outputs": [
    {
     "data": {
      "image/png": "[encoded data removed]",
      "text/plain": [
       "<Figure size 432x288 with 2 Axes>"
      ]
     },
     "metadata": {
      "needs_background": "light"
     },
     "output_type": "display_data"
    },
    {
     "name": "stdout",
     "output_type": "stream",
     "text": [
      "accuracy: 0.9319, precision: 0.9588, recall: 0.9519, f1: 0.9554, roc_auc: 0.9740\n"
     ]
    }
   ],
   "source": [
    "scores = eval_metrics(y_test_b, title=\"Confusion Matrix(Logistic Regression B)\", pred=y_pred, pred_proba=y_pred_proba)"
   ]
  },
  {
   "cell_type": "code",
   "execution_count": 21,
   "id": "d9336cae",
   "metadata": {
    "execution": {
     "iopub.execute_input": "2022-06-28T11:06:23.641586Z",
     "iopub.status.busy": "2022-06-28T11:06:23.641179Z",
     "iopub.status.idle": "2022-06-28T11:06:23.646946Z",
     "shell.execute_reply": "2022-06-28T11:06:23.645750Z"
    },
    "papermill": {
     "duration": 0.032205,
     "end_time": "2022-06-28T11:06:23.649208",
     "exception": false,
     "start_time": "2022-06-28T11:06:23.617003",
     "status": "completed"
    },
    "tags": []
   },
   "outputs": [],
   "source": [
    "for k in osa_data_b_scores.keys():\n",
    "    osa_data_b_scores[k]['log_reg'] = scores[k]"
   ]
  },
  {
   "cell_type": "markdown",
   "id": "ff9ed7fd",
   "metadata": {
    "papermill": {
     "duration": 0.02431,
     "end_time": "2022-06-28T11:06:23.697124",
     "exception": false,
     "start_time": "2022-06-28T11:06:23.672814",
     "status": "completed"
    },
    "tags": []
   },
   "source": [
    "## 0-2. SVM"
   ]
  },
  {
   "cell_type": "markdown",
   "id": "6579a2da",
   "metadata": {
    "papermill": {
     "duration": 0.022256,
     "end_time": "2022-06-28T11:06:23.742753",
     "exception": false,
     "start_time": "2022-06-28T11:06:23.720497",
     "status": "completed"
    },
    "tags": []
   },
   "source": [
    "### A. with osa_data_a"
   ]
  },
  {
   "cell_type": "code",
   "execution_count": 22,
   "id": "2e0ecb28",
   "metadata": {
    "execution": {
     "iopub.execute_input": "2022-06-28T11:06:23.795888Z",
     "iopub.status.busy": "2022-06-28T11:06:23.794850Z",
     "iopub.status.idle": "2022-06-28T11:10:02.913182Z",
     "shell.execute_reply": "2022-06-28T11:10:02.912056Z"
    },
    "papermill": {
     "duration": 219.169507,
     "end_time": "2022-06-28T11:10:02.938090",
     "exception": false,
     "start_time": "2022-06-28T11:06:23.768583",
     "status": "completed"
    },
    "tags": []
   },
   "outputs": [
    {
     "name": "stdout",
     "output_type": "stream",
     "text": [
      "{'C': 1.0, 'gamma': 1.0}\n",
      "0.9092457892968043\n"
     ]
    }
   ],
   "source": [
    "params_dict = {\n",
    "    'C': [0.001, 0.01, 0.1, 1.0, 10.0],\n",
    "    'gamma': [0.001, 0.01, 0.1, 1.0, 10.0]\n",
    "}\n",
    "\n",
    "grid_svc = GridSearchCV(SVC(probability=True, random_state=42), params_dict, cv=3, refit=True)\n",
    "grid_svc.fit(train_a, y_train_a)\n",
    "\n",
    "print(grid_svc.best_params_)\n",
    "print(grid_svc.best_score_)"
   ]
  },
  {
   "cell_type": "code",
   "execution_count": 23,
   "id": "84d1fd74",
   "metadata": {
    "execution": {
     "iopub.execute_input": "2022-06-28T11:10:02.985599Z",
     "iopub.status.busy": "2022-06-28T11:10:02.985198Z",
     "iopub.status.idle": "2022-06-28T11:10:03.183411Z",
     "shell.execute_reply": "2022-06-28T11:10:03.182353Z"
    },
    "papermill": {
     "duration": 0.224978,
     "end_time": "2022-06-28T11:10:03.186149",
     "exception": false,
     "start_time": "2022-06-28T11:10:02.961171",
     "status": "completed"
    },
    "tags": []
   },
   "outputs": [
    {
     "data": {
      "text/plain": [
       "array([1, 1, 1, ..., 0, 1, 1])"
      ]
     },
     "execution_count": 23,
     "metadata": {},
     "output_type": "execute_result"
    }
   ],
   "source": [
    "y_pred_proba = grid_svc.best_estimator_.predict_proba(test_a)[:,1]\n",
    "y_pred = (y_pred_proba > 0.5).astype(int)\n",
    "y_pred"
   ]
  },
  {
   "cell_type": "code",
   "execution_count": 24,
   "id": "fbe8d06d",
   "metadata": {
    "execution": {
     "iopub.execute_input": "2022-06-28T11:10:03.233994Z",
     "iopub.status.busy": "2022-06-28T11:10:03.233615Z",
     "iopub.status.idle": "2022-06-28T11:10:03.485684Z",
     "shell.execute_reply": "2022-06-28T11:10:03.484578Z"
    },
    "papermill": {
     "duration": 0.279947,
     "end_time": "2022-06-28T11:10:03.489099",
     "exception": false,
     "start_time": "2022-06-28T11:10:03.209152",
     "status": "completed"
    },
    "tags": []
   },
   "outputs": [
    {
     "data": {
      "image/png": "[encoded data removed]",
      "text/plain": [
       "<Figure size 432x288 with 2 Axes>"
      ]
     },
     "metadata": {
      "needs_background": "light"
     },
     "output_type": "display_data"
    },
    {
     "name": "stdout",
     "output_type": "stream",
     "text": [
      "accuracy: 0.9127, precision: 0.9372, recall: 0.9469, f1: 0.9420, roc_auc: 0.9472\n"
     ]
    }
   ],
   "source": [
    "scores = eval_metrics(y_test_a, title=\"Confusion Matrix(SVM A)\", pred=y_pred, pred_proba=y_pred_proba)"
   ]
  },
  {
   "cell_type": "code",
   "execution_count": 25,
   "id": "00308aa0",
   "metadata": {
    "execution": {
     "iopub.execute_input": "2022-06-28T11:10:03.537888Z",
     "iopub.status.busy": "2022-06-28T11:10:03.537141Z",
     "iopub.status.idle": "2022-06-28T11:10:03.543682Z",
     "shell.execute_reply": "2022-06-28T11:10:03.542632Z"
    },
    "papermill": {
     "duration": 0.033555,
     "end_time": "2022-06-28T11:10:03.546055",
     "exception": false,
     "start_time": "2022-06-28T11:10:03.512500",
     "status": "completed"
    },
    "tags": []
   },
   "outputs": [],
   "source": [
    "for k in osa_data_a_scores.keys():\n",
    "    osa_data_a_scores[k]['svm'] = scores[k]"
   ]
  },
  {
   "cell_type": "markdown",
   "id": "44aa425a",
   "metadata": {
    "papermill": {
     "duration": 0.023212,
     "end_time": "2022-06-28T11:10:03.592792",
     "exception": false,
     "start_time": "2022-06-28T11:10:03.569580",
     "status": "completed"
    },
    "tags": []
   },
   "source": [
    "### B. with osa_data_b"
   ]
  },
  {
   "cell_type": "code",
   "execution_count": 26,
   "id": "5d129edd",
   "metadata": {
    "execution": {
     "iopub.execute_input": "2022-06-28T11:10:03.642131Z",
     "iopub.status.busy": "2022-06-28T11:10:03.641503Z",
     "iopub.status.idle": "2022-06-28T11:13:49.589790Z",
     "shell.execute_reply": "2022-06-28T11:13:49.588526Z"
    },
    "papermill": {
     "duration": 226.000311,
     "end_time": "2022-06-28T11:13:49.616584",
     "exception": false,
     "start_time": "2022-06-28T11:10:03.616273",
     "status": "completed"
    },
    "tags": []
   },
   "outputs": [
    {
     "name": "stdout",
     "output_type": "stream",
     "text": [
      "{'C': 10.0, 'gamma': 0.1}\n",
      "0.9105129974695192\n"
     ]
    }
   ],
   "source": [
    "grid_svc = GridSearchCV(SVC(probability=True, random_state=42), params_dict, cv=3, refit=True)\n",
    "grid_svc.fit(train_b, y_train_b)\n",
    "\n",
    "print(grid_svc.best_params_)\n",
    "print(grid_svc.best_score_)"
   ]
  },
  {
   "cell_type": "code",
   "execution_count": 27,
   "id": "0bc19451",
   "metadata": {
    "execution": {
     "iopub.execute_input": "2022-06-28T11:13:49.665322Z",
     "iopub.status.busy": "2022-06-28T11:13:49.664937Z",
     "iopub.status.idle": "2022-06-28T11:13:49.834791Z",
     "shell.execute_reply": "2022-06-28T11:13:49.833539Z"
    },
    "papermill": {
     "duration": 0.197878,
     "end_time": "2022-06-28T11:13:49.837896",
     "exception": false,
     "start_time": "2022-06-28T11:13:49.640018",
     "status": "completed"
    },
    "tags": []
   },
   "outputs": [
    {
     "data": {
      "text/plain": [
       "array([0, 1, 1, ..., 1, 1, 1])"
      ]
     },
     "execution_count": 27,
     "metadata": {},
     "output_type": "execute_result"
    }
   ],
   "source": [
    "y_pred_proba = grid_svc.best_estimator_.predict_proba(test_b)[:,1]\n",
    "y_pred = (y_pred_proba > 0.5).astype(int)\n",
    "y_pred"
   ]
  },
  {
   "cell_type": "code",
   "execution_count": 28,
   "id": "07ce326e",
   "metadata": {
    "execution": {
     "iopub.execute_input": "2022-06-28T11:13:49.887525Z",
     "iopub.status.busy": "2022-06-28T11:13:49.887119Z",
     "iopub.status.idle": "2022-06-28T11:13:50.137713Z",
     "shell.execute_reply": "2022-06-28T11:13:50.136580Z"
    },
    "papermill": {
     "duration": 0.278883,
     "end_time": "2022-06-28T11:13:50.140679",
     "exception": false,
     "start_time": "2022-06-28T11:13:49.861796",
     "status": "completed"
    },
    "tags": []
   },
   "outputs": [
    {
     "data": {
      "image/png": "[encoded data removed]",
      "text/plain": [
       "<Figure size 432x288 with 2 Axes>"
      ]
     },
     "metadata": {
      "needs_background": "light"
     },
     "output_type": "display_data"
    },
    {
     "name": "stdout",
     "output_type": "stream",
     "text": [
      "accuracy: 0.9264, precision: 0.9552, recall: 0.9483, f1: 0.9517, roc_auc: 0.9737\n"
     ]
    }
   ],
   "source": [
    "scores = eval_metrics(y_test_b, title=\"Confusion Matrix(SVM B)\", pred=y_pred, pred_proba=y_pred_proba)"
   ]
  },
  {
   "cell_type": "code",
   "execution_count": 29,
   "id": "15f6aad2",
   "metadata": {
    "execution": {
     "iopub.execute_input": "2022-06-28T11:13:50.190713Z",
     "iopub.status.busy": "2022-06-28T11:13:50.189689Z",
     "iopub.status.idle": "2022-06-28T11:13:50.195645Z",
     "shell.execute_reply": "2022-06-28T11:13:50.194409Z"
    },
    "papermill": {
     "duration": 0.033651,
     "end_time": "2022-06-28T11:13:50.198246",
     "exception": false,
     "start_time": "2022-06-28T11:13:50.164595",
     "status": "completed"
    },
    "tags": []
   },
   "outputs": [],
   "source": [
    "for k in osa_data_b_scores.keys():\n",
    "    osa_data_b_scores[k]['svm'] = scores[k]"
   ]
  },
  {
   "cell_type": "markdown",
   "id": "15802942",
   "metadata": {
    "papermill": {
     "duration": 0.023764,
     "end_time": "2022-06-28T11:13:50.246034",
     "exception": false,
     "start_time": "2022-06-28T11:13:50.222270",
     "status": "completed"
    },
    "tags": []
   },
   "source": [
    "## 0-3. Random Forest"
   ]
  },
  {
   "cell_type": "markdown",
   "id": "9cde1948",
   "metadata": {
    "papermill": {
     "duration": 0.024162,
     "end_time": "2022-06-28T11:13:50.294103",
     "exception": false,
     "start_time": "2022-06-28T11:13:50.269941",
     "status": "completed"
    },
    "tags": []
   },
   "source": [
    "### A. with osa_data_a"
   ]
  },
  {
   "cell_type": "code",
   "execution_count": 30,
   "id": "61bdd72e",
   "metadata": {
    "execution": {
     "iopub.execute_input": "2022-06-28T11:13:50.346174Z",
     "iopub.status.busy": "2022-06-28T11:13:50.345125Z",
     "iopub.status.idle": "2022-06-28T11:26:43.858754Z",
     "shell.execute_reply": "2022-06-28T11:26:43.857650Z"
    },
    "papermill": {
     "duration": 773.566418,
     "end_time": "2022-06-28T11:26:43.885144",
     "exception": false,
     "start_time": "2022-06-28T11:13:50.318726",
     "status": "completed"
    },
    "tags": []
   },
   "outputs": [
    {
     "name": "stdout",
     "output_type": "stream",
     "text": [
      "{'max_depth': 8, 'min_samples_leaf': 6, 'min_samples_split': 20, 'n_estimators': 10}\n",
      "0.9153113363604527\n"
     ]
    }
   ],
   "source": [
    "params_dict = {\n",
    "    'n_estimators': [10, 50, 100],\n",
    "    'max_depth': [2, 4, 6, 8, 10, 12],\n",
    "    'min_samples_leaf': [2, 4, 6, 8, 12, 18],\n",
    "    'min_samples_split': [2, 4, 6, 8, 16, 20]\n",
    "}\n",
    "\n",
    "grid_rf = GridSearchCV(RandomForestClassifier(random_state=42), params_dict, cv=3, refit=True)\n",
    "grid_rf.fit(train_a, y_train_a)\n",
    "\n",
    "print(grid_rf.best_params_)\n",
    "print(grid_rf.best_score_)"
   ]
  },
  {
   "cell_type": "code",
   "execution_count": 31,
   "id": "683886d7",
   "metadata": {
    "execution": {
     "iopub.execute_input": "2022-06-28T11:26:43.934959Z",
     "iopub.status.busy": "2022-06-28T11:26:43.934076Z",
     "iopub.status.idle": "2022-06-28T11:26:43.946837Z",
     "shell.execute_reply": "2022-06-28T11:26:43.945763Z"
    },
    "papermill": {
     "duration": 0.040029,
     "end_time": "2022-06-28T11:26:43.949058",
     "exception": false,
     "start_time": "2022-06-28T11:26:43.909029",
     "status": "completed"
    },
    "tags": []
   },
   "outputs": [
    {
     "data": {
      "text/plain": [
       "array([1, 1, 1, ..., 0, 1, 1])"
      ]
     },
     "execution_count": 31,
     "metadata": {},
     "output_type": "execute_result"
    }
   ],
   "source": [
    "y_pred_proba = grid_rf.best_estimator_.predict_proba(test_a)[:,1]\n",
    "y_pred = (y_pred_proba > 0.5).astype(int)\n",
    "y_pred"
   ]
  },
  {
   "cell_type": "code",
   "execution_count": 32,
   "id": "d48137f2",
   "metadata": {
    "execution": {
     "iopub.execute_input": "2022-06-28T11:26:44.000427Z",
     "iopub.status.busy": "2022-06-28T11:26:43.998385Z",
     "iopub.status.idle": "2022-06-28T11:26:44.247836Z",
     "shell.execute_reply": "2022-06-28T11:26:44.246732Z"
    },
    "papermill": {
     "duration": 0.277219,
     "end_time": "2022-06-28T11:26:44.250473",
     "exception": false,
     "start_time": "2022-06-28T11:26:43.973254",
     "status": "completed"
    },
    "tags": []
   },
   "outputs": [
    {
     "data": {
      "image/png": "[encoded data removed]",
      "text/plain": [
       "<Figure size 432x288 with 2 Axes>"
      ]
     },
     "metadata": {
      "needs_background": "light"
     },
     "output_type": "display_data"
    },
    {
     "name": "stdout",
     "output_type": "stream",
     "text": [
      "accuracy: 0.9156, precision: 0.9276, recall: 0.9624, f1: 0.9447, roc_auc: 0.9658\n"
     ]
    }
   ],
   "source": [
    "scores = eval_metrics(y_test_a, title=\"Confusion Matrix(Random Forest A)\", pred=y_pred, pred_proba=y_pred_proba)"
   ]
  },
  {
   "cell_type": "code",
   "execution_count": 33,
   "id": "eeec43ec",
   "metadata": {
    "execution": {
     "iopub.execute_input": "2022-06-28T11:26:44.301831Z",
     "iopub.status.busy": "2022-06-28T11:26:44.301133Z",
     "iopub.status.idle": "2022-06-28T11:26:44.307235Z",
     "shell.execute_reply": "2022-06-28T11:26:44.306132Z"
    },
    "papermill": {
     "duration": 0.034103,
     "end_time": "2022-06-28T11:26:44.309510",
     "exception": false,
     "start_time": "2022-06-28T11:26:44.275407",
     "status": "completed"
    },
    "tags": []
   },
   "outputs": [],
   "source": [
    "for k in osa_data_a_scores.keys():\n",
    "    osa_data_a_scores[k]['random forest'] = scores[k]"
   ]
  },
  {
   "cell_type": "code",
   "execution_count": 34,
   "id": "0afa218d",
   "metadata": {
    "execution": {
     "iopub.execute_input": "2022-06-28T11:26:44.360518Z",
     "iopub.status.busy": "2022-06-28T11:26:44.359451Z",
     "iopub.status.idle": "2022-06-28T11:26:44.367796Z",
     "shell.execute_reply": "2022-06-28T11:26:44.366858Z"
    },
    "papermill": {
     "duration": 0.036282,
     "end_time": "2022-06-28T11:26:44.370130",
     "exception": false,
     "start_time": "2022-06-28T11:26:44.333848",
     "status": "completed"
    },
    "tags": []
   },
   "outputs": [],
   "source": [
    "forest = grid_rf.best_estimator_\n",
    "importances = forest.feature_importances_\n",
    "std = np.std([tree.feature_importances_ for tree in forest.estimators_], axis=0)"
   ]
  },
  {
   "cell_type": "code",
   "execution_count": 35,
   "id": "a7828b2e",
   "metadata": {
    "execution": {
     "iopub.execute_input": "2022-06-28T11:26:44.421595Z",
     "iopub.status.busy": "2022-06-28T11:26:44.420461Z",
     "iopub.status.idle": "2022-06-28T11:26:45.829473Z",
     "shell.execute_reply": "2022-06-28T11:26:45.828129Z"
    },
    "papermill": {
     "duration": 1.43825,
     "end_time": "2022-06-28T11:26:45.832665",
     "exception": false,
     "start_time": "2022-06-28T11:26:44.394415",
     "status": "completed"
    },
    "tags": []
   },
   "outputs": [
    {
     "data": {
      "image/png": "[encoded data removed]",
      "text/plain": [
       "<Figure size 2160x720 with 1 Axes>"
      ]
     },
     "metadata": {
      "needs_background": "light"
     },
     "output_type": "display_data"
    }
   ],
   "source": [
    "# based on MDI\n",
    "forest_importances = pd.Series(importances, index=features_a)\n",
    "\n",
    "fig, ax = plt.subplots(figsize=(30, 10))\n",
    "forest_importances.plot.bar(yerr=std, ax=ax)\n",
    "ax.set_title(\"Feature Importances(Mean Decrease in Impurity)\")\n",
    "ax.set_ylabel(\"MDI\")\n",
    "plt.show()"
   ]
  },
  {
   "cell_type": "code",
   "execution_count": 36,
   "id": "e19e6d16",
   "metadata": {
    "execution": {
     "iopub.execute_input": "2022-06-28T11:26:45.888348Z",
     "iopub.status.busy": "2022-06-28T11:26:45.887959Z",
     "iopub.status.idle": "2022-06-28T11:26:50.549493Z",
     "shell.execute_reply": "2022-06-28T11:26:50.548125Z"
    },
    "papermill": {
     "duration": 4.69283,
     "end_time": "2022-06-28T11:26:50.552605",
     "exception": false,
     "start_time": "2022-06-28T11:26:45.859775",
     "status": "completed"
    },
    "tags": []
   },
   "outputs": [],
   "source": [
    "# based on feature permutation\n",
    "permut_importance = permutation_importance(\n",
    "    forest, test_a, y_test_a, n_repeats=10, random_state=42, n_jobs=2\n",
    ")\n",
    "forest_importances = pd.Series(permut_importance.importances_mean, index=features_a)"
   ]
  },
  {
   "cell_type": "code",
   "execution_count": 37,
   "id": "0e4c8b86",
   "metadata": {
    "execution": {
     "iopub.execute_input": "2022-06-28T11:26:50.609257Z",
     "iopub.status.busy": "2022-06-28T11:26:50.607992Z",
     "iopub.status.idle": "2022-06-28T11:26:52.312442Z",
     "shell.execute_reply": "2022-06-28T11:26:52.311286Z"
    },
    "papermill": {
     "duration": 1.737059,
     "end_time": "2022-06-28T11:26:52.316624",
     "exception": false,
     "start_time": "2022-06-28T11:26:50.579565",
     "status": "completed"
    },
    "tags": []
   },
   "outputs": [
    {
     "data": {
      "image/png": "[encoded data removed]",
      "text/plain": [
       "<Figure size 2160x720 with 1 Axes>"
      ]
     },
     "metadata": {
      "needs_background": "light"
     },
     "output_type": "display_data"
    }
   ],
   "source": [
    "fig, ax = plt.subplots(figsize=(30, 10))\n",
    "forest_importances.plot.bar(yerr=permut_importance.importances_std, ax=ax)\n",
    "ax.set_title(\"Feature Importances(Feature Permutation)\")\n",
    "ax.set_ylabel(\"Mean accuracy decrease\")\n",
    "plt.show()"
   ]
  },
  {
   "cell_type": "code",
   "execution_count": 38,
   "id": "f1158d5e",
   "metadata": {
    "execution": {
     "iopub.execute_input": "2022-06-28T11:26:52.410007Z",
     "iopub.status.busy": "2022-06-28T11:26:52.409388Z",
     "iopub.status.idle": "2022-06-28T11:26:52.427591Z",
     "shell.execute_reply": "2022-06-28T11:26:52.426213Z"
    },
    "papermill": {
     "duration": 0.06843,
     "end_time": "2022-06-28T11:26:52.430884",
     "exception": false,
     "start_time": "2022-06-28T11:26:52.362454",
     "status": "completed"
    },
    "scrolled": true,
    "tags": []
   },
   "outputs": [
    {
     "data": {
      "text/plain": [
       "Total_A+H+RERA_ Index(/h)    0.007177\n",
       "Total A+H #                  0.006111\n",
       "REM A+H+RERA Index(/h)       0.003201\n",
       "NREM A+H Index(/h)           0.002328\n",
       "Supine_Apnea_ Index(/h)      0.002134\n",
       "Snore Arousal #              0.001358\n",
       "Resp. Arousal /(A+H)(%)      0.001358\n",
       "Supine Arousal index(h)      0.001261\n",
       "Sleep latency(min)           0.001261\n",
       "age                          0.001164\n",
       "dtype: float64"
      ]
     },
     "execution_count": 38,
     "metadata": {},
     "output_type": "execute_result"
    }
   ],
   "source": [
    "forest_importances.nlargest(n=10)"
   ]
  },
  {
   "cell_type": "code",
   "execution_count": 39,
   "id": "1d1ea82a",
   "metadata": {
    "execution": {
     "iopub.execute_input": "2022-06-28T11:26:52.527159Z",
     "iopub.status.busy": "2022-06-28T11:26:52.526686Z",
     "iopub.status.idle": "2022-06-28T11:26:52.539516Z",
     "shell.execute_reply": "2022-06-28T11:26:52.538274Z"
    },
    "papermill": {
     "duration": 0.064966,
     "end_time": "2022-06-28T11:26:52.543456",
     "exception": false,
     "start_time": "2022-06-28T11:26:52.478490",
     "status": "completed"
    },
    "tags": []
   },
   "outputs": [
    {
     "data": {
      "text/plain": [
       "Total_A+H+RERA_ Index(/h)    0.186254\n",
       "SUPINE A+H Index(/h)         0.142423\n",
       "Total A+H #                  0.118894\n",
       "Total Hypopnea Index(h)      0.077470\n",
       "NREM A+H Index(/h)           0.077230\n",
       "Total- A+H+RERA#             0.043790\n",
       "Supine0 A+H+RERA_Index(h)    0.039270\n",
       "Apnea_Max_ Length(sec)       0.038548\n",
       "Total_Apnea_ Index(/h)       0.028402\n",
       "Total_ apnea #               0.027355\n",
       "dtype: float64"
      ]
     },
     "execution_count": 39,
     "metadata": {},
     "output_type": "execute_result"
    }
   ],
   "source": [
    "mdi_importances = pd.Series(importances, index=features_a)\n",
    "mdi_importances.nlargest(n=10)"
   ]
  },
  {
   "cell_type": "markdown",
   "id": "4a2d0b81",
   "metadata": {
    "papermill": {
     "duration": 0.045934,
     "end_time": "2022-06-28T11:26:52.636828",
     "exception": false,
     "start_time": "2022-06-28T11:26:52.590894",
     "status": "completed"
    },
    "tags": []
   },
   "source": [
    "### B. with osa_data_b"
   ]
  },
  {
   "cell_type": "code",
   "execution_count": 40,
   "id": "1b9ddf1b",
   "metadata": {
    "execution": {
     "iopub.execute_input": "2022-06-28T11:26:52.733536Z",
     "iopub.status.busy": "2022-06-28T11:26:52.732911Z",
     "iopub.status.idle": "2022-06-28T11:39:35.329177Z",
     "shell.execute_reply": "2022-06-28T11:39:35.328044Z"
    },
    "papermill": {
     "duration": 762.675192,
     "end_time": "2022-06-28T11:39:35.359769",
     "exception": false,
     "start_time": "2022-06-28T11:26:52.684577",
     "status": "completed"
    },
    "scrolled": true,
    "tags": []
   },
   "outputs": [
    {
     "name": "stdout",
     "output_type": "stream",
     "text": [
      "{'max_depth': 10, 'min_samples_leaf': 6, 'min_samples_split': 16, 'n_estimators': 50}\n",
      "0.9155739590522199\n"
     ]
    }
   ],
   "source": [
    "grid_rf = GridSearchCV(RandomForestClassifier(random_state=42), params_dict, cv=3, refit=True)\n",
    "grid_rf.fit(train_b, y_train_b)\n",
    "\n",
    "print(grid_rf.best_params_)\n",
    "print(grid_rf.best_score_)"
   ]
  },
  {
   "cell_type": "code",
   "execution_count": 41,
   "id": "298785c5",
   "metadata": {
    "execution": {
     "iopub.execute_input": "2022-06-28T11:39:35.419373Z",
     "iopub.status.busy": "2022-06-28T11:39:35.418972Z",
     "iopub.status.idle": "2022-06-28T11:39:35.443961Z",
     "shell.execute_reply": "2022-06-28T11:39:35.442829Z"
    },
    "papermill": {
     "duration": 0.057361,
     "end_time": "2022-06-28T11:39:35.446409",
     "exception": false,
     "start_time": "2022-06-28T11:39:35.389048",
     "status": "completed"
    },
    "tags": []
   },
   "outputs": [
    {
     "data": {
      "text/plain": [
       "array([0, 1, 1, ..., 1, 1, 1])"
      ]
     },
     "execution_count": 41,
     "metadata": {},
     "output_type": "execute_result"
    }
   ],
   "source": [
    "y_pred_proba = grid_rf.best_estimator_.predict_proba(test_b)[:,1]\n",
    "y_pred = (y_pred_proba > 0.5).astype(int)\n",
    "y_pred"
   ]
  },
  {
   "cell_type": "code",
   "execution_count": 42,
   "id": "2627633d",
   "metadata": {
    "execution": {
     "iopub.execute_input": "2022-06-28T11:39:35.506702Z",
     "iopub.status.busy": "2022-06-28T11:39:35.505667Z",
     "iopub.status.idle": "2022-06-28T11:39:35.750789Z",
     "shell.execute_reply": "2022-06-28T11:39:35.749695Z"
    },
    "papermill": {
     "duration": 0.278088,
     "end_time": "2022-06-28T11:39:35.753308",
     "exception": false,
     "start_time": "2022-06-28T11:39:35.475220",
     "status": "completed"
    },
    "tags": []
   },
   "outputs": [
    {
     "data": {
      "image/png": "[encoded data removed]",
      "text/plain": [
       "<Figure size 432x288 with 2 Axes>"
      ]
     },
     "metadata": {
      "needs_background": "light"
     },
     "output_type": "display_data"
    },
    {
     "name": "stdout",
     "output_type": "stream",
     "text": [
      "accuracy: 0.9292, precision: 0.9334, recall: 0.9772, f1: 0.9548, roc_auc: 0.9751\n"
     ]
    }
   ],
   "source": [
    "scores = eval_metrics(y_test_b, title=\"Confusion Matrix(Random Forest B)\", pred=y_pred, pred_proba=y_pred_proba)"
   ]
  },
  {
   "cell_type": "code",
   "execution_count": 43,
   "id": "274bcb30",
   "metadata": {
    "execution": {
     "iopub.execute_input": "2022-06-28T11:39:35.814462Z",
     "iopub.status.busy": "2022-06-28T11:39:35.812528Z",
     "iopub.status.idle": "2022-06-28T11:39:35.818671Z",
     "shell.execute_reply": "2022-06-28T11:39:35.817604Z"
    },
    "papermill": {
     "duration": 0.038772,
     "end_time": "2022-06-28T11:39:35.820981",
     "exception": false,
     "start_time": "2022-06-28T11:39:35.782209",
     "status": "completed"
    },
    "tags": []
   },
   "outputs": [],
   "source": [
    "for k in osa_data_b_scores.keys():\n",
    "    osa_data_b_scores[k]['random forest'] = scores[k]"
   ]
  },
  {
   "cell_type": "code",
   "execution_count": 44,
   "id": "3fed2932",
   "metadata": {
    "execution": {
     "iopub.execute_input": "2022-06-28T11:39:35.879415Z",
     "iopub.status.busy": "2022-06-28T11:39:35.879043Z",
     "iopub.status.idle": "2022-06-28T11:39:35.892888Z",
     "shell.execute_reply": "2022-06-28T11:39:35.891816Z"
    },
    "papermill": {
     "duration": 0.045669,
     "end_time": "2022-06-28T11:39:35.894998",
     "exception": false,
     "start_time": "2022-06-28T11:39:35.849329",
     "status": "completed"
    },
    "tags": []
   },
   "outputs": [],
   "source": [
    "forest = grid_rf.best_estimator_\n",
    "importances = forest.feature_importances_\n",
    "std = np.std([tree.feature_importances_ for tree in forest.estimators_], axis=0)"
   ]
  },
  {
   "cell_type": "code",
   "execution_count": 45,
   "id": "1f5092e2",
   "metadata": {
    "execution": {
     "iopub.execute_input": "2022-06-28T11:39:35.956453Z",
     "iopub.status.busy": "2022-06-28T11:39:35.955269Z",
     "iopub.status.idle": "2022-06-28T11:39:37.124718Z",
     "shell.execute_reply": "2022-06-28T11:39:37.123649Z"
    },
    "papermill": {
     "duration": 1.202737,
     "end_time": "2022-06-28T11:39:37.127159",
     "exception": false,
     "start_time": "2022-06-28T11:39:35.924422",
     "status": "completed"
    },
    "tags": []
   },
   "outputs": [
    {
     "data": {
      "image/png": "[encoded data removed]",
      "text/plain": [
       "<Figure size 2160x720 with 1 Axes>"
      ]
     },
     "metadata": {
      "needs_background": "light"
     },
     "output_type": "display_data"
    }
   ],
   "source": [
    "# based on MDI\n",
    "forest_importances = pd.Series(importances, index=features_b)\n",
    "\n",
    "fig, ax = plt.subplots(figsize=(30, 10))\n",
    "forest_importances.plot.bar(yerr=std, ax=ax)\n",
    "ax.set_title(\"Feature Importances(Mean Decrease in Impurity)\")\n",
    "ax.set_ylabel(\"MDI\")\n",
    "plt.show()"
   ]
  },
  {
   "cell_type": "code",
   "execution_count": 46,
   "id": "318946ca",
   "metadata": {
    "execution": {
     "iopub.execute_input": "2022-06-28T11:39:37.191093Z",
     "iopub.status.busy": "2022-06-28T11:39:37.190691Z",
     "iopub.status.idle": "2022-06-28T11:39:48.729612Z",
     "shell.execute_reply": "2022-06-28T11:39:48.728288Z"
    },
    "papermill": {
     "duration": 11.574189,
     "end_time": "2022-06-28T11:39:48.732761",
     "exception": false,
     "start_time": "2022-06-28T11:39:37.158572",
     "status": "completed"
    },
    "tags": []
   },
   "outputs": [],
   "source": [
    "# based on feature permutation\n",
    "permut_importance = permutation_importance(\n",
    "    forest, test_b, y_test_b, n_repeats=10, random_state=42, n_jobs=2\n",
    ")\n",
    "forest_importances = pd.Series(permut_importance.importances_mean, index=features_b)"
   ]
  },
  {
   "cell_type": "code",
   "execution_count": 47,
   "id": "4a486f89",
   "metadata": {
    "execution": {
     "iopub.execute_input": "2022-06-28T11:39:48.797166Z",
     "iopub.status.busy": "2022-06-28T11:39:48.796754Z",
     "iopub.status.idle": "2022-06-28T11:39:49.973574Z",
     "shell.execute_reply": "2022-06-28T11:39:49.972405Z"
    },
    "papermill": {
     "duration": 1.21261,
     "end_time": "2022-06-28T11:39:49.976711",
     "exception": false,
     "start_time": "2022-06-28T11:39:48.764101",
     "status": "completed"
    },
    "tags": []
   },
   "outputs": [
    {
     "data": {
      "image/png": "[encoded data removed]",
      "text/plain": [
       "<Figure size 2160x720 with 1 Axes>"
      ]
     },
     "metadata": {
      "needs_background": "light"
     },
     "output_type": "display_data"
    }
   ],
   "source": [
    "fig, ax = plt.subplots(figsize=(30, 10))\n",
    "forest_importances.plot.bar(yerr=permut_importance.importances_std, ax=ax)\n",
    "ax.set_title(\"Feature Importances(Feature Permutation)\")\n",
    "ax.set_ylabel(\"Mean accuracy decrease\")\n",
    "plt.show()"
   ]
  },
  {
   "cell_type": "code",
   "execution_count": 48,
   "id": "aada37a2",
   "metadata": {
    "execution": {
     "iopub.execute_input": "2022-06-28T11:39:50.047905Z",
     "iopub.status.busy": "2022-06-28T11:39:50.047519Z",
     "iopub.status.idle": "2022-06-28T11:39:50.058304Z",
     "shell.execute_reply": "2022-06-28T11:39:50.057049Z"
    },
    "papermill": {
     "duration": 0.050459,
     "end_time": "2022-06-28T11:39:50.061532",
     "exception": false,
     "start_time": "2022-06-28T11:39:50.011073",
     "status": "completed"
    },
    "scrolled": true,
    "tags": []
   },
   "outputs": [
    {
     "data": {
      "text/plain": [
       "Total Hypopnea Index(h)         0.005060\n",
       "NREM A+H+RERA Index(/h)         0.004692\n",
       "Total- A+H+RERA#                0.004600\n",
       "sleep efficiency(%)             0.004232\n",
       "SUPINE A+H Index(/h)            0.003680\n",
       "Respiratory Aroual index(/h)    0.003404\n",
       "Movement Aroual index(/h)       0.003220\n",
       "Total A+H Index(/h)             0.003220\n",
       "REM sleep latency(min)          0.003220\n",
       "Obstructive apnea #             0.003128\n",
       "dtype: float64"
      ]
     },
     "execution_count": 48,
     "metadata": {},
     "output_type": "execute_result"
    }
   ],
   "source": [
    "forest_importances.nlargest(n=10)"
   ]
  },
  {
   "cell_type": "code",
   "execution_count": 49,
   "id": "21d8dfa7",
   "metadata": {
    "execution": {
     "iopub.execute_input": "2022-06-28T11:39:50.131361Z",
     "iopub.status.busy": "2022-06-28T11:39:50.130639Z",
     "iopub.status.idle": "2022-06-28T11:39:50.140993Z",
     "shell.execute_reply": "2022-06-28T11:39:50.139799Z"
    },
    "papermill": {
     "duration": 0.047521,
     "end_time": "2022-06-28T11:39:50.143518",
     "exception": false,
     "start_time": "2022-06-28T11:39:50.095997",
     "status": "completed"
    },
    "tags": []
   },
   "outputs": [
    {
     "data": {
      "text/plain": [
       "Total A+H Index(/h)             0.173766\n",
       "Total A+H #                     0.101029\n",
       "Total_A+H+RERA_ Index(/h)       0.073978\n",
       "SUPINE A+H Index(/h)            0.073844\n",
       "Respiratory Aroual index(/h)    0.071765\n",
       "Total- A+H+RERA#                0.068109\n",
       "Respriratory Arousal #          0.063950\n",
       "Supine0 A+H+RERA_Index(h)       0.046465\n",
       "Total Hypopnea Index(h)         0.035502\n",
       "Obstructive apnea #             0.033456\n",
       "dtype: float64"
      ]
     },
     "execution_count": 49,
     "metadata": {},
     "output_type": "execute_result"
    }
   ],
   "source": [
    "mdi_importances = pd.Series(importances, index=features_b)\n",
    "mdi_importances.nlargest(n=10)"
   ]
  },
  {
   "cell_type": "markdown",
   "id": "e9932ef8",
   "metadata": {
    "papermill": {
     "duration": 0.033148,
     "end_time": "2022-06-28T11:39:50.210596",
     "exception": false,
     "start_time": "2022-06-28T11:39:50.177448",
     "status": "completed"
    },
    "tags": []
   },
   "source": [
    "## 0-4. LightGBM"
   ]
  },
  {
   "cell_type": "markdown",
   "id": "d3e957ba",
   "metadata": {
    "papermill": {
     "duration": 0.033191,
     "end_time": "2022-06-28T11:39:50.276965",
     "exception": false,
     "start_time": "2022-06-28T11:39:50.243774",
     "status": "completed"
    },
    "tags": []
   },
   "source": [
    "### A. with osa_data_a"
   ]
  },
  {
   "cell_type": "code",
   "execution_count": null,
   "id": "1a5895c9",
   "metadata": {},
   "outputs": [],
   "source": [
    "params_dict = {\n",
    "    'learning_rate': [0.001, 0.01, 0.1],\n",
    "    'n_estimators': [10, 50, 100],\n",
    "    'max_depth': [2, 4, 6, 8, 10, 12],\n",
    "    'min_data_in_leaf': [10, 50, 100],\n",
    "    'num_leaves': [10, 25, 50, 75, 100]\n",
    "}\n",
    "\n",
    "grid_lgbm = GridSearchCV(LGBMClassifier(random_state=42, device=\"gpu\"), params_dict, cv=3, refit=True)\n",
    "grid_lgbm.fit(train_a, y_train_a, feature_name=features_a)\n",
    "\n",
    "print(grid_lgbm.best_params_) # {'learning_rate': 0.1, 'max_depth': 2, 'min_data_in_leaf': 50, 'n_estimators': 100, 'num_leaves': 10}\n",
    "print(grid_lgbm.best_score_) # 0.9172530252640425"
   ]
  },
  {
   "cell_type": "code",
   "execution_count": null,
   "id": "eb81cc04",
   "metadata": {
    "papermill": {
     "duration": null,
     "end_time": null,
     "exception": null,
     "start_time": null,
     "status": "pending"
    },
    "tags": []
   },
   "outputs": [],
   "source": [
    "y_pred_proba = grid_lgbm.best_estimator_.predict_proba(test_a)[:,1]\n",
    "y_pred = (y_pred_proba > 0.5).astype(int)\n",
    "y_pred"
   ]
  },
  {
   "cell_type": "code",
   "execution_count": null,
   "id": "9a0155fd",
   "metadata": {
    "papermill": {
     "duration": null,
     "end_time": null,
     "exception": null,
     "start_time": null,
     "status": "pending"
    },
    "tags": []
   },
   "outputs": [],
   "source": [
    "scores = eval_metrics(y_test_a, title=\"Confusion Matrix(LGBM A)\", pred=y_pred, pred_proba=y_pred_proba)\n",
    "# accuracy: 0.9166, precision: 0.9277, recall: 0.9637, f1: 0.9454, roc_auc: 0.9690"
   ]
  },
  {
   "cell_type": "code",
   "execution_count": null,
   "id": "c1e98aa4",
   "metadata": {
    "papermill": {
     "duration": null,
     "end_time": null,
     "exception": null,
     "start_time": null,
     "status": "pending"
    },
    "tags": []
   },
   "outputs": [],
   "source": [
    "for k in osa_data_a_scores.keys():\n",
    "    osa_data_a_scores[k]['lgbm'] = scores[k]"
   ]
  },
  {
   "cell_type": "code",
   "execution_count": null,
   "id": "f484c619",
   "metadata": {
    "papermill": {
     "duration": null,
     "end_time": null,
     "exception": null,
     "start_time": null,
     "status": "pending"
    },
    "tags": []
   },
   "outputs": [],
   "source": [
    "model = grid_lgbm.best_estimator_\n",
    "fig, ax = plt.subplots(figsize=(30, 20))\n",
    "\n",
    "ax = lgbm_plot_importance(model, ax=ax, importance_type='split')\n",
    "ax.set(title='Feature Importance(LGBM A Split)', xlabel='Feature Importance', ylabel='Features')\n",
    "plt.show()"
   ]
  },
  {
   "cell_type": "code",
   "execution_count": null,
   "id": "1709ee97",
   "metadata": {
    "papermill": {
     "duration": null,
     "end_time": null,
     "exception": null,
     "start_time": null,
     "status": "pending"
    },
    "tags": []
   },
   "outputs": [],
   "source": [
    "fig, ax = plt.subplots(figsize=(30, 20))\n",
    "\n",
    "ax = lgbm_plot_importance(model, ax=ax, importance_type='gain')\n",
    "ax.set(title='Feature Importance(LGBM A Gain)', xlabel='Feature Importance', ylabel='Features')\n",
    "plt.show()"
   ]
  },
  {
   "cell_type": "markdown",
   "id": "af590d4d",
   "metadata": {
    "papermill": {
     "duration": null,
     "end_time": null,
     "exception": null,
     "start_time": null,
     "status": "pending"
    },
    "tags": []
   },
   "source": [
    "### B. with osa_data_b"
   ]
  },
  {
   "cell_type": "code",
   "execution_count": null,
   "id": "e179ac6d",
   "metadata": {
    "papermill": {
     "duration": null,
     "end_time": null,
     "exception": null,
     "start_time": null,
     "status": "pending"
    },
    "tags": []
   },
   "outputs": [],
   "source": [
    "grid_lgbm = GridSearchCV(LGBMClassifier(random_state=42, device=\"gpu\"), params_dict, cv=3, refit=True)\n",
    "grid_lgbm.fit(train_b, y_train_b, feature_name=features_b)\n",
    "\n",
    "print(grid_lgbm.best_params_) # {'learning_rate': 0.1, 'max_depth': 4, 'min_data_in_leaf': 100, 'n_estimators': 100, 'num_leaves': 10}\n",
    "print(grid_lgbm.best_score_) # 0.9162640901771336"
   ]
  },
  {
   "cell_type": "code",
   "execution_count": null,
   "id": "3905a983",
   "metadata": {
    "papermill": {
     "duration": null,
     "end_time": null,
     "exception": null,
     "start_time": null,
     "status": "pending"
    },
    "tags": []
   },
   "outputs": [],
   "source": [
    "y_pred_proba = grid_lgbm.best_estimator_.predict_proba(test_b)[:,1]\n",
    "y_pred = (y_pred_proba > 0.5).astype(int)\n",
    "y_pred"
   ]
  },
  {
   "cell_type": "code",
   "execution_count": null,
   "id": "240c941e",
   "metadata": {
    "papermill": {
     "duration": null,
     "end_time": null,
     "exception": null,
     "start_time": null,
     "status": "pending"
    },
    "tags": []
   },
   "outputs": [],
   "source": [
    "scores = eval_metrics(y_test_b, title=\"Confusion Matrix(LGBM B)\", pred=y_pred, pred_proba=y_pred_proba)\n",
    "# accuracy: 0.9384, precision: 0.9505, recall: 0.9700, f1: 0.9601, roc_auc: 0.9779"
   ]
  },
  {
   "cell_type": "code",
   "execution_count": null,
   "id": "9065dacd",
   "metadata": {
    "papermill": {
     "duration": null,
     "end_time": null,
     "exception": null,
     "start_time": null,
     "status": "pending"
    },
    "tags": []
   },
   "outputs": [],
   "source": [
    "for k in osa_data_b_scores.keys():\n",
    "    osa_data_b_scores[k]['lgbm'] = scores[k]"
   ]
  },
  {
   "cell_type": "code",
   "execution_count": null,
   "id": "2fc2bc67",
   "metadata": {
    "papermill": {
     "duration": null,
     "end_time": null,
     "exception": null,
     "start_time": null,
     "status": "pending"
    },
    "tags": []
   },
   "outputs": [],
   "source": [
    "model = grid_lgbm.best_estimator_\n",
    "fig, ax = plt.subplots(figsize=(30, 20))\n",
    "\n",
    "ax = lgbm_plot_importance(model, ax=ax, importance_type='split')\n",
    "ax.set(title='Feature Importance(LGBM B Split)', xlabel='Feature Importance', ylabel='Features')\n",
    "plt.show()"
   ]
  },
  {
   "cell_type": "code",
   "execution_count": null,
   "id": "f2ac36e9",
   "metadata": {
    "papermill": {
     "duration": null,
     "end_time": null,
     "exception": null,
     "start_time": null,
     "status": "pending"
    },
    "tags": []
   },
   "outputs": [],
   "source": [
    "fig, ax = plt.subplots(figsize=(30, 20))\n",
    "\n",
    "ax = lgbm_plot_importance(model, ax=ax, importance_type='gain')\n",
    "ax.set(title='Feature Importance(LGBM B Gain)', xlabel='Feature Importance', ylabel='Features')\n",
    "plt.show()"
   ]
  },
  {
   "cell_type": "markdown",
   "id": "554045d9",
   "metadata": {
    "papermill": {
     "duration": null,
     "end_time": null,
     "exception": null,
     "start_time": null,
     "status": "pending"
    },
    "tags": []
   },
   "source": [
    "## 0-5. XGBoost"
   ]
  },
  {
   "cell_type": "markdown",
   "id": "43aabd2b",
   "metadata": {
    "papermill": {
     "duration": null,
     "end_time": null,
     "exception": null,
     "start_time": null,
     "status": "pending"
    },
    "tags": []
   },
   "source": [
    "### A. with osa_data_a"
   ]
  },
  {
   "cell_type": "code",
   "execution_count": null,
   "id": "d565d651",
   "metadata": {
    "papermill": {
     "duration": null,
     "end_time": null,
     "exception": null,
     "start_time": null,
     "status": "pending"
    },
    "tags": []
   },
   "outputs": [],
   "source": [
    "params_dict1 = {\n",
    "    'learning_rate': [0.001, 0.01, 0.1],\n",
    "    'n_estimators': [10, 50, 100],\n",
    "}\n",
    "\n",
    "grid_xgb1 = GridSearchCV(XGBClassifier(random_state=42, tree_method='gpu_hist'), params_dict1, cv=3, refit=True)\n",
    "grid_xgb1.fit(train_a, y_train_a)\n",
    "\n",
    "print(grid_xgb1.best_params_) # {'learning_rate': 0.01, 'n_estimators': 100}\n",
    "print(grid_xgb1.best_score_) # 0.9102149551568636"
   ]
  },
  {
   "cell_type": "code",
   "execution_count": null,
   "id": "18bbd6ac",
   "metadata": {
    "papermill": {
     "duration": null,
     "end_time": null,
     "exception": null,
     "start_time": null,
     "status": "pending"
    },
    "tags": []
   },
   "outputs": [],
   "source": [
    "params_dict2 = {\n",
    "    'max_depth': [4, 6, 8, 10, 12],\n",
    "    'min_child_weight' : [1, 2, 4, 6, 8, 10],\n",
    "}\n",
    "\n",
    "grid_xgb2 = GridSearchCV(XGBClassifier(random_state=42, tree_method='gpu_hist', learning_rate=grid_xgb1.best_params_['learning_rate'], n_estimators=grid_xgb1.best_params_['n_estimators']), params_dict2, cv=3, refit=True)\n",
    "grid_xgb2.fit(train_a, y_train_a)\n",
    "\n",
    "print(grid_xgb2.best_params_) # {'max_depth': 8, 'min_child_weight': 10}\n",
    "print(grid_xgb2.best_score_) # 0.9119145734627722"
   ]
  },
  {
   "cell_type": "code",
   "execution_count": null,
   "id": "8a5aa88d",
   "metadata": {
    "papermill": {
     "duration": null,
     "end_time": null,
     "exception": null,
     "start_time": null,
     "status": "pending"
    },
    "scrolled": true,
    "tags": []
   },
   "outputs": [],
   "source": [
    "params_dict3 = {\n",
    "    'gamma': [0.0, 0.1, 0.2, 0.3, 0.4, 0.5],\n",
    "    'reg_alpha' : [0.0001, 0.001, 0.1, 1, 10],\n",
    "}\n",
    "\n",
    "grid_xgb3 = GridSearchCV(\n",
    "    XGBClassifier(\n",
    "        random_state=42, \n",
    "        tree_method='gpu_hist',\n",
    "        learning_rate=grid_xgb1.best_params_['learning_rate'], \n",
    "        n_estimators=grid_xgb1.best_params_['n_estimators'],\n",
    "        max_depth=grid_xgb2.best_params_['max_depth'],\n",
    "        min_child_weight=grid_xgb2.best_params_['min_child_weight']\n",
    "    ), \n",
    "    params_dict3, \n",
    "    cv=3, \n",
    "    refit=True\n",
    ")\n",
    "grid_xgb3.fit(train_a, y_train_a)\n",
    "\n",
    "print(grid_xgb3.best_params_) # {'gamma': 0.2, 'reg_alpha': 0.1}\n",
    "print(grid_xgb3.best_score_) # 0.9119145734627722"
   ]
  },
  {
   "cell_type": "code",
   "execution_count": null,
   "id": "0108b84a",
   "metadata": {
    "papermill": {
     "duration": null,
     "end_time": null,
     "exception": null,
     "start_time": null,
     "status": "pending"
    },
    "tags": []
   },
   "outputs": [],
   "source": [
    "y_pred_proba = grid_xgb3.best_estimator_.predict_proba(test_a)[:,1]\n",
    "y_pred = (y_pred_proba > 0.5).astype(int)\n",
    "y_pred"
   ]
  },
  {
   "cell_type": "code",
   "execution_count": null,
   "id": "988f87cf",
   "metadata": {
    "papermill": {
     "duration": null,
     "end_time": null,
     "exception": null,
     "start_time": null,
     "status": "pending"
    },
    "tags": []
   },
   "outputs": [],
   "source": [
    "scores = eval_metrics(y_test_a, title=\"Confusion Matrix(XGBoost A)\", pred=y_pred, pred_proba=y_pred_proba)\n",
    "# accuracy: 0.9137, precision: 0.9253, recall: 0.9624, f1: 0.9435, roc_auc: 0.9657"
   ]
  },
  {
   "cell_type": "code",
   "execution_count": null,
   "id": "d801ddd5",
   "metadata": {
    "papermill": {
     "duration": null,
     "end_time": null,
     "exception": null,
     "start_time": null,
     "status": "pending"
    },
    "tags": []
   },
   "outputs": [],
   "source": [
    "for k in osa_data_a_scores.keys():\n",
    "    osa_data_a_scores[k]['xgboost'] = scores[k]"
   ]
  },
  {
   "cell_type": "code",
   "execution_count": null,
   "id": "eff63371",
   "metadata": {
    "papermill": {
     "duration": null,
     "end_time": null,
     "exception": null,
     "start_time": null,
     "status": "pending"
    },
    "scrolled": true,
    "tags": []
   },
   "outputs": [],
   "source": [
    "fig, ax = plt.subplots(figsize=(30, 20))\n",
    "grid_xgb3.best_estimator_.get_booster().feature_names = features_a\n",
    "\n",
    "xgb_plot_importance(grid_xgb3.best_estimator_, ax=ax, importance_type='weight')\n",
    "plt.show()"
   ]
  },
  {
   "cell_type": "code",
   "execution_count": null,
   "id": "f11f4488",
   "metadata": {
    "papermill": {
     "duration": null,
     "end_time": null,
     "exception": null,
     "start_time": null,
     "status": "pending"
    },
    "tags": []
   },
   "outputs": [],
   "source": [
    "fig, ax = plt.subplots(figsize=(30, 20))\n",
    "\n",
    "xgb_plot_importance(grid_xgb3.best_estimator_, ax=ax, importance_type='gain')\n",
    "plt.show()"
   ]
  },
  {
   "cell_type": "code",
   "execution_count": null,
   "id": "0e784018",
   "metadata": {
    "papermill": {
     "duration": null,
     "end_time": null,
     "exception": null,
     "start_time": null,
     "status": "pending"
    },
    "tags": []
   },
   "outputs": [],
   "source": [
    "fig, ax = plt.subplots(figsize=(30, 20))\n",
    "\n",
    "xgb_plot_importance(grid_xgb3.best_estimator_, ax=ax, importance_type='cover')\n",
    "plt.show()"
   ]
  },
  {
   "cell_type": "markdown",
   "id": "b4e1884e",
   "metadata": {
    "papermill": {
     "duration": null,
     "end_time": null,
     "exception": null,
     "start_time": null,
     "status": "pending"
    },
    "tags": []
   },
   "source": [
    "### B. with osa_data_b"
   ]
  },
  {
   "cell_type": "code",
   "execution_count": null,
   "id": "e0a716ba",
   "metadata": {
    "papermill": {
     "duration": null,
     "end_time": null,
     "exception": null,
     "start_time": null,
     "status": "pending"
    },
    "tags": []
   },
   "outputs": [],
   "source": [
    "params_dict1 = {\n",
    "    'learning_rate': [0.001, 0.01, 0.1],\n",
    "    'n_estimators': [10, 50, 100],\n",
    "}\n",
    "\n",
    "grid_xgb1 = GridSearchCV(XGBClassifier(random_state=42, tree_method='gpu_hist'), params_dict1, cv=3, refit=True)\n",
    "grid_xgb1.fit(train_b, y_train_b)\n",
    "\n",
    "print(grid_xgb1.best_params_) # {'learning_rate': 0.1, 'n_estimators': 100}\n",
    "print(grid_xgb1.best_score_) # 0.9093627789279962"
   ]
  },
  {
   "cell_type": "code",
   "execution_count": null,
   "id": "02d740f7",
   "metadata": {
    "papermill": {
     "duration": null,
     "end_time": null,
     "exception": null,
     "start_time": null,
     "status": "pending"
    },
    "tags": []
   },
   "outputs": [],
   "source": [
    "params_dict2 = {\n",
    "    'max_depth': [4, 6, 8, 10, 12],\n",
    "    'min_child_weight' : [1, 2, 4, 6, 8, 10],\n",
    "}\n",
    "\n",
    "grid_xgb2 = GridSearchCV(XGBClassifier(random_state=42, tree_method='gpu_hist', learning_rate=grid_xgb1.best_params_['learning_rate'], n_estimators=grid_xgb1.best_params_['n_estimators']), params_dict2, cv=3, refit=True)\n",
    "grid_xgb2.fit(train_b, y_train_b)\n",
    "\n",
    "print(grid_xgb2.best_params_) # {'max_depth': 4, 'min_child_weight': 1}\n",
    "print(grid_xgb2.best_score_) # 0.912353347135956"
   ]
  },
  {
   "cell_type": "code",
   "execution_count": null,
   "id": "de110b90",
   "metadata": {
    "papermill": {
     "duration": null,
     "end_time": null,
     "exception": null,
     "start_time": null,
     "status": "pending"
    },
    "tags": []
   },
   "outputs": [],
   "source": [
    "params_dict3 = {\n",
    "    'gamma': [0.0, 0.1, 0.2, 0.3, 0.4, 0.5],\n",
    "    'reg_alpha' : [0.0001, 0.001, 0.1, 1, 10],\n",
    "}\n",
    "\n",
    "grid_xgb3 = GridSearchCV(\n",
    "    XGBClassifier(\n",
    "        random_state=42, \n",
    "        tree_method='gpu_hist',\n",
    "        learning_rate=grid_xgb1.best_params_['learning_rate'], \n",
    "        n_estimators=grid_xgb1.best_params_['n_estimators'],\n",
    "        max_depth=grid_xgb2.best_params_['max_depth'],\n",
    "        min_child_weight=grid_xgb2.best_params_['min_child_weight']\n",
    "    ), \n",
    "    params_dict3, \n",
    "    cv=3, \n",
    "    refit=True\n",
    ")\n",
    "grid_xgb3.fit(train_b, y_train_b)\n",
    "\n",
    "print(grid_xgb3.best_params_) # {'gamma': 0.5, 'reg_alpha': 0.001}\n",
    "print(grid_xgb3.best_score_) # 0.9146537842190016"
   ]
  },
  {
   "cell_type": "code",
   "execution_count": null,
   "id": "7fb13ce9",
   "metadata": {
    "papermill": {
     "duration": null,
     "end_time": null,
     "exception": null,
     "start_time": null,
     "status": "pending"
    },
    "tags": []
   },
   "outputs": [],
   "source": [
    "y_pred_proba = grid_xgb3.best_estimator_.predict_proba(test_b)[:,1]\n",
    "y_pred = (y_pred_proba > 0.5).astype(int)\n",
    "y_pred"
   ]
  },
  {
   "cell_type": "code",
   "execution_count": null,
   "id": "b9f88904",
   "metadata": {
    "papermill": {
     "duration": null,
     "end_time": null,
     "exception": null,
     "start_time": null,
     "status": "pending"
    },
    "tags": []
   },
   "outputs": [],
   "source": [
    "scores = eval_metrics(y_test_b, title=\"Confusion Matrix(XGBoost B)\", pred=y_pred, pred_proba=y_pred_proba)\n",
    "# accuracy: 0.9347, precision: 0.9440, recall: 0.9724, f1: 0.9580, roc_auc: 0.9758"
   ]
  },
  {
   "cell_type": "code",
   "execution_count": null,
   "id": "11811ca3",
   "metadata": {
    "papermill": {
     "duration": null,
     "end_time": null,
     "exception": null,
     "start_time": null,
     "status": "pending"
    },
    "tags": []
   },
   "outputs": [],
   "source": [
    "for k in osa_data_b_scores.keys():\n",
    "    osa_data_b_scores[k]['xgboost'] = scores[k]"
   ]
  },
  {
   "cell_type": "code",
   "execution_count": null,
   "id": "06f86802",
   "metadata": {
    "papermill": {
     "duration": null,
     "end_time": null,
     "exception": null,
     "start_time": null,
     "status": "pending"
    },
    "scrolled": true,
    "tags": []
   },
   "outputs": [],
   "source": [
    "fig, ax = plt.subplots(figsize=(30, 20))\n",
    "grid_xgb3.best_estimator_.get_booster().feature_names = features_b\n",
    "\n",
    "xgb_plot_importance(grid_xgb3.best_estimator_, ax=ax, importance_type='weight')\n",
    "plt.show()"
   ]
  },
  {
   "cell_type": "code",
   "execution_count": null,
   "id": "8488f4c7",
   "metadata": {
    "papermill": {
     "duration": null,
     "end_time": null,
     "exception": null,
     "start_time": null,
     "status": "pending"
    },
    "tags": []
   },
   "outputs": [],
   "source": [
    "fig, ax = plt.subplots(figsize=(30, 20))\n",
    "\n",
    "xgb_plot_importance(grid_xgb3.best_estimator_, ax=ax, importance_type='gain')\n",
    "plt.show()"
   ]
  },
  {
   "cell_type": "code",
   "execution_count": null,
   "id": "23a3b0a6",
   "metadata": {
    "papermill": {
     "duration": null,
     "end_time": null,
     "exception": null,
     "start_time": null,
     "status": "pending"
    },
    "tags": []
   },
   "outputs": [],
   "source": [
    "fig, ax = plt.subplots(figsize=(30, 20))\n",
    "\n",
    "xgb_plot_importance(grid_xgb3.best_estimator_, ax=ax, importance_type='cover')\n",
    "plt.show()"
   ]
  },
  {
   "cell_type": "code",
   "execution_count": null,
   "id": "b4b76531",
   "metadata": {
    "papermill": {
     "duration": null,
     "end_time": null,
     "exception": null,
     "start_time": null,
     "status": "pending"
    },
    "tags": []
   },
   "outputs": [],
   "source": [
    "osa_data_a_scores"
   ]
  },
  {
   "cell_type": "code",
   "execution_count": null,
   "id": "a1b31e4f",
   "metadata": {
    "papermill": {
     "duration": null,
     "end_time": null,
     "exception": null,
     "start_time": null,
     "status": "pending"
    },
    "tags": []
   },
   "outputs": [],
   "source": [
    "osa_data_b_scores"
   ]
  }
 ],
 "metadata": {
  "kernelspec": {
   "display_name": "Python 3 (ipykernel)",
   "language": "python",
   "name": "python3"
  },
  "language_info": {
   "codemirror_mode": {
    "name": "ipython",
    "version": 3
   },
   "file_extension": ".py",
   "mimetype": "text/x-python",
   "name": "python",
   "nbconvert_exporter": "python",
   "pygments_lexer": "ipython3",
   "version": "3.9.7"
  },
  "papermill": {
   "default_parameters": {},
   "duration": 2043.707155,
   "end_time": "2022-06-28T11:39:53.205345",
   "environment_variables": {},
   "exception": true,
   "input_path": "__notebook__.ipynb",
   "output_path": "__notebook__.ipynb",
   "parameters": {},
   "start_time": "2022-06-28T11:05:49.498190",
   "version": "2.3.4"
  }
 },
 "nbformat": 4,
 "nbformat_minor": 5
}
